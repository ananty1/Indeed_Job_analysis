{
  "cells": [
    {
      "cell_type": "markdown",
      "id": "158fc797-598c-4bbf-a4ad-5dd9eb8f1810",
      "metadata": {
        "id": "158fc797-598c-4bbf-a4ad-5dd9eb8f1810"
      },
      "source": [
        "# Data Analysis and Visualization Assignment-1\n",
        "\n",
        "## Team Memebers (NAME + ROLL)\n",
        "-   Chirag - 12140520\n",
        "-   Anant Yadav -12140190"
      ]
    },
    {
      "cell_type": "markdown",
      "id": "ea44e71d-4b22-4f0c-8b49-793407c0fe99",
      "metadata": {
        "id": "ea44e71d-4b22-4f0c-8b49-793407c0fe99"
      },
      "source": [
        "# Data Scraping + EDA + Clustering"
      ]
    },
    {
      "cell_type": "code",
      "execution_count": 1,
      "id": "5636170a-3ea7-49dd-8043-e2a9cd1b4fc2",
      "metadata": {
        "id": "5636170a-3ea7-49dd-8043-e2a9cd1b4fc2",
        "outputId": "8805b061-8802-41c2-f557-cc88f1f0e373",
        "tags": []
      },
      "outputs": [
        {
          "name": "stdout",
          "output_type": "stream",
          "text": [
            "Requirement already satisfied: beautifulsoup4 in ./myEnv/lib/python3.10/site-packages (4.12.2)\n",
            "Requirement already satisfied: selenium in ./myEnv/lib/python3.10/site-packages (4.11.2)\n",
            "Requirement already satisfied: webdriver_manager in ./myEnv/lib/python3.10/site-packages (4.0.0)\n",
            "Requirement already satisfied: tqdm in ./myEnv/lib/python3.10/site-packages (4.66.1)\n",
            "Requirement already satisfied: lxml in ./myEnv/lib/python3.10/site-packages (4.9.3)\n",
            "Requirement already satisfied: soupsieve>1.2 in ./myEnv/lib/python3.10/site-packages (from beautifulsoup4) (2.4.1)\n",
            "Requirement already satisfied: urllib3[socks]<3,>=1.26 in ./myEnv/lib/python3.10/site-packages (from selenium) (2.0.4)\n",
            "Requirement already satisfied: trio~=0.17 in ./myEnv/lib/python3.10/site-packages (from selenium) (0.22.2)\n",
            "Requirement already satisfied: trio-websocket~=0.9 in ./myEnv/lib/python3.10/site-packages (from selenium) (0.10.3)\n",
            "Requirement already satisfied: certifi>=2021.10.8 in ./myEnv/lib/python3.10/site-packages (from selenium) (2023.7.22)\n",
            "Requirement already satisfied: requests in ./myEnv/lib/python3.10/site-packages (from webdriver_manager) (2.31.0)\n",
            "Requirement already satisfied: python-dotenv in ./myEnv/lib/python3.10/site-packages (from webdriver_manager) (1.0.0)\n",
            "Requirement already satisfied: packaging in ./myEnv/lib/python3.10/site-packages (from webdriver_manager) (23.1)\n",
            "Requirement already satisfied: attrs>=20.1.0 in ./myEnv/lib/python3.10/site-packages (from trio~=0.17->selenium) (23.1.0)\n",
            "Requirement already satisfied: sortedcontainers in ./myEnv/lib/python3.10/site-packages (from trio~=0.17->selenium) (2.4.0)\n",
            "Requirement already satisfied: idna in ./myEnv/lib/python3.10/site-packages (from trio~=0.17->selenium) (3.4)\n",
            "Requirement already satisfied: outcome in ./myEnv/lib/python3.10/site-packages (from trio~=0.17->selenium) (1.2.0)\n",
            "Requirement already satisfied: sniffio in ./myEnv/lib/python3.10/site-packages (from trio~=0.17->selenium) (1.3.0)\n",
            "Requirement already satisfied: exceptiongroup>=1.0.0rc9 in ./myEnv/lib/python3.10/site-packages (from trio~=0.17->selenium) (1.1.3)\n",
            "Requirement already satisfied: wsproto>=0.14 in ./myEnv/lib/python3.10/site-packages (from trio-websocket~=0.9->selenium) (1.2.0)\n",
            "Requirement already satisfied: pysocks!=1.5.7,<2.0,>=1.5.6 in ./myEnv/lib/python3.10/site-packages (from urllib3[socks]<3,>=1.26->selenium) (1.7.1)\n",
            "Requirement already satisfied: charset-normalizer<4,>=2 in ./myEnv/lib/python3.10/site-packages (from requests->webdriver_manager) (3.2.0)\n",
            "Requirement already satisfied: h11<1,>=0.9.0 in ./myEnv/lib/python3.10/site-packages (from wsproto>=0.14->trio-websocket~=0.9->selenium) (0.14.0)\n",
            "Note: you may need to restart the kernel to use updated packages.\n"
          ]
        }
      ],
      "source": [
        "%pip install beautifulsoup4 selenium webdriver_manager tqdm lxml"
      ]
    },
    {
      "cell_type": "markdown",
      "id": "c82b0ba1-7dc0-4431-8e3d-f7f1a95112d7",
      "metadata": {
        "id": "c82b0ba1-7dc0-4431-8e3d-f7f1a95112d7",
        "jp-MarkdownHeadingCollapsed": true,
        "tags": []
      },
      "source": [
        "## Import Libraries"
      ]
    },
    {
      "cell_type": "code",
      "execution_count": 2,
      "id": "7c412ccd-9e5e-4a3a-b084-4da229040897",
      "metadata": {
        "id": "7c412ccd-9e5e-4a3a-b084-4da229040897"
      },
      "outputs": [],
      "source": [
        "import time\n",
        "import os\n",
        "import re\n",
        "from bs4 import BeautifulSoup\n",
        "from selenium import webdriver\n",
        "from webdriver_manager.chrome import ChromeDriverManager\n",
        "from selenium.webdriver.chrome.service import Service\n",
        "from selenium.webdriver.chrome.options import Options\n",
        "from tqdm import tqdm\n",
        "import lxml"
      ]
    },
    {
      "cell_type": "code",
      "execution_count": 3,
      "id": "33651446",
      "metadata": {
        "id": "33651446"
      },
      "outputs": [],
      "source": [
        "import pandas as pd\n",
        "import numpy as np\n",
        "import matplotlib.pyplot as plt\n",
        "import seaborn as sns\n",
        "import plotly.express as px\n"
      ]
    },
    {
      "cell_type": "markdown",
      "id": "27db8064-bcbf-42ca-877f-89170d6054a3",
      "metadata": {
        "id": "27db8064-bcbf-42ca-877f-89170d6054a3",
        "jp-MarkdownHeadingCollapsed": true,
        "tags": []
      },
      "source": [
        "## WebDriver Creation"
      ]
    },
    {
      "cell_type": "code",
      "execution_count": 4,
      "id": "d775f4eb",
      "metadata": {
        "id": "d775f4eb"
      },
      "outputs": [],
      "source": [
        "from selenium import webdriver\n",
        "from selenium.webdriver.chrome.options import Options"
      ]
    },
    {
      "cell_type": "code",
      "execution_count": 5,
      "id": "b0b71750-b5c3-413d-9d7f-1c0e89826788",
      "metadata": {
        "id": "b0b71750-b5c3-413d-9d7f-1c0e89826788",
        "tags": []
      },
      "outputs": [],
      "source": [
        "# Driver creation\n",
        "chrome_options = Options() # Initializing am options object\n",
        "\n",
        "#chrome_options.add_argument(\"--headless\") # Ensure GUI is off\n",
        "chrome_options.add_argument(\"--no-sandbox\")\n",
        "#chrome_options.add_argument(\"--incognito\")\n",
        "#chrome_options.binary_location = \"/sbin/brave\" # optional, if you don't have chrome\n",
        "\n",
        "# Silent download of drivers\n",
        "os.environ['WDM_LOG'] = 'False'\n",
        "\n",
        "# Create service\n",
        "webdriver_service = Service(ChromeDriverManager().install())\n",
        "driver = webdriver.Chrome(service = webdriver_service, options = chrome_options)"
      ]
    },
    {
      "cell_type": "markdown",
      "id": "ef0dd773-f22d-472f-9613-201517176181",
      "metadata": {
        "id": "ef0dd773-f22d-472f-9613-201517176181"
      },
      "source": [
        "## Data Scraping\n",
        "Scrape the job-postings for the following roles in India:\n",
        "- Data Engineer\n",
        "- Data Analyst\n",
        "- Data Scientist\n",
        "- Machine Learning Engineer\n",
        "\n",
        "**Instructions**\n",
        "- Scrape 300 Job postings per role\n",
        "- For each job posting, extract the following information:\n",
        "     - job_title\n",
        "     - job_role (one of the above 4)\n",
        "     - company\n",
        "     - job_location\n",
        "     - job_summary\n",
        "     - post_date (posted how many days ago)\n",
        "     - today (date)\n",
        "     - job_salary(if not present, fill it with NaN)\n",
        "     - Job_url\n",
        "- Create a dataframe from this information"
      ]
    },
    {
      "cell_type": "code",
      "execution_count": 6,
      "id": "a402806d",
      "metadata": {
        "id": "a402806d"
      },
      "outputs": [],
      "source": [
        "from selenium.webdriver.support.ui import WebDriverWait\n",
        "from datetime import datetime"
      ]
    },
    {
      "cell_type": "code",
      "execution_count": 14,
      "id": "a2ba7da6",
      "metadata": {
        "id": "a2ba7da6",
        "outputId": "3b7daa71-392d-425f-c125-04b822a2a1c9"
      },
      "outputs": [
        {
          "name": "stdout",
          "output_type": "stream",
          "text": [
            "Companies offering jobs for Data Engineer role:-\n"
          ]
        }
      ],
      "source": [
        "Total_jobs=[]\n",
        "roles = ['Data Engineer', 'Data Analyst', 'Data Scientist', 'Machine Learning Engineer']\n",
        "# Scrape 300 Job postings per role\n",
        "\n",
        "for role in roles:\n",
        "    print(f\"Companies offering jobs for {role} role:-\")\n",
        "    cnt=0\n",
        "    for i in range(40):\n",
        "        cnt+=1\n",
        "        link = f\"https://in.indeed.com/jobs?q={role.replace(' ', '+')}&l=India&start={10*i}\"\n",
        "        driver.get(link)\n",
        "        page_source = driver.page_source\n",
        "        # Parse 1-page\n",
        "        soup = BeautifulSoup(page_source, 'lxml')\n",
        "        all_jobs = soup.find_all('div', attrs = {'class':'job_seen_beacon'})\n",
        "       \n",
        "        \n",
        "        for jobs in all_jobs:\n",
        "            dict_job={}\n",
        "            try:\n",
        "                dict_job['title']=jobs.find('h2', attrs = {'class' : 'jobTitle css-mr1oe7 eu4oa1w0'}).text\n",
        "                dict_job['job_role']=role\n",
        "                dict_job['companyName']=jobs.find('span', attrs = {'class' : 'companyName'}).text\n",
        "                dict_job['job_location']=jobs.find('div', attrs = {'class' : 'companyLocation'}).text\n",
        "                dict_job['Job_Summary']=jobs.find('div',attrs={'class':'job-snippet'}).text.strip()\n",
        "                dict_job['post_date']=jobs.find('span',attrs={'class':'date'}).text\n",
        "                salary=jobs.find('div', attrs = {'class' : 'metadata salary-snippet-container'})\n",
        "                if salary:\n",
        "                    dict_job['salary']=salary.text\n",
        "                else:\n",
        "                    dict_job['salary']=float(\"NaN\")\n",
        "\n",
        "                dict_job['today_date']=datetime.today().strftime('%Y-%m-%d')\n",
        "\n",
        "                dict_job['Job_url']=f\"https://in.indeed.com{jobs.find('a',attrs={'class' : 'jcs-JobTitle css-jspxzf eu4oa1w0'})['href']}\"\n",
        "            except Exception as e:\n",
        "                Errors=e\n",
        "            break;\n",
        "            Total_jobs.append(dict_job)\n",
        "        time.sleep(4)\n",
        "        break;\n",
        "    break;\n",
        "        \n",
        "   "
      ]
    },
    {
      "cell_type": "code",
      "execution_count": 13,
      "id": "8a9c6f93",
      "metadata": {
        "id": "8a9c6f93",
        "outputId": "0ea8512e-cdb8-426c-f810-6e142b3d98d4"
      },
      "outputs": [
        {
          "data": {
            "text/plain": [
              "[{},\n",
              " {},\n",
              " {},\n",
              " {},\n",
              " {},\n",
              " {},\n",
              " {},\n",
              " {},\n",
              " {},\n",
              " {},\n",
              " {},\n",
              " {},\n",
              " {},\n",
              " {},\n",
              " {},\n",
              " {},\n",
              " {},\n",
              " {},\n",
              " {},\n",
              " {},\n",
              " {},\n",
              " {},\n",
              " {},\n",
              " {},\n",
              " {},\n",
              " {},\n",
              " {},\n",
              " {},\n",
              " {},\n",
              " {},\n",
              " {},\n",
              " {},\n",
              " {},\n",
              " {},\n",
              " {},\n",
              " {},\n",
              " {},\n",
              " {},\n",
              " {},\n",
              " {},\n",
              " {},\n",
              " {},\n",
              " {},\n",
              " {},\n",
              " {},\n",
              " {},\n",
              " {},\n",
              " {},\n",
              " {},\n",
              " {},\n",
              " {},\n",
              " {},\n",
              " {},\n",
              " {},\n",
              " {},\n",
              " {},\n",
              " {},\n",
              " {},\n",
              " {},\n",
              " {},\n",
              " {},\n",
              " {},\n",
              " {},\n",
              " {},\n",
              " {},\n",
              " {},\n",
              " {},\n",
              " {},\n",
              " {},\n",
              " {},\n",
              " {},\n",
              " {},\n",
              " {},\n",
              " {},\n",
              " {},\n",
              " {},\n",
              " {},\n",
              " {},\n",
              " {},\n",
              " {},\n",
              " {},\n",
              " {},\n",
              " {},\n",
              " {},\n",
              " {},\n",
              " {},\n",
              " {},\n",
              " {},\n",
              " {},\n",
              " {},\n",
              " {},\n",
              " {},\n",
              " {},\n",
              " {},\n",
              " {},\n",
              " {},\n",
              " {},\n",
              " {},\n",
              " {},\n",
              " {},\n",
              " {},\n",
              " {},\n",
              " {},\n",
              " {},\n",
              " {},\n",
              " {},\n",
              " {},\n",
              " {},\n",
              " {},\n",
              " {},\n",
              " {},\n",
              " {},\n",
              " {},\n",
              " {},\n",
              " {},\n",
              " {},\n",
              " {},\n",
              " {},\n",
              " {},\n",
              " {},\n",
              " {},\n",
              " {},\n",
              " {},\n",
              " {},\n",
              " {},\n",
              " {},\n",
              " {},\n",
              " {},\n",
              " {},\n",
              " {},\n",
              " {},\n",
              " {},\n",
              " {},\n",
              " {},\n",
              " {},\n",
              " {},\n",
              " {},\n",
              " {},\n",
              " {},\n",
              " {},\n",
              " {},\n",
              " {},\n",
              " {},\n",
              " {},\n",
              " {},\n",
              " {},\n",
              " {},\n",
              " {},\n",
              " {},\n",
              " {},\n",
              " {},\n",
              " {},\n",
              " {},\n",
              " {},\n",
              " {},\n",
              " {},\n",
              " {},\n",
              " {},\n",
              " {},\n",
              " {},\n",
              " {},\n",
              " {},\n",
              " {},\n",
              " {},\n",
              " {},\n",
              " {},\n",
              " {},\n",
              " {},\n",
              " {},\n",
              " {},\n",
              " {},\n",
              " {},\n",
              " {},\n",
              " {},\n",
              " {},\n",
              " {},\n",
              " {},\n",
              " {},\n",
              " {},\n",
              " {},\n",
              " {},\n",
              " {},\n",
              " {},\n",
              " {},\n",
              " {},\n",
              " {},\n",
              " {},\n",
              " {},\n",
              " {},\n",
              " {},\n",
              " {},\n",
              " {},\n",
              " {},\n",
              " {},\n",
              " {},\n",
              " {},\n",
              " {},\n",
              " {},\n",
              " {},\n",
              " {},\n",
              " {},\n",
              " {},\n",
              " {},\n",
              " {},\n",
              " {},\n",
              " {},\n",
              " {},\n",
              " {},\n",
              " {},\n",
              " {},\n",
              " {},\n",
              " {},\n",
              " {},\n",
              " {},\n",
              " {},\n",
              " {},\n",
              " {},\n",
              " {},\n",
              " {},\n",
              " {},\n",
              " {},\n",
              " {},\n",
              " {},\n",
              " {},\n",
              " {},\n",
              " {},\n",
              " {},\n",
              " {},\n",
              " {},\n",
              " {},\n",
              " {},\n",
              " {},\n",
              " {},\n",
              " {},\n",
              " {},\n",
              " {},\n",
              " {},\n",
              " {},\n",
              " {},\n",
              " {},\n",
              " {},\n",
              " {},\n",
              " {},\n",
              " {},\n",
              " {},\n",
              " {},\n",
              " {},\n",
              " {},\n",
              " {},\n",
              " {},\n",
              " {},\n",
              " {},\n",
              " {},\n",
              " {},\n",
              " {},\n",
              " {},\n",
              " {},\n",
              " {},\n",
              " {},\n",
              " {},\n",
              " {},\n",
              " {},\n",
              " {},\n",
              " {},\n",
              " {},\n",
              " {},\n",
              " {},\n",
              " {},\n",
              " {},\n",
              " {},\n",
              " {},\n",
              " {},\n",
              " {},\n",
              " {},\n",
              " {},\n",
              " {},\n",
              " {},\n",
              " {},\n",
              " {},\n",
              " {},\n",
              " {},\n",
              " {},\n",
              " {},\n",
              " {},\n",
              " {},\n",
              " {},\n",
              " {},\n",
              " {},\n",
              " {},\n",
              " {},\n",
              " {},\n",
              " {},\n",
              " {},\n",
              " {},\n",
              " {},\n",
              " {},\n",
              " {},\n",
              " {},\n",
              " {},\n",
              " {},\n",
              " {},\n",
              " {},\n",
              " {},\n",
              " {},\n",
              " {},\n",
              " {},\n",
              " {},\n",
              " {},\n",
              " {},\n",
              " {},\n",
              " {},\n",
              " {},\n",
              " {},\n",
              " {},\n",
              " {},\n",
              " {},\n",
              " {},\n",
              " {},\n",
              " {},\n",
              " {},\n",
              " {},\n",
              " {},\n",
              " {},\n",
              " {},\n",
              " {},\n",
              " {},\n",
              " {},\n",
              " {},\n",
              " {},\n",
              " {},\n",
              " {},\n",
              " {},\n",
              " {},\n",
              " {},\n",
              " {},\n",
              " {},\n",
              " {},\n",
              " {},\n",
              " {},\n",
              " {},\n",
              " {},\n",
              " {},\n",
              " {},\n",
              " {},\n",
              " {},\n",
              " {},\n",
              " {},\n",
              " {},\n",
              " {},\n",
              " {},\n",
              " {},\n",
              " {},\n",
              " {},\n",
              " {},\n",
              " {},\n",
              " {},\n",
              " {},\n",
              " {},\n",
              " {},\n",
              " {},\n",
              " {},\n",
              " {},\n",
              " {},\n",
              " {},\n",
              " {},\n",
              " {},\n",
              " {},\n",
              " {},\n",
              " {},\n",
              " {},\n",
              " {},\n",
              " {},\n",
              " {},\n",
              " {},\n",
              " {},\n",
              " {},\n",
              " {},\n",
              " {},\n",
              " {},\n",
              " {},\n",
              " {},\n",
              " {},\n",
              " {},\n",
              " {},\n",
              " {},\n",
              " {},\n",
              " {},\n",
              " {},\n",
              " {},\n",
              " {},\n",
              " {},\n",
              " {},\n",
              " {},\n",
              " {},\n",
              " {},\n",
              " {},\n",
              " {},\n",
              " {},\n",
              " {},\n",
              " {},\n",
              " {},\n",
              " {},\n",
              " {},\n",
              " {},\n",
              " {},\n",
              " {},\n",
              " {},\n",
              " {},\n",
              " {},\n",
              " {},\n",
              " {},\n",
              " {},\n",
              " {},\n",
              " {},\n",
              " {},\n",
              " {},\n",
              " {},\n",
              " {},\n",
              " {},\n",
              " {},\n",
              " {},\n",
              " {},\n",
              " {},\n",
              " {},\n",
              " {},\n",
              " {},\n",
              " {},\n",
              " {},\n",
              " {},\n",
              " {},\n",
              " {},\n",
              " {},\n",
              " {},\n",
              " {},\n",
              " {},\n",
              " {},\n",
              " {},\n",
              " {},\n",
              " {},\n",
              " {},\n",
              " {},\n",
              " {},\n",
              " {},\n",
              " {},\n",
              " {},\n",
              " {},\n",
              " {},\n",
              " {},\n",
              " {},\n",
              " {},\n",
              " {},\n",
              " {},\n",
              " {},\n",
              " {},\n",
              " {},\n",
              " {},\n",
              " {},\n",
              " {},\n",
              " {},\n",
              " {},\n",
              " {},\n",
              " {},\n",
              " {},\n",
              " {},\n",
              " {},\n",
              " {},\n",
              " {},\n",
              " {},\n",
              " {},\n",
              " {},\n",
              " {},\n",
              " {},\n",
              " {},\n",
              " {},\n",
              " {},\n",
              " {},\n",
              " {},\n",
              " {},\n",
              " {},\n",
              " {},\n",
              " {},\n",
              " {},\n",
              " {},\n",
              " {},\n",
              " {},\n",
              " {},\n",
              " {},\n",
              " {},\n",
              " {},\n",
              " {},\n",
              " {},\n",
              " {},\n",
              " {},\n",
              " {},\n",
              " {},\n",
              " {},\n",
              " {},\n",
              " {},\n",
              " {},\n",
              " {},\n",
              " {},\n",
              " {},\n",
              " {},\n",
              " {},\n",
              " {},\n",
              " {},\n",
              " {},\n",
              " {},\n",
              " {},\n",
              " {},\n",
              " {},\n",
              " {},\n",
              " {},\n",
              " {},\n",
              " {},\n",
              " {},\n",
              " {},\n",
              " {},\n",
              " {},\n",
              " {},\n",
              " {},\n",
              " {},\n",
              " {},\n",
              " {},\n",
              " {},\n",
              " {},\n",
              " {},\n",
              " {},\n",
              " {},\n",
              " {},\n",
              " {},\n",
              " {},\n",
              " {},\n",
              " {},\n",
              " {},\n",
              " {},\n",
              " {},\n",
              " {},\n",
              " {},\n",
              " {},\n",
              " {},\n",
              " {},\n",
              " {},\n",
              " {},\n",
              " {},\n",
              " {},\n",
              " {},\n",
              " {},\n",
              " {},\n",
              " {},\n",
              " {},\n",
              " {},\n",
              " {},\n",
              " {},\n",
              " {},\n",
              " {},\n",
              " {},\n",
              " {},\n",
              " {},\n",
              " {},\n",
              " {},\n",
              " {},\n",
              " {},\n",
              " {},\n",
              " {},\n",
              " {},\n",
              " {},\n",
              " {},\n",
              " {},\n",
              " {},\n",
              " {},\n",
              " {},\n",
              " {},\n",
              " {},\n",
              " {},\n",
              " {},\n",
              " {},\n",
              " {},\n",
              " {},\n",
              " {},\n",
              " {},\n",
              " {},\n",
              " {},\n",
              " {},\n",
              " {},\n",
              " {},\n",
              " {},\n",
              " {},\n",
              " {},\n",
              " {},\n",
              " {},\n",
              " {},\n",
              " {},\n",
              " {},\n",
              " {},\n",
              " {},\n",
              " {},\n",
              " {},\n",
              " {},\n",
              " {},\n",
              " {},\n",
              " {},\n",
              " {},\n",
              " {},\n",
              " {},\n",
              " {},\n",
              " {},\n",
              " {},\n",
              " {},\n",
              " {},\n",
              " {},\n",
              " {},\n",
              " {},\n",
              " {},\n",
              " {},\n",
              " {},\n",
              " {},\n",
              " {},\n",
              " {},\n",
              " {},\n",
              " {},\n",
              " {},\n",
              " {},\n",
              " {},\n",
              " {},\n",
              " {},\n",
              " {},\n",
              " {},\n",
              " {},\n",
              " {},\n",
              " {},\n",
              " {},\n",
              " {},\n",
              " {},\n",
              " {},\n",
              " {},\n",
              " {},\n",
              " {},\n",
              " {},\n",
              " {},\n",
              " {},\n",
              " {},\n",
              " {},\n",
              " {},\n",
              " {},\n",
              " {},\n",
              " {},\n",
              " {},\n",
              " {},\n",
              " {},\n",
              " {},\n",
              " {},\n",
              " {},\n",
              " {},\n",
              " {},\n",
              " {},\n",
              " {},\n",
              " {},\n",
              " {},\n",
              " {},\n",
              " {},\n",
              " {},\n",
              " {},\n",
              " {},\n",
              " {},\n",
              " {},\n",
              " {},\n",
              " {},\n",
              " {},\n",
              " {},\n",
              " {},\n",
              " {},\n",
              " {},\n",
              " {},\n",
              " {},\n",
              " {},\n",
              " {},\n",
              " {},\n",
              " {},\n",
              " {},\n",
              " {},\n",
              " {},\n",
              " {},\n",
              " {},\n",
              " {},\n",
              " {},\n",
              " {},\n",
              " {},\n",
              " {},\n",
              " {},\n",
              " {},\n",
              " {},\n",
              " {},\n",
              " {},\n",
              " {},\n",
              " {},\n",
              " {},\n",
              " {},\n",
              " {},\n",
              " {},\n",
              " {},\n",
              " {},\n",
              " {},\n",
              " {},\n",
              " {},\n",
              " {},\n",
              " {},\n",
              " {},\n",
              " {},\n",
              " {},\n",
              " {},\n",
              " {},\n",
              " {},\n",
              " {},\n",
              " {},\n",
              " {},\n",
              " {},\n",
              " {},\n",
              " {},\n",
              " {},\n",
              " {},\n",
              " {},\n",
              " {},\n",
              " {},\n",
              " {},\n",
              " {},\n",
              " {},\n",
              " {},\n",
              " {},\n",
              " {},\n",
              " {},\n",
              " {},\n",
              " {},\n",
              " {},\n",
              " {},\n",
              " {},\n",
              " {},\n",
              " {},\n",
              " {},\n",
              " {},\n",
              " {},\n",
              " {},\n",
              " {},\n",
              " {},\n",
              " {},\n",
              " {},\n",
              " {},\n",
              " {},\n",
              " {},\n",
              " {},\n",
              " {},\n",
              " {},\n",
              " {},\n",
              " {},\n",
              " {},\n",
              " {},\n",
              " {},\n",
              " {},\n",
              " {},\n",
              " {},\n",
              " {},\n",
              " {},\n",
              " {},\n",
              " {},\n",
              " {},\n",
              " {},\n",
              " {},\n",
              " {},\n",
              " {},\n",
              " {},\n",
              " {},\n",
              " {},\n",
              " {},\n",
              " {},\n",
              " {},\n",
              " {},\n",
              " {},\n",
              " {},\n",
              " {},\n",
              " {},\n",
              " {},\n",
              " {},\n",
              " {},\n",
              " {},\n",
              " {},\n",
              " {},\n",
              " {},\n",
              " {},\n",
              " {},\n",
              " {},\n",
              " {},\n",
              " {},\n",
              " {},\n",
              " {},\n",
              " {},\n",
              " {},\n",
              " {},\n",
              " {},\n",
              " {},\n",
              " {},\n",
              " {},\n",
              " {},\n",
              " {},\n",
              " {},\n",
              " {},\n",
              " {},\n",
              " {},\n",
              " {},\n",
              " {},\n",
              " {},\n",
              " {},\n",
              " {},\n",
              " {},\n",
              " {},\n",
              " {},\n",
              " {},\n",
              " {},\n",
              " {},\n",
              " {},\n",
              " {},\n",
              " {},\n",
              " {},\n",
              " {},\n",
              " {},\n",
              " {},\n",
              " {},\n",
              " {},\n",
              " {},\n",
              " {},\n",
              " {},\n",
              " {},\n",
              " {},\n",
              " {},\n",
              " {},\n",
              " {},\n",
              " {},\n",
              " {},\n",
              " {},\n",
              " {},\n",
              " {},\n",
              " {},\n",
              " {},\n",
              " {},\n",
              " {},\n",
              " {},\n",
              " {},\n",
              " {},\n",
              " {},\n",
              " {},\n",
              " {},\n",
              " {},\n",
              " {},\n",
              " {},\n",
              " {},\n",
              " {},\n",
              " {},\n",
              " {},\n",
              " {},\n",
              " {},\n",
              " {},\n",
              " {},\n",
              " {},\n",
              " {},\n",
              " {},\n",
              " {},\n",
              " {},\n",
              " {},\n",
              " {},\n",
              " {},\n",
              " {},\n",
              " {},\n",
              " {},\n",
              " {},\n",
              " {},\n",
              " {},\n",
              " {},\n",
              " {},\n",
              " {},\n",
              " {},\n",
              " {},\n",
              " {},\n",
              " {},\n",
              " {},\n",
              " {},\n",
              " {},\n",
              " {},\n",
              " {},\n",
              " {},\n",
              " {},\n",
              " {},\n",
              " {},\n",
              " {},\n",
              " {},\n",
              " {},\n",
              " {},\n",
              " {},\n",
              " {},\n",
              " {},\n",
              " {},\n",
              " {},\n",
              " {},\n",
              " {},\n",
              " {},\n",
              " {},\n",
              " {},\n",
              " {},\n",
              " {},\n",
              " {},\n",
              " {},\n",
              " {},\n",
              " {},\n",
              " {},\n",
              " {},\n",
              " {},\n",
              " {},\n",
              " {},\n",
              " {},\n",
              " {},\n",
              " {},\n",
              " {},\n",
              " {},\n",
              " {},\n",
              " {},\n",
              " {},\n",
              " {},\n",
              " {},\n",
              " {},\n",
              " {},\n",
              " {},\n",
              " {},\n",
              " {},\n",
              " {},\n",
              " {},\n",
              " {},\n",
              " {},\n",
              " {},\n",
              " {},\n",
              " {},\n",
              " {},\n",
              " {},\n",
              " {},\n",
              " {},\n",
              " {},\n",
              " {},\n",
              " {},\n",
              " {},\n",
              " {},\n",
              " {},\n",
              " {},\n",
              " {},\n",
              " {},\n",
              " {},\n",
              " {},\n",
              " {},\n",
              " {},\n",
              " {},\n",
              " {},\n",
              " {},\n",
              " {},\n",
              " {},\n",
              " {},\n",
              " {},\n",
              " {},\n",
              " {},\n",
              " {},\n",
              " {},\n",
              " {},\n",
              " {},\n",
              " {},\n",
              " {},\n",
              " {},\n",
              " {},\n",
              " {},\n",
              " {},\n",
              " {},\n",
              " {},\n",
              " {},\n",
              " {},\n",
              " {},\n",
              " {},\n",
              " {},\n",
              " {},\n",
              " {},\n",
              " {},\n",
              " {},\n",
              " {},\n",
              " {},\n",
              " {},\n",
              " {},\n",
              " {},\n",
              " {},\n",
              " {},\n",
              " {},\n",
              " {},\n",
              " {},\n",
              " {},\n",
              " {},\n",
              " {},\n",
              " {},\n",
              " {},\n",
              " ...]"
            ]
          },
          "execution_count": 13,
          "metadata": {},
          "output_type": "execute_result"
        }
      ],
      "source": [
        "Total_jobs"
      ]
    },
    {
      "cell_type": "code",
      "execution_count": 9,
      "id": "10ff2434",
      "metadata": {
        "id": "10ff2434"
      },
      "outputs": [],
      "source": [
        "df = pd.DataFrame(Total_jobs)"
      ]
    },
    {
      "cell_type": "code",
      "execution_count": 10,
      "id": "568b5202",
      "metadata": {
        "id": "568b5202"
      },
      "outputs": [],
      "source": [
        "df.to_csv('dataset/Indeed.csv', index=False)"
      ]
    },
    {
      "cell_type": "markdown",
      "id": "15df3182-582c-431a-95d1-b9af3f0cdae4",
      "metadata": {
        "id": "15df3182-582c-431a-95d1-b9af3f0cdae4"
      },
      "source": [
        "## Exploratory Data Analysis (EDA)\n",
        "\n",
        "### Data Cleaning\n",
        "- Clean the data.\n",
        "- Calculate the date of posting from the columns('post_data', 'today')\n",
        "- Split the 'job_salary' column into 'job_salary_lower' and 'job_salary_upper'\n",
        "- Create a new column called 'is_remote', which will be true if its a remote job.\n",
        "- Clean the 'job_location' column to include only city name in India, if no city is found, make it by default 'India'. If its remote make the value as 'Remote'\n",
        "\n",
        "### Visualization\n",
        "- How are the jobs distributed geographically?\n",
        "- Show which companies have more than 5 job-postings\n",
        "- Show the distribution of number of characters in description.\n",
        "- Show the distribution of salaries in remote jobs based on roles.\n",
        "- Show the distribution of salaries in 'Bangalore'"
      ]
    },
    {
      "cell_type": "markdown",
      "id": "132b38b9-ede2-47bd-9ecc-93715cecb584",
      "metadata": {
        "id": "132b38b9-ede2-47bd-9ecc-93715cecb584"
      },
      "source": [
        "### Data Cleaning"
      ]
    },
    {
      "cell_type": "markdown",
      "id": "932e50aa",
      "metadata": {
        "id": "932e50aa"
      },
      "source": [
        "#### Clean the Data"
      ]
    },
    {
      "cell_type": "code",
      "execution_count": 12,
      "id": "218c9f70",
      "metadata": {
        "colab": {
          "base_uri": "https://localhost:8080/",
          "height": 253
        },
        "id": "218c9f70",
        "outputId": "d21406de-023a-4613-c306-bc5a6433b173"
      },
      "outputs": [
        {
          "ename": "EmptyDataError",
          "evalue": "No columns to parse from file",
          "output_type": "error",
          "traceback": [
            "\u001b[0;31m---------------------------------------------------------------------------\u001b[0m",
            "\u001b[0;31mEmptyDataError\u001b[0m                            Traceback (most recent call last)",
            "Cell \u001b[0;32mIn[12], line 1\u001b[0m\n\u001b[0;32m----> 1\u001b[0m df \u001b[39m=\u001b[39m pd\u001b[39m.\u001b[39;49mread_csv(\u001b[39m'\u001b[39;49m\u001b[39mdataset/Indeed.csv\u001b[39;49m\u001b[39m'\u001b[39;49m)\n\u001b[1;32m      2\u001b[0m df\u001b[39m.\u001b[39mdescribe()\n",
            "File \u001b[0;32m~/Desktop/DAV-Project/myEnv/lib/python3.10/site-packages/pandas/io/parsers/readers.py:948\u001b[0m, in \u001b[0;36mread_csv\u001b[0;34m(filepath_or_buffer, sep, delimiter, header, names, index_col, usecols, dtype, engine, converters, true_values, false_values, skipinitialspace, skiprows, skipfooter, nrows, na_values, keep_default_na, na_filter, verbose, skip_blank_lines, parse_dates, infer_datetime_format, keep_date_col, date_parser, date_format, dayfirst, cache_dates, iterator, chunksize, compression, thousands, decimal, lineterminator, quotechar, quoting, doublequote, escapechar, comment, encoding, encoding_errors, dialect, on_bad_lines, delim_whitespace, low_memory, memory_map, float_precision, storage_options, dtype_backend)\u001b[0m\n\u001b[1;32m    935\u001b[0m kwds_defaults \u001b[39m=\u001b[39m _refine_defaults_read(\n\u001b[1;32m    936\u001b[0m     dialect,\n\u001b[1;32m    937\u001b[0m     delimiter,\n\u001b[0;32m   (...)\u001b[0m\n\u001b[1;32m    944\u001b[0m     dtype_backend\u001b[39m=\u001b[39mdtype_backend,\n\u001b[1;32m    945\u001b[0m )\n\u001b[1;32m    946\u001b[0m kwds\u001b[39m.\u001b[39mupdate(kwds_defaults)\n\u001b[0;32m--> 948\u001b[0m \u001b[39mreturn\u001b[39;00m _read(filepath_or_buffer, kwds)\n",
            "File \u001b[0;32m~/Desktop/DAV-Project/myEnv/lib/python3.10/site-packages/pandas/io/parsers/readers.py:611\u001b[0m, in \u001b[0;36m_read\u001b[0;34m(filepath_or_buffer, kwds)\u001b[0m\n\u001b[1;32m    608\u001b[0m _validate_names(kwds\u001b[39m.\u001b[39mget(\u001b[39m\"\u001b[39m\u001b[39mnames\u001b[39m\u001b[39m\"\u001b[39m, \u001b[39mNone\u001b[39;00m))\n\u001b[1;32m    610\u001b[0m \u001b[39m# Create the parser.\u001b[39;00m\n\u001b[0;32m--> 611\u001b[0m parser \u001b[39m=\u001b[39m TextFileReader(filepath_or_buffer, \u001b[39m*\u001b[39;49m\u001b[39m*\u001b[39;49mkwds)\n\u001b[1;32m    613\u001b[0m \u001b[39mif\u001b[39;00m chunksize \u001b[39mor\u001b[39;00m iterator:\n\u001b[1;32m    614\u001b[0m     \u001b[39mreturn\u001b[39;00m parser\n",
            "File \u001b[0;32m~/Desktop/DAV-Project/myEnv/lib/python3.10/site-packages/pandas/io/parsers/readers.py:1448\u001b[0m, in \u001b[0;36mTextFileReader.__init__\u001b[0;34m(self, f, engine, **kwds)\u001b[0m\n\u001b[1;32m   1445\u001b[0m     \u001b[39mself\u001b[39m\u001b[39m.\u001b[39moptions[\u001b[39m\"\u001b[39m\u001b[39mhas_index_names\u001b[39m\u001b[39m\"\u001b[39m] \u001b[39m=\u001b[39m kwds[\u001b[39m\"\u001b[39m\u001b[39mhas_index_names\u001b[39m\u001b[39m\"\u001b[39m]\n\u001b[1;32m   1447\u001b[0m \u001b[39mself\u001b[39m\u001b[39m.\u001b[39mhandles: IOHandles \u001b[39m|\u001b[39m \u001b[39mNone\u001b[39;00m \u001b[39m=\u001b[39m \u001b[39mNone\u001b[39;00m\n\u001b[0;32m-> 1448\u001b[0m \u001b[39mself\u001b[39m\u001b[39m.\u001b[39m_engine \u001b[39m=\u001b[39m \u001b[39mself\u001b[39;49m\u001b[39m.\u001b[39;49m_make_engine(f, \u001b[39mself\u001b[39;49m\u001b[39m.\u001b[39;49mengine)\n",
            "File \u001b[0;32m~/Desktop/DAV-Project/myEnv/lib/python3.10/site-packages/pandas/io/parsers/readers.py:1723\u001b[0m, in \u001b[0;36mTextFileReader._make_engine\u001b[0;34m(self, f, engine)\u001b[0m\n\u001b[1;32m   1720\u001b[0m     \u001b[39mraise\u001b[39;00m \u001b[39mValueError\u001b[39;00m(msg)\n\u001b[1;32m   1722\u001b[0m \u001b[39mtry\u001b[39;00m:\n\u001b[0;32m-> 1723\u001b[0m     \u001b[39mreturn\u001b[39;00m mapping[engine](f, \u001b[39m*\u001b[39;49m\u001b[39m*\u001b[39;49m\u001b[39mself\u001b[39;49m\u001b[39m.\u001b[39;49moptions)\n\u001b[1;32m   1724\u001b[0m \u001b[39mexcept\u001b[39;00m \u001b[39mException\u001b[39;00m:\n\u001b[1;32m   1725\u001b[0m     \u001b[39mif\u001b[39;00m \u001b[39mself\u001b[39m\u001b[39m.\u001b[39mhandles \u001b[39mis\u001b[39;00m \u001b[39mnot\u001b[39;00m \u001b[39mNone\u001b[39;00m:\n",
            "File \u001b[0;32m~/Desktop/DAV-Project/myEnv/lib/python3.10/site-packages/pandas/io/parsers/c_parser_wrapper.py:93\u001b[0m, in \u001b[0;36mCParserWrapper.__init__\u001b[0;34m(self, src, **kwds)\u001b[0m\n\u001b[1;32m     90\u001b[0m \u001b[39mif\u001b[39;00m kwds[\u001b[39m\"\u001b[39m\u001b[39mdtype_backend\u001b[39m\u001b[39m\"\u001b[39m] \u001b[39m==\u001b[39m \u001b[39m\"\u001b[39m\u001b[39mpyarrow\u001b[39m\u001b[39m\"\u001b[39m:\n\u001b[1;32m     91\u001b[0m     \u001b[39m# Fail here loudly instead of in cython after reading\u001b[39;00m\n\u001b[1;32m     92\u001b[0m     import_optional_dependency(\u001b[39m\"\u001b[39m\u001b[39mpyarrow\u001b[39m\u001b[39m\"\u001b[39m)\n\u001b[0;32m---> 93\u001b[0m \u001b[39mself\u001b[39m\u001b[39m.\u001b[39m_reader \u001b[39m=\u001b[39m parsers\u001b[39m.\u001b[39;49mTextReader(src, \u001b[39m*\u001b[39;49m\u001b[39m*\u001b[39;49mkwds)\n\u001b[1;32m     95\u001b[0m \u001b[39mself\u001b[39m\u001b[39m.\u001b[39munnamed_cols \u001b[39m=\u001b[39m \u001b[39mself\u001b[39m\u001b[39m.\u001b[39m_reader\u001b[39m.\u001b[39munnamed_cols\n\u001b[1;32m     97\u001b[0m \u001b[39m# error: Cannot determine type of 'names'\u001b[39;00m\n",
            "File \u001b[0;32mparsers.pyx:586\u001b[0m, in \u001b[0;36mpandas._libs.parsers.TextReader.__cinit__\u001b[0;34m()\u001b[0m\n",
            "\u001b[0;31mEmptyDataError\u001b[0m: No columns to parse from file"
          ]
        }
      ],
      "source": [
        "df = pd.read_csv('dataset/Indeed.csv')\n",
        "df.describe()"
      ]
    },
    {
      "cell_type": "code",
      "execution_count": null,
      "id": "5086f517",
      "metadata": {
        "colab": {
          "base_uri": "https://localhost:8080/",
          "height": 1000
        },
        "id": "5086f517",
        "outputId": "3a53a19b-5466-479f-fcda-60118d34c358"
      },
      "outputs": [
        {
          "data": {
            "text/html": [
              "<div>\n",
              "<style scoped>\n",
              "    .dataframe tbody tr th:only-of-type {\n",
              "        vertical-align: middle;\n",
              "    }\n",
              "\n",
              "    .dataframe tbody tr th {\n",
              "        vertical-align: top;\n",
              "    }\n",
              "\n",
              "    .dataframe thead th {\n",
              "        text-align: right;\n",
              "    }\n",
              "</style>\n",
              "<table border=\"1\" class=\"dataframe\">\n",
              "  <thead>\n",
              "    <tr style=\"text-align: right;\">\n",
              "      <th></th>\n",
              "      <th>title</th>\n",
              "      <th>job_role</th>\n",
              "      <th>companyName</th>\n",
              "      <th>job_location</th>\n",
              "      <th>Job_Summary</th>\n",
              "      <th>post_date</th>\n",
              "      <th>salary</th>\n",
              "      <th>today_date</th>\n",
              "      <th>Job_url</th>\n",
              "    </tr>\n",
              "  </thead>\n",
              "  <tbody>\n",
              "    <tr>\n",
              "      <th>0</th>\n",
              "      <td>Senior Software Engineer SQL Perl C C++ Backend</td>\n",
              "      <td>Data Engineer</td>\n",
              "      <td>London Stock Exchange Group</td>\n",
              "      <td>Hyderabad, Telangana</td>\n",
              "      <td>Work on any number of projects that may includ...</td>\n",
              "      <td>PostedPosted 30+ days ago</td>\n",
              "      <td>?</td>\n",
              "      <td>2023-08-30</td>\n",
              "      <td>https://in.indeed.com/pagead/clk?mo=r&amp;ad=-6NYl...</td>\n",
              "    </tr>\n",
              "    <tr>\n",
              "      <th>1</th>\n",
              "      <td>Software Engineer – Azure Devops</td>\n",
              "      <td>Data Engineer</td>\n",
              "      <td>London Stock Exchange Group</td>\n",
              "      <td>Hyderabad, Telangana</td>\n",
              "      <td>Work on any number of projects that may includ...</td>\n",
              "      <td>PostedPosted 30+ days ago</td>\n",
              "      <td>?</td>\n",
              "      <td>2023-08-30</td>\n",
              "      <td>https://in.indeed.com/pagead/clk?mo=r&amp;ad=-6NYl...</td>\n",
              "    </tr>\n",
              "    <tr>\n",
              "      <th>2</th>\n",
              "      <td>Data Engineer (India)</td>\n",
              "      <td>Data Engineer</td>\n",
              "      <td>Athena</td>\n",
              "      <td>Remote in Remote</td>\n",
              "      <td>Model front- &amp; back-end data sources to draw a...</td>\n",
              "      <td>EmployerActive 2 days ago</td>\n",
              "      <td>?</td>\n",
              "      <td>2023-08-30</td>\n",
              "      <td>https://in.indeed.com/pagead/clk?mo=r&amp;ad=-6NYl...</td>\n",
              "    </tr>\n",
              "    <tr>\n",
              "      <th>3</th>\n",
              "      <td>RSA-Software Senior Principal Engineer</td>\n",
              "      <td>Data Engineer</td>\n",
              "      <td>RSA</td>\n",
              "      <td>Bengaluru, Karnataka</td>\n",
              "      <td>Good understanding of object oriented design p...</td>\n",
              "      <td>PostedPosted 21 days ago</td>\n",
              "      <td>?</td>\n",
              "      <td>2023-08-30</td>\n",
              "      <td>https://in.indeed.com/pagead/clk?mo=r&amp;ad=-6NYl...</td>\n",
              "    </tr>\n",
              "    <tr>\n",
              "      <th>4</th>\n",
              "      <td>Netwitness-Software Engineer 2</td>\n",
              "      <td>Data Engineer</td>\n",
              "      <td>RSA</td>\n",
              "      <td>Bengaluru, Karnataka</td>\n",
              "      <td>Our Sales Professionals, Sales Engineers and P...</td>\n",
              "      <td>PostedPosted 30+ days ago</td>\n",
              "      <td>?</td>\n",
              "      <td>2023-08-30</td>\n",
              "      <td>https://in.indeed.com/pagead/clk?mo=r&amp;ad=-6NYl...</td>\n",
              "    </tr>\n",
              "    <tr>\n",
              "      <th>...</th>\n",
              "      <td>...</td>\n",
              "      <td>...</td>\n",
              "      <td>...</td>\n",
              "      <td>...</td>\n",
              "      <td>...</td>\n",
              "      <td>...</td>\n",
              "      <td>...</td>\n",
              "      <td>...</td>\n",
              "      <td>...</td>\n",
              "    </tr>\n",
              "    <tr>\n",
              "      <th>1750</th>\n",
              "      <td>?</td>\n",
              "      <td>NaN</td>\n",
              "      <td>NaN</td>\n",
              "      <td>NaN</td>\n",
              "      <td>NaN</td>\n",
              "      <td>NaN</td>\n",
              "      <td>?</td>\n",
              "      <td>NaN</td>\n",
              "      <td>NaN</td>\n",
              "    </tr>\n",
              "    <tr>\n",
              "      <th>1751</th>\n",
              "      <td>Graphic Designer</td>\n",
              "      <td>Machine Learning Engineer</td>\n",
              "      <td>Gryphon Digital Studio</td>\n",
              "      <td>Bengaluru, Karnataka</td>\n",
              "      <td>Experienced in Photoshop | AI | CD-R | ADOBE.\\...</td>\n",
              "      <td>EmployerActive 25 days ago</td>\n",
              "      <td>₹10,476 - ₹15,443 a month</td>\n",
              "      <td>2023-08-30</td>\n",
              "      <td>https://in.indeed.com/pagead/clk?mo=r&amp;ad=-6NYl...</td>\n",
              "    </tr>\n",
              "    <tr>\n",
              "      <th>1752</th>\n",
              "      <td>?</td>\n",
              "      <td>NaN</td>\n",
              "      <td>NaN</td>\n",
              "      <td>NaN</td>\n",
              "      <td>NaN</td>\n",
              "      <td>NaN</td>\n",
              "      <td>?</td>\n",
              "      <td>NaN</td>\n",
              "      <td>NaN</td>\n",
              "    </tr>\n",
              "    <tr>\n",
              "      <th>1753</th>\n",
              "      <td>?</td>\n",
              "      <td>NaN</td>\n",
              "      <td>NaN</td>\n",
              "      <td>NaN</td>\n",
              "      <td>NaN</td>\n",
              "      <td>NaN</td>\n",
              "      <td>?</td>\n",
              "      <td>NaN</td>\n",
              "      <td>NaN</td>\n",
              "    </tr>\n",
              "    <tr>\n",
              "      <th>1754</th>\n",
              "      <td>?</td>\n",
              "      <td>NaN</td>\n",
              "      <td>NaN</td>\n",
              "      <td>NaN</td>\n",
              "      <td>NaN</td>\n",
              "      <td>NaN</td>\n",
              "      <td>?</td>\n",
              "      <td>NaN</td>\n",
              "      <td>NaN</td>\n",
              "    </tr>\n",
              "  </tbody>\n",
              "</table>\n",
              "<p>1755 rows × 9 columns</p>\n",
              "</div>"
            ],
            "text/plain": [
              "                                                title  \\\n",
              "0     Senior Software Engineer SQL Perl C C++ Backend   \n",
              "1                    Software Engineer – Azure Devops   \n",
              "2                               Data Engineer (India)   \n",
              "3              RSA-Software Senior Principal Engineer   \n",
              "4                      Netwitness-Software Engineer 2   \n",
              "...                                               ...   \n",
              "1750                                                ?   \n",
              "1751                                 Graphic Designer   \n",
              "1752                                                ?   \n",
              "1753                                                ?   \n",
              "1754                                                ?   \n",
              "\n",
              "                       job_role                  companyName  \\\n",
              "0                 Data Engineer  London Stock Exchange Group   \n",
              "1                 Data Engineer  London Stock Exchange Group   \n",
              "2                 Data Engineer                       Athena   \n",
              "3                 Data Engineer                          RSA   \n",
              "4                 Data Engineer                          RSA   \n",
              "...                         ...                          ...   \n",
              "1750                        NaN                          NaN   \n",
              "1751  Machine Learning Engineer       Gryphon Digital Studio   \n",
              "1752                        NaN                          NaN   \n",
              "1753                        NaN                          NaN   \n",
              "1754                        NaN                          NaN   \n",
              "\n",
              "              job_location                                        Job_Summary  \\\n",
              "0     Hyderabad, Telangana  Work on any number of projects that may includ...   \n",
              "1     Hyderabad, Telangana  Work on any number of projects that may includ...   \n",
              "2         Remote in Remote  Model front- & back-end data sources to draw a...   \n",
              "3     Bengaluru, Karnataka  Good understanding of object oriented design p...   \n",
              "4     Bengaluru, Karnataka  Our Sales Professionals, Sales Engineers and P...   \n",
              "...                    ...                                                ...   \n",
              "1750                   NaN                                                NaN   \n",
              "1751  Bengaluru, Karnataka  Experienced in Photoshop | AI | CD-R | ADOBE.\\...   \n",
              "1752                   NaN                                                NaN   \n",
              "1753                   NaN                                                NaN   \n",
              "1754                   NaN                                                NaN   \n",
              "\n",
              "                       post_date                     salary  today_date  \\\n",
              "0      PostedPosted 30+ days ago                          ?  2023-08-30   \n",
              "1      PostedPosted 30+ days ago                          ?  2023-08-30   \n",
              "2      EmployerActive 2 days ago                          ?  2023-08-30   \n",
              "3       PostedPosted 21 days ago                          ?  2023-08-30   \n",
              "4      PostedPosted 30+ days ago                          ?  2023-08-30   \n",
              "...                          ...                        ...         ...   \n",
              "1750                         NaN                          ?         NaN   \n",
              "1751  EmployerActive 25 days ago  ₹10,476 - ₹15,443 a month  2023-08-30   \n",
              "1752                         NaN                          ?         NaN   \n",
              "1753                         NaN                          ?         NaN   \n",
              "1754                         NaN                          ?         NaN   \n",
              "\n",
              "                                                Job_url  \n",
              "0     https://in.indeed.com/pagead/clk?mo=r&ad=-6NYl...  \n",
              "1     https://in.indeed.com/pagead/clk?mo=r&ad=-6NYl...  \n",
              "2     https://in.indeed.com/pagead/clk?mo=r&ad=-6NYl...  \n",
              "3     https://in.indeed.com/pagead/clk?mo=r&ad=-6NYl...  \n",
              "4     https://in.indeed.com/pagead/clk?mo=r&ad=-6NYl...  \n",
              "...                                                 ...  \n",
              "1750                                                NaN  \n",
              "1751  https://in.indeed.com/pagead/clk?mo=r&ad=-6NYl...  \n",
              "1752                                                NaN  \n",
              "1753                                                NaN  \n",
              "1754                                                NaN  \n",
              "\n",
              "[1755 rows x 9 columns]"
            ]
          },
          "execution_count": 63,
          "metadata": {},
          "output_type": "execute_result"
        }
      ],
      "source": [
        "df['salary'].fillna('?', inplace=True)\n",
        "df['title'].fillna('?', inplace=True)\n",
        "df"
      ]
    },
    {
      "cell_type": "code",
      "execution_count": null,
      "id": "5e250fd7",
      "metadata": {
        "colab": {
          "base_uri": "https://localhost:8080/",
          "height": 1000
        },
        "id": "5e250fd7",
        "outputId": "43282568-0341-46f3-ca8c-3752ff0209ea"
      },
      "outputs": [
        {
          "data": {
            "text/html": [
              "<div>\n",
              "<style scoped>\n",
              "    .dataframe tbody tr th:only-of-type {\n",
              "        vertical-align: middle;\n",
              "    }\n",
              "\n",
              "    .dataframe tbody tr th {\n",
              "        vertical-align: top;\n",
              "    }\n",
              "\n",
              "    .dataframe thead th {\n",
              "        text-align: right;\n",
              "    }\n",
              "</style>\n",
              "<table border=\"1\" class=\"dataframe\">\n",
              "  <thead>\n",
              "    <tr style=\"text-align: right;\">\n",
              "      <th></th>\n",
              "      <th>title</th>\n",
              "      <th>job_role</th>\n",
              "      <th>companyName</th>\n",
              "      <th>job_location</th>\n",
              "      <th>Job_Summary</th>\n",
              "      <th>post_date</th>\n",
              "      <th>salary</th>\n",
              "      <th>today_date</th>\n",
              "      <th>Job_url</th>\n",
              "    </tr>\n",
              "  </thead>\n",
              "  <tbody>\n",
              "    <tr>\n",
              "      <th>0</th>\n",
              "      <td>Senior Software Engineer SQL Perl C C++ Backend</td>\n",
              "      <td>Data Engineer</td>\n",
              "      <td>London Stock Exchange Group</td>\n",
              "      <td>Hyderabad, Telangana</td>\n",
              "      <td>Work on any number of projects that may includ...</td>\n",
              "      <td>PostedPosted 30+ days ago</td>\n",
              "      <td>?</td>\n",
              "      <td>2023-08-30</td>\n",
              "      <td>https://in.indeed.com/pagead/clk?mo=r&amp;ad=-6NYl...</td>\n",
              "    </tr>\n",
              "    <tr>\n",
              "      <th>1</th>\n",
              "      <td>Software Engineer – Azure Devops</td>\n",
              "      <td>Data Engineer</td>\n",
              "      <td>London Stock Exchange Group</td>\n",
              "      <td>Hyderabad, Telangana</td>\n",
              "      <td>Work on any number of projects that may includ...</td>\n",
              "      <td>PostedPosted 30+ days ago</td>\n",
              "      <td>?</td>\n",
              "      <td>2023-08-30</td>\n",
              "      <td>https://in.indeed.com/pagead/clk?mo=r&amp;ad=-6NYl...</td>\n",
              "    </tr>\n",
              "    <tr>\n",
              "      <th>2</th>\n",
              "      <td>Data Engineer (India)</td>\n",
              "      <td>Data Engineer</td>\n",
              "      <td>Athena</td>\n",
              "      <td>Remote in Remote</td>\n",
              "      <td>Model front- &amp; back-end data sources to draw a...</td>\n",
              "      <td>EmployerActive 2 days ago</td>\n",
              "      <td>?</td>\n",
              "      <td>2023-08-30</td>\n",
              "      <td>https://in.indeed.com/pagead/clk?mo=r&amp;ad=-6NYl...</td>\n",
              "    </tr>\n",
              "    <tr>\n",
              "      <th>3</th>\n",
              "      <td>RSA-Software Senior Principal Engineer</td>\n",
              "      <td>Data Engineer</td>\n",
              "      <td>RSA</td>\n",
              "      <td>Bengaluru, Karnataka</td>\n",
              "      <td>Good understanding of object oriented design p...</td>\n",
              "      <td>PostedPosted 21 days ago</td>\n",
              "      <td>?</td>\n",
              "      <td>2023-08-30</td>\n",
              "      <td>https://in.indeed.com/pagead/clk?mo=r&amp;ad=-6NYl...</td>\n",
              "    </tr>\n",
              "    <tr>\n",
              "      <th>4</th>\n",
              "      <td>Netwitness-Software Engineer 2</td>\n",
              "      <td>Data Engineer</td>\n",
              "      <td>RSA</td>\n",
              "      <td>Bengaluru, Karnataka</td>\n",
              "      <td>Our Sales Professionals, Sales Engineers and P...</td>\n",
              "      <td>PostedPosted 30+ days ago</td>\n",
              "      <td>?</td>\n",
              "      <td>2023-08-30</td>\n",
              "      <td>https://in.indeed.com/pagead/clk?mo=r&amp;ad=-6NYl...</td>\n",
              "    </tr>\n",
              "    <tr>\n",
              "      <th>...</th>\n",
              "      <td>...</td>\n",
              "      <td>...</td>\n",
              "      <td>...</td>\n",
              "      <td>...</td>\n",
              "      <td>...</td>\n",
              "      <td>...</td>\n",
              "      <td>...</td>\n",
              "      <td>...</td>\n",
              "      <td>...</td>\n",
              "    </tr>\n",
              "    <tr>\n",
              "      <th>1694</th>\n",
              "      <td>Graphic Designer</td>\n",
              "      <td>Machine Learning Engineer</td>\n",
              "      <td>Gryphon Digital Studio</td>\n",
              "      <td>Bengaluru, Karnataka</td>\n",
              "      <td>Experienced in Photoshop | AI | CD-R | ADOBE.\\...</td>\n",
              "      <td>EmployerActive 25 days ago</td>\n",
              "      <td>₹10,476 - ₹15,443 a month</td>\n",
              "      <td>2023-08-30</td>\n",
              "      <td>https://in.indeed.com/pagead/clk?mo=r&amp;ad=-6NYl...</td>\n",
              "    </tr>\n",
              "    <tr>\n",
              "      <th>1709</th>\n",
              "      <td>Graphic Designer</td>\n",
              "      <td>Machine Learning Engineer</td>\n",
              "      <td>Gryphon Digital Studio</td>\n",
              "      <td>Bengaluru, Karnataka</td>\n",
              "      <td>Experienced in Photoshop | AI | CD-R | ADOBE.\\...</td>\n",
              "      <td>EmployerActive 25 days ago</td>\n",
              "      <td>₹10,476 - ₹15,443 a month</td>\n",
              "      <td>2023-08-30</td>\n",
              "      <td>https://in.indeed.com/pagead/clk?mo=r&amp;ad=-6NYl...</td>\n",
              "    </tr>\n",
              "    <tr>\n",
              "      <th>1724</th>\n",
              "      <td>Graphic Designer</td>\n",
              "      <td>Machine Learning Engineer</td>\n",
              "      <td>Gryphon Digital Studio</td>\n",
              "      <td>Bengaluru, Karnataka</td>\n",
              "      <td>Experienced in Photoshop | AI | CD-R | ADOBE.\\...</td>\n",
              "      <td>EmployerActive 25 days ago</td>\n",
              "      <td>₹10,476 - ₹15,443 a month</td>\n",
              "      <td>2023-08-30</td>\n",
              "      <td>https://in.indeed.com/pagead/clk?mo=r&amp;ad=-6NYl...</td>\n",
              "    </tr>\n",
              "    <tr>\n",
              "      <th>1739</th>\n",
              "      <td>Graphic Designer</td>\n",
              "      <td>Machine Learning Engineer</td>\n",
              "      <td>Gryphon Digital Studio</td>\n",
              "      <td>Bengaluru, Karnataka</td>\n",
              "      <td>Experienced in Photoshop | AI | CD-R | ADOBE.\\...</td>\n",
              "      <td>EmployerActive 25 days ago</td>\n",
              "      <td>₹10,476 - ₹15,443 a month</td>\n",
              "      <td>2023-08-30</td>\n",
              "      <td>https://in.indeed.com/pagead/clk?mo=r&amp;ad=-6NYl...</td>\n",
              "    </tr>\n",
              "    <tr>\n",
              "      <th>1751</th>\n",
              "      <td>Graphic Designer</td>\n",
              "      <td>Machine Learning Engineer</td>\n",
              "      <td>Gryphon Digital Studio</td>\n",
              "      <td>Bengaluru, Karnataka</td>\n",
              "      <td>Experienced in Photoshop | AI | CD-R | ADOBE.\\...</td>\n",
              "      <td>EmployerActive 25 days ago</td>\n",
              "      <td>₹10,476 - ₹15,443 a month</td>\n",
              "      <td>2023-08-30</td>\n",
              "      <td>https://in.indeed.com/pagead/clk?mo=r&amp;ad=-6NYl...</td>\n",
              "    </tr>\n",
              "  </tbody>\n",
              "</table>\n",
              "<p>72 rows × 9 columns</p>\n",
              "</div>"
            ],
            "text/plain": [
              "                                                title  \\\n",
              "0     Senior Software Engineer SQL Perl C C++ Backend   \n",
              "1                    Software Engineer – Azure Devops   \n",
              "2                               Data Engineer (India)   \n",
              "3              RSA-Software Senior Principal Engineer   \n",
              "4                      Netwitness-Software Engineer 2   \n",
              "...                                               ...   \n",
              "1694                                 Graphic Designer   \n",
              "1709                                 Graphic Designer   \n",
              "1724                                 Graphic Designer   \n",
              "1739                                 Graphic Designer   \n",
              "1751                                 Graphic Designer   \n",
              "\n",
              "                       job_role                  companyName  \\\n",
              "0                 Data Engineer  London Stock Exchange Group   \n",
              "1                 Data Engineer  London Stock Exchange Group   \n",
              "2                 Data Engineer                       Athena   \n",
              "3                 Data Engineer                          RSA   \n",
              "4                 Data Engineer                          RSA   \n",
              "...                         ...                          ...   \n",
              "1694  Machine Learning Engineer       Gryphon Digital Studio   \n",
              "1709  Machine Learning Engineer       Gryphon Digital Studio   \n",
              "1724  Machine Learning Engineer       Gryphon Digital Studio   \n",
              "1739  Machine Learning Engineer       Gryphon Digital Studio   \n",
              "1751  Machine Learning Engineer       Gryphon Digital Studio   \n",
              "\n",
              "              job_location                                        Job_Summary  \\\n",
              "0     Hyderabad, Telangana  Work on any number of projects that may includ...   \n",
              "1     Hyderabad, Telangana  Work on any number of projects that may includ...   \n",
              "2         Remote in Remote  Model front- & back-end data sources to draw a...   \n",
              "3     Bengaluru, Karnataka  Good understanding of object oriented design p...   \n",
              "4     Bengaluru, Karnataka  Our Sales Professionals, Sales Engineers and P...   \n",
              "...                    ...                                                ...   \n",
              "1694  Bengaluru, Karnataka  Experienced in Photoshop | AI | CD-R | ADOBE.\\...   \n",
              "1709  Bengaluru, Karnataka  Experienced in Photoshop | AI | CD-R | ADOBE.\\...   \n",
              "1724  Bengaluru, Karnataka  Experienced in Photoshop | AI | CD-R | ADOBE.\\...   \n",
              "1739  Bengaluru, Karnataka  Experienced in Photoshop | AI | CD-R | ADOBE.\\...   \n",
              "1751  Bengaluru, Karnataka  Experienced in Photoshop | AI | CD-R | ADOBE.\\...   \n",
              "\n",
              "                       post_date                     salary  today_date  \\\n",
              "0      PostedPosted 30+ days ago                          ?  2023-08-30   \n",
              "1      PostedPosted 30+ days ago                          ?  2023-08-30   \n",
              "2      EmployerActive 2 days ago                          ?  2023-08-30   \n",
              "3       PostedPosted 21 days ago                          ?  2023-08-30   \n",
              "4      PostedPosted 30+ days ago                          ?  2023-08-30   \n",
              "...                          ...                        ...         ...   \n",
              "1694  EmployerActive 25 days ago  ₹10,476 - ₹15,443 a month  2023-08-30   \n",
              "1709  EmployerActive 25 days ago  ₹10,476 - ₹15,443 a month  2023-08-30   \n",
              "1724  EmployerActive 25 days ago  ₹10,476 - ₹15,443 a month  2023-08-30   \n",
              "1739  EmployerActive 25 days ago  ₹10,476 - ₹15,443 a month  2023-08-30   \n",
              "1751  EmployerActive 25 days ago  ₹10,476 - ₹15,443 a month  2023-08-30   \n",
              "\n",
              "                                                Job_url  \n",
              "0     https://in.indeed.com/pagead/clk?mo=r&ad=-6NYl...  \n",
              "1     https://in.indeed.com/pagead/clk?mo=r&ad=-6NYl...  \n",
              "2     https://in.indeed.com/pagead/clk?mo=r&ad=-6NYl...  \n",
              "3     https://in.indeed.com/pagead/clk?mo=r&ad=-6NYl...  \n",
              "4     https://in.indeed.com/pagead/clk?mo=r&ad=-6NYl...  \n",
              "...                                                 ...  \n",
              "1694  https://in.indeed.com/pagead/clk?mo=r&ad=-6NYl...  \n",
              "1709  https://in.indeed.com/pagead/clk?mo=r&ad=-6NYl...  \n",
              "1724  https://in.indeed.com/pagead/clk?mo=r&ad=-6NYl...  \n",
              "1739  https://in.indeed.com/pagead/clk?mo=r&ad=-6NYl...  \n",
              "1751  https://in.indeed.com/pagead/clk?mo=r&ad=-6NYl...  \n",
              "\n",
              "[72 rows x 9 columns]"
            ]
          },
          "execution_count": 64,
          "metadata": {},
          "output_type": "execute_result"
        }
      ],
      "source": [
        "df1 = df.copy()\n",
        "df1.drop(df1.index[(df1[\"title\"] == \"?\")],axis=0, inplace=True)\n",
        "df1"
      ]
    },
    {
      "cell_type": "code",
      "execution_count": null,
      "id": "2eaea62b",
      "metadata": {
        "id": "2eaea62b"
      },
      "outputs": [],
      "source": [
        "df1.reset_index(inplace = True)\n",
        "df1 = df1.drop(['index'], axis = 1)\n",
        "df1.to_csv('dataset/Cleaned_Data.csv', index = False)"
      ]
    },
    {
      "cell_type": "code",
      "execution_count": null,
      "id": "fdf077db",
      "metadata": {
        "id": "fdf077db"
      },
      "outputs": [],
      "source": [
        "df_MLE = df1.loc[df1['job_role'] == 'Machine Learning Engineer']\n",
        "df_MLE.reset_index(inplace = True)\n",
        "df_MLE = df_MLE.drop(['index'], axis = 1).loc[:299]\n",
        "df_MLE.to_csv('dataset/Cleaned_Machine_Learning_Engineer.csv')"
      ]
    },
    {
      "cell_type": "code",
      "execution_count": null,
      "id": "c3576d81",
      "metadata": {
        "id": "c3576d81"
      },
      "outputs": [],
      "source": [
        "df_DS = df1.loc[df1['job_role'] == 'Data Scientist']\n",
        "df_DS.reset_index(inplace = True)\n",
        "df_DS = df_DS.drop(['index'], axis = 1).loc[:299]\n",
        "df_DS.to_csv('dataset/Cleaned_Data_Scientist.csv')"
      ]
    },
    {
      "cell_type": "code",
      "execution_count": null,
      "id": "bc6d7e0b",
      "metadata": {
        "id": "bc6d7e0b"
      },
      "outputs": [],
      "source": [
        "df_DA = df1.loc[df1['job_role'] == 'Data Analyst']\n",
        "df_DA.reset_index(inplace = True)\n",
        "df_DA = df_DA.drop(['index'], axis = 1).loc[:299]\n",
        "df_DA.to_csv('dataset/Cleaned_Data_Analyst.csv')"
      ]
    },
    {
      "cell_type": "code",
      "execution_count": null,
      "id": "8aeb2f79",
      "metadata": {
        "id": "8aeb2f79"
      },
      "outputs": [],
      "source": [
        "df1.loc[df1['job_role'] == 'Data Engineer'].loc[:299].to_csv('dataset/Cleaned_Data_Engineer.csv', index = False)\n",
        "df_DE = pd.read_csv('dataset/Cleaned_Data_Engineer.csv')"
      ]
    },
    {
      "cell_type": "code",
      "execution_count": null,
      "id": "13dbbc84",
      "metadata": {
        "id": "13dbbc84"
      },
      "outputs": [],
      "source": [
        "final_data = pd.concat([df_DE, df_DA, df_DS, df_MLE], ignore_index=True)\n",
        "final_data.to_csv('dataset/Final_Data.csv', index = False)"
      ]
    },
    {
      "cell_type": "code",
      "execution_count": null,
      "id": "faecce03",
      "metadata": {
        "id": "faecce03"
      },
      "outputs": [],
      "source": [
        "df1 = pd.read_csv('dataset/Final_Data.csv')"
      ]
    },
    {
      "cell_type": "markdown",
      "id": "1e16ccee",
      "metadata": {
        "id": "1e16ccee"
      },
      "source": [
        "#### Calculate the date of posting from the columns ('post_data', 'today')"
      ]
    },
    {
      "cell_type": "code",
      "execution_count": null,
      "id": "6d2bcf13",
      "metadata": {
        "id": "6d2bcf13"
      },
      "outputs": [],
      "source": [
        "#Add Date of Posting\n",
        "df_date = df1\n",
        "df_date['post_date'].unique()\n",
        "from datetime import timedelta\n",
        "inp = ['Posted', 'ongoing', 'Active']\n",
        "def delay(x):\n",
        "    if 'Posted' in x:\n",
        "        numb1 = [30 for k in x.split() if (k[0:2] == '30')]\n",
        "        numb2 = [int(k) for k in x.split() if k.isdigit()]\n",
        "        numb = numb1 + numb2 + [0]\n",
        "    if 'Active' in x:\n",
        "        numb1 = [30 for k in x.split() if (k[0:2] == '30')]\n",
        "        numb2 = [int(k) for k in x.split() if k.isdigit()]\n",
        "        numb = numb1 + numb2\n",
        "    if 'ongoing' in x:\n",
        "        numb = [0]\n",
        "    return(numb[0])\n",
        "def delay_date(date, days):\n",
        "    subtracted_date = pd.to_datetime(date) - timedelta(days=days)\n",
        "    subtracted_date = subtracted_date.strftime(\"%Y-%m-%d\")\n",
        "    return subtracted_date\n",
        "df_date['date of posting'] = df_date['post_date'].apply(lambda x: delay_date('2023-03-15', delay(x)))\n",
        "df1 = df_date"
      ]
    },
    {
      "cell_type": "markdown",
      "id": "8dd710c2",
      "metadata": {
        "id": "8dd710c2"
      },
      "source": [
        "#### Split the 'job_salary' column into 'job_salary_lower' and 'job_salary_upper'"
      ]
    },
    {
      "cell_type": "code",
      "execution_count": null,
      "id": "7f98f354",
      "metadata": {
        "id": "7f98f354"
      },
      "outputs": [],
      "source": [
        "#Add job_salary_lower and job_salary_upper\n",
        "df_sal = df1\n",
        "from numpy import NaN\n",
        "def change_Salary(Salaries):\n",
        "  dict_salary={'job_salary_lower':[],\"job_salary_upper\":[]}\n",
        "  for x in Salaries:\n",
        "    if x=='?':\n",
        "      x='?'\n",
        "      dict_salary['job_salary_lower'].append('?')\n",
        "      dict_salary['job_salary_upper'].append('?')\n",
        "    elif(x[0]=='₹' and x[-4:]=='year') and '-' in x:\n",
        "      dict_salary['job_salary_lower'].append(int(x.replace(\"-\",\"\").replace(\"₹\",\"\").split()[0].replace(\",\",\"\")))\n",
        "      dict_salary['job_salary_upper'].append(int(x.replace(\"-\",\"\").replace(\"₹\",\"\").split()[1].replace(\",\",\"\")))\n",
        "\n",
        "    elif(x[0]=='₹' and x[-4:]=='hour') and '-' in x:\n",
        "      dict_salary['job_salary_lower'].append(int(x.replace(\"-\",\"\").replace(\"₹\",\"\").split()[0].replace(\",\",\"\"))*8*220)\n",
        "      dict_salary['job_salary_upper'].append(int(x.replace(\"-\",\"\").replace(\"₹\",\"\").split()[1].replace(\",\",\"\"))*8*220)\n",
        "\n",
        "    elif(x[0]=='₹' and x[-4:]=='year'):\n",
        "      dict_salary['job_salary_lower'].append(float(NaN))\n",
        "      dict_salary['job_salary_upper'].append(x.replace(\"-\",\"\").replace(\"₹\",\"\").split()[0].replace(\",\",\"\"))\n",
        "\n",
        "    elif(x[0]=='₹' and x[-4:]=='hour'):\n",
        "      dict_salary['job_salary_lower'].append(float(NaN))\n",
        "      dict_salary['job_salary_upper'].append(int(x.replace(\"₹\",\"\").split()[0].replace(\",\",\"\"))*8*220)\n",
        "\n",
        "    elif(x[0]=='₹' and x[-3:]=='day'):\n",
        "      dict_salary['job_salary_lower'].append(int(x.replace(\"-\",\"\").replace(\"₹\",\"\").split()[0].replace(\",\",\"\"))*220)\n",
        "      dict_salary['job_salary_upper'].append(int(x.replace(\"-\",\"\").replace(\"₹\",\"\").split()[1].replace(\",\",\"\"))*220)\n",
        "\n",
        "    elif(x[:4]=='From' and x[-4:]=='year'):\n",
        "      dict_salary['job_salary_lower'].append(x.split()[1].replace(\",\",\"\").replace(\"₹\",\"\"))\n",
        "      dict_salary['job_salary_upper'].append(float(NaN))\n",
        "\n",
        "    elif(x[:4]=='From' and x[-3:]=='day'):\n",
        "      dict_salary['job_salary_lower'].append(int(x.split()[1].replace(\",\",\"\").replace(\"₹\",\"\"))*220)\n",
        "      dict_salary['job_salary_upper'].append(float(NaN))\n",
        "\n",
        "    elif(x[:4]=='From' and x[-4:]=='hour'):\n",
        "      dict_salary['job_salary_lower'].append(int(x.split()[1].replace(\",\",\"\").replace(\"₹\",\"\"))*8*220)\n",
        "      dict_salary['job_salary_upper'].append(float(NaN))\n",
        "\n",
        "    elif(x[0]=='₹' and x[-5:]=='month'):\n",
        "      dict_salary['job_salary_lower'].append(float(NaN))\n",
        "      dict_salary['job_salary_upper'].append(int(x.split()[0].replace(\",\",\"\").replace(\"₹\",\"\"))*12)\n",
        "\n",
        "    elif x[:2]=='Up':\n",
        "      dict_salary['job_salary_lower'].append(float(NaN))\n",
        "      dict_salary['job_salary_upper'].append(int(x.replace(\"₹\",\"\").split()[2].replace(\",\",\"\")))\n",
        "    elif x[:4]=='From' and x[-5:]=='month':\n",
        "      dict_salary['job_salary_lower'].append(int(x.replace(\"₹\",\"\").split()[1].replace(\",\",\"\"))*12)\n",
        "      dict_salary['job_salary_upper'].append(float(NaN))\n",
        "    else:\n",
        "      print(x)\n",
        "      break\n",
        "  return dict_salary\n",
        "dict_saly_upp_low=change_Salary(df_sal['salary'])\n",
        "job_salary_lower = list(dict_saly_upp_low['job_salary_lower'])\n",
        "job_salary_upper = list(dict_saly_upp_low['job_salary_upper'])\n",
        "df_sal['job_salary_lower'] = job_salary_lower\n",
        "df_sal['job_salary_upper'] = job_salary_upper\n",
        "df_sal.head()\n",
        "df1 = df_sal"
      ]
    },
    {
      "cell_type": "markdown",
      "id": "f636b67f",
      "metadata": {
        "id": "f636b67f"
      },
      "source": [
        "#### Create a new column called 'is_remote', which will be true if it is a remote job"
      ]
    },
    {
      "cell_type": "code",
      "execution_count": null,
      "id": "44e01271",
      "metadata": {
        "id": "44e01271"
      },
      "outputs": [],
      "source": [
        "#Add is_remote\n",
        "df_remote = df1\n",
        "def remote(x):\n",
        "    if 'Remote' in x:\n",
        "        return True\n",
        "    else:\n",
        "        return False\n",
        "df_remote['is_remote'] = df_remote['job_location'].apply(lambda x: remote(x))\n",
        "df1 = df_remote"
      ]
    },
    {
      "cell_type": "markdown",
      "id": "2efe48cd",
      "metadata": {
        "id": "2efe48cd"
      },
      "source": [
        "#### Clean the 'job_location' column to include only city name in India, if no city is found, make it by default 'India'. If it's remote, make the value as 'Remote'"
      ]
    },
    {
      "cell_type": "code",
      "execution_count": null,
      "id": "cb9ad0ae",
      "metadata": {
        "id": "cb9ad0ae"
      },
      "outputs": [],
      "source": [
        "#Updated Job Location\n",
        "df_city = df1\n",
        "cities=[]\n",
        "for location in df1['job_location']:\n",
        "  cities.append(location.split(',')[0])\n",
        "cities=[city if city[0:6]!='Remote' else \"Remote\" for city in cities]\n",
        "states=[\"Andhra Pradesh\",\"Arunachal Pradesh \",\"Assam\",\"Bihar\",\"Chhattisgarh\",\"Goa\",\"Gujarat\",\"Haryana\",\"Himachal Pradesh\",\"Jammu and Kashmir\",\"Jharkhand\",\"Karnataka\",\"Kerala\",\"Madhya Pradesh\",\"Maharashtra\",\"Manipur\",\"Meghalaya\",\"Mizoram\",\"Nagaland\",\"Odisha\",\"Punjab\",\"Rajasthan\",\"Sikkim\",\"Tamil Nadu\",\"Telangana\",\"Tripura\",\"Uttar Pradesh\",\"Uttarakhand\",\"West Bengal\",\"Andaman and Nicobar Islands\",\"Chandigarh\",\"Dadra and Nagar Haveli\",\"Daman and Diu\",\"Lakshadweep\",\"National Capital Territory of Delhi\",\"Puducherry\"]\n",
        "for index,city in enumerate(cities):\n",
        "  if city in states:\n",
        "    cities[index]=\"India\"\n",
        "df_city['job_location'] = cities\n",
        "df1 = df_city"
      ]
    },
    {
      "cell_type": "markdown",
      "id": "9b4f17e7",
      "metadata": {
        "id": "9b4f17e7"
      },
      "source": [
        "### Visualization"
      ]
    },
    {
      "cell_type": "markdown",
      "id": "ed0bb17f",
      "metadata": {
        "id": "ed0bb17f"
      },
      "source": [
        "#### How are the jobs distributed geographically?"
      ]
    },
    {
      "cell_type": "code",
      "execution_count": 80,
      "id": "1773f742",
      "metadata": {
        "colab": {
          "base_uri": "https://localhost:8080/",
          "height": 542
        },
        "id": "1773f742",
        "outputId": "0407ac36-cac7-4c8f-aaa1-dabe2022a28b"
      },
      "outputs": [
        {
          "ename": "ValueError",
          "evalue": "Mime type rendering requires nbformat>=4.2.0 but it is not installed",
          "output_type": "error",
          "traceback": [
            "\u001b[0;31m---------------------------------------------------------------------------\u001b[0m",
            "\u001b[0;31mValueError\u001b[0m                                Traceback (most recent call last)",
            "File \u001b[0;32m~/Desktop/DAV-Project/myEnv/lib/python3.10/site-packages/IPython/core/formatters.py:922\u001b[0m, in \u001b[0;36mIPythonDisplayFormatter.__call__\u001b[0;34m(self, obj)\u001b[0m\n\u001b[1;32m    920\u001b[0m method \u001b[39m=\u001b[39m get_real_method(obj, \u001b[39mself\u001b[39m\u001b[39m.\u001b[39mprint_method)\n\u001b[1;32m    921\u001b[0m \u001b[39mif\u001b[39;00m method \u001b[39mis\u001b[39;00m \u001b[39mnot\u001b[39;00m \u001b[39mNone\u001b[39;00m:\n\u001b[0;32m--> 922\u001b[0m     method()\n\u001b[1;32m    923\u001b[0m     \u001b[39mreturn\u001b[39;00m \u001b[39mTrue\u001b[39;00m\n",
            "File \u001b[0;32m~/Desktop/DAV-Project/myEnv/lib/python3.10/site-packages/plotly/basedatatypes.py:834\u001b[0m, in \u001b[0;36mBaseFigure._ipython_display_\u001b[0;34m(self)\u001b[0m\n\u001b[1;32m    831\u001b[0m \u001b[39mimport\u001b[39;00m \u001b[39mplotly\u001b[39;00m\u001b[39m.\u001b[39;00m\u001b[39mio\u001b[39;00m \u001b[39mas\u001b[39;00m \u001b[39mpio\u001b[39;00m\n\u001b[1;32m    833\u001b[0m \u001b[39mif\u001b[39;00m pio\u001b[39m.\u001b[39mrenderers\u001b[39m.\u001b[39mrender_on_display \u001b[39mand\u001b[39;00m pio\u001b[39m.\u001b[39mrenderers\u001b[39m.\u001b[39mdefault:\n\u001b[0;32m--> 834\u001b[0m     pio\u001b[39m.\u001b[39;49mshow(\u001b[39mself\u001b[39;49m)\n\u001b[1;32m    835\u001b[0m \u001b[39melse\u001b[39;00m:\n\u001b[1;32m    836\u001b[0m     \u001b[39mprint\u001b[39m(\u001b[39mrepr\u001b[39m(\u001b[39mself\u001b[39m))\n",
            "File \u001b[0;32m~/Desktop/DAV-Project/myEnv/lib/python3.10/site-packages/plotly/io/_renderers.py:396\u001b[0m, in \u001b[0;36mshow\u001b[0;34m(fig, renderer, validate, **kwargs)\u001b[0m\n\u001b[1;32m    391\u001b[0m         \u001b[39mraise\u001b[39;00m \u001b[39mValueError\u001b[39;00m(\n\u001b[1;32m    392\u001b[0m             \u001b[39m\"\u001b[39m\u001b[39mMime type rendering requires ipython but it is not installed\u001b[39m\u001b[39m\"\u001b[39m\n\u001b[1;32m    393\u001b[0m         )\n\u001b[1;32m    395\u001b[0m     \u001b[39mif\u001b[39;00m \u001b[39mnot\u001b[39;00m nbformat \u001b[39mor\u001b[39;00m Version(nbformat\u001b[39m.\u001b[39m__version__) \u001b[39m<\u001b[39m Version(\u001b[39m\"\u001b[39m\u001b[39m4.2.0\u001b[39m\u001b[39m\"\u001b[39m):\n\u001b[0;32m--> 396\u001b[0m         \u001b[39mraise\u001b[39;00m \u001b[39mValueError\u001b[39;00m(\n\u001b[1;32m    397\u001b[0m             \u001b[39m\"\u001b[39m\u001b[39mMime type rendering requires nbformat>=4.2.0 but it is not installed\u001b[39m\u001b[39m\"\u001b[39m\n\u001b[1;32m    398\u001b[0m         )\n\u001b[1;32m    400\u001b[0m     ipython_display\u001b[39m.\u001b[39mdisplay(bundle, raw\u001b[39m=\u001b[39m\u001b[39mTrue\u001b[39;00m)\n\u001b[1;32m    402\u001b[0m \u001b[39m# external renderers\u001b[39;00m\n",
            "\u001b[0;31mValueError\u001b[0m: Mime type rendering requires nbformat>=4.2.0 but it is not installed"
          ]
        },
        {
          "data": {
            "application/vnd.plotly.v1+json": {
              "config": {
                "plotlyServerURL": "https://plot.ly"
              },
              "data": [
                {
                  "alignmentgroup": "True",
                  "hovertemplate": "job_role=Data Engineer<br>job_location=%{x}<br>count=%{y}<extra></extra>",
                  "legendgroup": "Data Engineer",
                  "marker": {
                    "color": "#636efa",
                    "pattern": {
                      "shape": ""
                    }
                  },
                  "name": "Data Engineer",
                  "offsetgroup": "Data Engineer",
                  "orientation": "v",
                  "showlegend": true,
                  "textposition": "auto",
                  "type": "bar",
                  "x": [
                    "Hyderabad",
                    "Hyderabad",
                    "Remote",
                    "Bengaluru",
                    "Bengaluru",
                    "Pune",
                    "Pune",
                    "Pune",
                    "Pune",
                    "Pune",
                    "Pune",
                    "Pune",
                    "Pune",
                    "Pune",
                    "Pune",
                    "Pune",
                    "Pune",
                    "Pune",
                    "Pune",
                    "Pune",
                    "Pune",
                    "Pune",
                    "Pune",
                    "Pune",
                    "Pune",
                    "Pune",
                    "Pune",
                    "Pune",
                    "Pune",
                    "Pune",
                    "Pune",
                    "Pune",
                    "Pune",
                    "Pune",
                    "Pune"
                  ],
                  "xaxis": "x",
                  "y": [
                    1,
                    1,
                    1,
                    1,
                    1,
                    1,
                    1,
                    1,
                    1,
                    1,
                    1,
                    1,
                    1,
                    1,
                    1,
                    1,
                    1,
                    1,
                    1,
                    1,
                    1,
                    1,
                    1,
                    1,
                    1,
                    1,
                    1,
                    1,
                    1,
                    1,
                    1,
                    1,
                    1,
                    1,
                    1
                  ],
                  "yaxis": "y"
                },
                {
                  "alignmentgroup": "True",
                  "hovertemplate": "job_role=Data Analyst<br>job_location=%{x}<br>count=%{y}<extra></extra>",
                  "legendgroup": "Data Analyst",
                  "marker": {
                    "color": "#EF553B",
                    "pattern": {
                      "shape": ""
                    }
                  },
                  "name": "Data Analyst",
                  "offsetgroup": "Data Analyst",
                  "orientation": "v",
                  "showlegend": true,
                  "textposition": "auto",
                  "type": "bar",
                  "x": [
                    "Remote"
                  ],
                  "xaxis": "x",
                  "y": [
                    1
                  ],
                  "yaxis": "y"
                },
                {
                  "alignmentgroup": "True",
                  "hovertemplate": "job_role=Data Scientist<br>job_location=%{x}<br>count=%{y}<extra></extra>",
                  "legendgroup": "Data Scientist",
                  "marker": {
                    "color": "#00cc96",
                    "pattern": {
                      "shape": ""
                    }
                  },
                  "name": "Data Scientist",
                  "offsetgroup": "Data Scientist",
                  "orientation": "v",
                  "showlegend": true,
                  "textposition": "auto",
                  "type": "bar",
                  "x": [
                    "Remote"
                  ],
                  "xaxis": "x",
                  "y": [
                    1
                  ],
                  "yaxis": "y"
                },
                {
                  "alignmentgroup": "True",
                  "hovertemplate": "job_role=Machine Learning Engineer<br>job_location=%{x}<br>count=%{y}<extra></extra>",
                  "legendgroup": "Machine Learning Engineer",
                  "marker": {
                    "color": "#ab63fa",
                    "pattern": {
                      "shape": ""
                    }
                  },
                  "name": "Machine Learning Engineer",
                  "offsetgroup": "Machine Learning Engineer",
                  "orientation": "v",
                  "showlegend": true,
                  "textposition": "auto",
                  "type": "bar",
                  "x": [
                    "Bengaluru",
                    "Pune",
                    "Bengaluru",
                    "Bengaluru",
                    "India",
                    "Bengaluru",
                    "India",
                    "Bengaluru",
                    "Bengaluru",
                    "Bengaluru",
                    "Bengaluru",
                    "Bengaluru",
                    "Bengaluru",
                    "Bengaluru",
                    "Bengaluru",
                    "Bengaluru",
                    "Bengaluru",
                    "Bengaluru",
                    "Bengaluru",
                    "Bengaluru",
                    "Bengaluru",
                    "Bengaluru",
                    "Bengaluru",
                    "Bengaluru",
                    "Bengaluru",
                    "Bengaluru",
                    "Bengaluru",
                    "Bengaluru",
                    "Bengaluru",
                    "Bengaluru",
                    "Bengaluru",
                    "Bengaluru",
                    "Bengaluru",
                    "Bengaluru",
                    "Bengaluru"
                  ],
                  "xaxis": "x",
                  "y": [
                    1,
                    1,
                    1,
                    1,
                    1,
                    1,
                    1,
                    1,
                    1,
                    1,
                    1,
                    1,
                    1,
                    1,
                    1,
                    1,
                    1,
                    1,
                    1,
                    1,
                    1,
                    1,
                    1,
                    1,
                    1,
                    1,
                    1,
                    1,
                    1,
                    1,
                    1,
                    1,
                    1,
                    1,
                    1
                  ],
                  "yaxis": "y"
                }
              ],
              "layout": {
                "barmode": "relative",
                "legend": {
                  "title": {
                    "text": "job_role"
                  },
                  "tracegroupgap": 0
                },
                "template": {
                  "data": {
                    "bar": [
                      {
                        "error_x": {
                          "color": "#2a3f5f"
                        },
                        "error_y": {
                          "color": "#2a3f5f"
                        },
                        "marker": {
                          "line": {
                            "color": "#E5ECF6",
                            "width": 0.5
                          },
                          "pattern": {
                            "fillmode": "overlay",
                            "size": 10,
                            "solidity": 0.2
                          }
                        },
                        "type": "bar"
                      }
                    ],
                    "barpolar": [
                      {
                        "marker": {
                          "line": {
                            "color": "#E5ECF6",
                            "width": 0.5
                          },
                          "pattern": {
                            "fillmode": "overlay",
                            "size": 10,
                            "solidity": 0.2
                          }
                        },
                        "type": "barpolar"
                      }
                    ],
                    "carpet": [
                      {
                        "aaxis": {
                          "endlinecolor": "#2a3f5f",
                          "gridcolor": "white",
                          "linecolor": "white",
                          "minorgridcolor": "white",
                          "startlinecolor": "#2a3f5f"
                        },
                        "baxis": {
                          "endlinecolor": "#2a3f5f",
                          "gridcolor": "white",
                          "linecolor": "white",
                          "minorgridcolor": "white",
                          "startlinecolor": "#2a3f5f"
                        },
                        "type": "carpet"
                      }
                    ],
                    "choropleth": [
                      {
                        "colorbar": {
                          "outlinewidth": 0,
                          "ticks": ""
                        },
                        "type": "choropleth"
                      }
                    ],
                    "contour": [
                      {
                        "colorbar": {
                          "outlinewidth": 0,
                          "ticks": ""
                        },
                        "colorscale": [
                          [
                            0,
                            "#0d0887"
                          ],
                          [
                            0.1111111111111111,
                            "#46039f"
                          ],
                          [
                            0.2222222222222222,
                            "#7201a8"
                          ],
                          [
                            0.3333333333333333,
                            "#9c179e"
                          ],
                          [
                            0.4444444444444444,
                            "#bd3786"
                          ],
                          [
                            0.5555555555555556,
                            "#d8576b"
                          ],
                          [
                            0.6666666666666666,
                            "#ed7953"
                          ],
                          [
                            0.7777777777777778,
                            "#fb9f3a"
                          ],
                          [
                            0.8888888888888888,
                            "#fdca26"
                          ],
                          [
                            1,
                            "#f0f921"
                          ]
                        ],
                        "type": "contour"
                      }
                    ],
                    "contourcarpet": [
                      {
                        "colorbar": {
                          "outlinewidth": 0,
                          "ticks": ""
                        },
                        "type": "contourcarpet"
                      }
                    ],
                    "heatmap": [
                      {
                        "colorbar": {
                          "outlinewidth": 0,
                          "ticks": ""
                        },
                        "colorscale": [
                          [
                            0,
                            "#0d0887"
                          ],
                          [
                            0.1111111111111111,
                            "#46039f"
                          ],
                          [
                            0.2222222222222222,
                            "#7201a8"
                          ],
                          [
                            0.3333333333333333,
                            "#9c179e"
                          ],
                          [
                            0.4444444444444444,
                            "#bd3786"
                          ],
                          [
                            0.5555555555555556,
                            "#d8576b"
                          ],
                          [
                            0.6666666666666666,
                            "#ed7953"
                          ],
                          [
                            0.7777777777777778,
                            "#fb9f3a"
                          ],
                          [
                            0.8888888888888888,
                            "#fdca26"
                          ],
                          [
                            1,
                            "#f0f921"
                          ]
                        ],
                        "type": "heatmap"
                      }
                    ],
                    "heatmapgl": [
                      {
                        "colorbar": {
                          "outlinewidth": 0,
                          "ticks": ""
                        },
                        "colorscale": [
                          [
                            0,
                            "#0d0887"
                          ],
                          [
                            0.1111111111111111,
                            "#46039f"
                          ],
                          [
                            0.2222222222222222,
                            "#7201a8"
                          ],
                          [
                            0.3333333333333333,
                            "#9c179e"
                          ],
                          [
                            0.4444444444444444,
                            "#bd3786"
                          ],
                          [
                            0.5555555555555556,
                            "#d8576b"
                          ],
                          [
                            0.6666666666666666,
                            "#ed7953"
                          ],
                          [
                            0.7777777777777778,
                            "#fb9f3a"
                          ],
                          [
                            0.8888888888888888,
                            "#fdca26"
                          ],
                          [
                            1,
                            "#f0f921"
                          ]
                        ],
                        "type": "heatmapgl"
                      }
                    ],
                    "histogram": [
                      {
                        "marker": {
                          "pattern": {
                            "fillmode": "overlay",
                            "size": 10,
                            "solidity": 0.2
                          }
                        },
                        "type": "histogram"
                      }
                    ],
                    "histogram2d": [
                      {
                        "colorbar": {
                          "outlinewidth": 0,
                          "ticks": ""
                        },
                        "colorscale": [
                          [
                            0,
                            "#0d0887"
                          ],
                          [
                            0.1111111111111111,
                            "#46039f"
                          ],
                          [
                            0.2222222222222222,
                            "#7201a8"
                          ],
                          [
                            0.3333333333333333,
                            "#9c179e"
                          ],
                          [
                            0.4444444444444444,
                            "#bd3786"
                          ],
                          [
                            0.5555555555555556,
                            "#d8576b"
                          ],
                          [
                            0.6666666666666666,
                            "#ed7953"
                          ],
                          [
                            0.7777777777777778,
                            "#fb9f3a"
                          ],
                          [
                            0.8888888888888888,
                            "#fdca26"
                          ],
                          [
                            1,
                            "#f0f921"
                          ]
                        ],
                        "type": "histogram2d"
                      }
                    ],
                    "histogram2dcontour": [
                      {
                        "colorbar": {
                          "outlinewidth": 0,
                          "ticks": ""
                        },
                        "colorscale": [
                          [
                            0,
                            "#0d0887"
                          ],
                          [
                            0.1111111111111111,
                            "#46039f"
                          ],
                          [
                            0.2222222222222222,
                            "#7201a8"
                          ],
                          [
                            0.3333333333333333,
                            "#9c179e"
                          ],
                          [
                            0.4444444444444444,
                            "#bd3786"
                          ],
                          [
                            0.5555555555555556,
                            "#d8576b"
                          ],
                          [
                            0.6666666666666666,
                            "#ed7953"
                          ],
                          [
                            0.7777777777777778,
                            "#fb9f3a"
                          ],
                          [
                            0.8888888888888888,
                            "#fdca26"
                          ],
                          [
                            1,
                            "#f0f921"
                          ]
                        ],
                        "type": "histogram2dcontour"
                      }
                    ],
                    "mesh3d": [
                      {
                        "colorbar": {
                          "outlinewidth": 0,
                          "ticks": ""
                        },
                        "type": "mesh3d"
                      }
                    ],
                    "parcoords": [
                      {
                        "line": {
                          "colorbar": {
                            "outlinewidth": 0,
                            "ticks": ""
                          }
                        },
                        "type": "parcoords"
                      }
                    ],
                    "pie": [
                      {
                        "automargin": true,
                        "type": "pie"
                      }
                    ],
                    "scatter": [
                      {
                        "fillpattern": {
                          "fillmode": "overlay",
                          "size": 10,
                          "solidity": 0.2
                        },
                        "type": "scatter"
                      }
                    ],
                    "scatter3d": [
                      {
                        "line": {
                          "colorbar": {
                            "outlinewidth": 0,
                            "ticks": ""
                          }
                        },
                        "marker": {
                          "colorbar": {
                            "outlinewidth": 0,
                            "ticks": ""
                          }
                        },
                        "type": "scatter3d"
                      }
                    ],
                    "scattercarpet": [
                      {
                        "marker": {
                          "colorbar": {
                            "outlinewidth": 0,
                            "ticks": ""
                          }
                        },
                        "type": "scattercarpet"
                      }
                    ],
                    "scattergeo": [
                      {
                        "marker": {
                          "colorbar": {
                            "outlinewidth": 0,
                            "ticks": ""
                          }
                        },
                        "type": "scattergeo"
                      }
                    ],
                    "scattergl": [
                      {
                        "marker": {
                          "colorbar": {
                            "outlinewidth": 0,
                            "ticks": ""
                          }
                        },
                        "type": "scattergl"
                      }
                    ],
                    "scattermapbox": [
                      {
                        "marker": {
                          "colorbar": {
                            "outlinewidth": 0,
                            "ticks": ""
                          }
                        },
                        "type": "scattermapbox"
                      }
                    ],
                    "scatterpolar": [
                      {
                        "marker": {
                          "colorbar": {
                            "outlinewidth": 0,
                            "ticks": ""
                          }
                        },
                        "type": "scatterpolar"
                      }
                    ],
                    "scatterpolargl": [
                      {
                        "marker": {
                          "colorbar": {
                            "outlinewidth": 0,
                            "ticks": ""
                          }
                        },
                        "type": "scatterpolargl"
                      }
                    ],
                    "scatterternary": [
                      {
                        "marker": {
                          "colorbar": {
                            "outlinewidth": 0,
                            "ticks": ""
                          }
                        },
                        "type": "scatterternary"
                      }
                    ],
                    "surface": [
                      {
                        "colorbar": {
                          "outlinewidth": 0,
                          "ticks": ""
                        },
                        "colorscale": [
                          [
                            0,
                            "#0d0887"
                          ],
                          [
                            0.1111111111111111,
                            "#46039f"
                          ],
                          [
                            0.2222222222222222,
                            "#7201a8"
                          ],
                          [
                            0.3333333333333333,
                            "#9c179e"
                          ],
                          [
                            0.4444444444444444,
                            "#bd3786"
                          ],
                          [
                            0.5555555555555556,
                            "#d8576b"
                          ],
                          [
                            0.6666666666666666,
                            "#ed7953"
                          ],
                          [
                            0.7777777777777778,
                            "#fb9f3a"
                          ],
                          [
                            0.8888888888888888,
                            "#fdca26"
                          ],
                          [
                            1,
                            "#f0f921"
                          ]
                        ],
                        "type": "surface"
                      }
                    ],
                    "table": [
                      {
                        "cells": {
                          "fill": {
                            "color": "#EBF0F8"
                          },
                          "line": {
                            "color": "white"
                          }
                        },
                        "header": {
                          "fill": {
                            "color": "#C8D4E3"
                          },
                          "line": {
                            "color": "white"
                          }
                        },
                        "type": "table"
                      }
                    ]
                  },
                  "layout": {
                    "annotationdefaults": {
                      "arrowcolor": "#2a3f5f",
                      "arrowhead": 0,
                      "arrowwidth": 1
                    },
                    "autotypenumbers": "strict",
                    "coloraxis": {
                      "colorbar": {
                        "outlinewidth": 0,
                        "ticks": ""
                      }
                    },
                    "colorscale": {
                      "diverging": [
                        [
                          0,
                          "#8e0152"
                        ],
                        [
                          0.1,
                          "#c51b7d"
                        ],
                        [
                          0.2,
                          "#de77ae"
                        ],
                        [
                          0.3,
                          "#f1b6da"
                        ],
                        [
                          0.4,
                          "#fde0ef"
                        ],
                        [
                          0.5,
                          "#f7f7f7"
                        ],
                        [
                          0.6,
                          "#e6f5d0"
                        ],
                        [
                          0.7,
                          "#b8e186"
                        ],
                        [
                          0.8,
                          "#7fbc41"
                        ],
                        [
                          0.9,
                          "#4d9221"
                        ],
                        [
                          1,
                          "#276419"
                        ]
                      ],
                      "sequential": [
                        [
                          0,
                          "#0d0887"
                        ],
                        [
                          0.1111111111111111,
                          "#46039f"
                        ],
                        [
                          0.2222222222222222,
                          "#7201a8"
                        ],
                        [
                          0.3333333333333333,
                          "#9c179e"
                        ],
                        [
                          0.4444444444444444,
                          "#bd3786"
                        ],
                        [
                          0.5555555555555556,
                          "#d8576b"
                        ],
                        [
                          0.6666666666666666,
                          "#ed7953"
                        ],
                        [
                          0.7777777777777778,
                          "#fb9f3a"
                        ],
                        [
                          0.8888888888888888,
                          "#fdca26"
                        ],
                        [
                          1,
                          "#f0f921"
                        ]
                      ],
                      "sequentialminus": [
                        [
                          0,
                          "#0d0887"
                        ],
                        [
                          0.1111111111111111,
                          "#46039f"
                        ],
                        [
                          0.2222222222222222,
                          "#7201a8"
                        ],
                        [
                          0.3333333333333333,
                          "#9c179e"
                        ],
                        [
                          0.4444444444444444,
                          "#bd3786"
                        ],
                        [
                          0.5555555555555556,
                          "#d8576b"
                        ],
                        [
                          0.6666666666666666,
                          "#ed7953"
                        ],
                        [
                          0.7777777777777778,
                          "#fb9f3a"
                        ],
                        [
                          0.8888888888888888,
                          "#fdca26"
                        ],
                        [
                          1,
                          "#f0f921"
                        ]
                      ]
                    },
                    "colorway": [
                      "#636efa",
                      "#EF553B",
                      "#00cc96",
                      "#ab63fa",
                      "#FFA15A",
                      "#19d3f3",
                      "#FF6692",
                      "#B6E880",
                      "#FF97FF",
                      "#FECB52"
                    ],
                    "font": {
                      "color": "#2a3f5f"
                    },
                    "geo": {
                      "bgcolor": "white",
                      "lakecolor": "white",
                      "landcolor": "#E5ECF6",
                      "showlakes": true,
                      "showland": true,
                      "subunitcolor": "white"
                    },
                    "hoverlabel": {
                      "align": "left"
                    },
                    "hovermode": "closest",
                    "mapbox": {
                      "style": "light"
                    },
                    "paper_bgcolor": "white",
                    "plot_bgcolor": "#E5ECF6",
                    "polar": {
                      "angularaxis": {
                        "gridcolor": "white",
                        "linecolor": "white",
                        "ticks": ""
                      },
                      "bgcolor": "#E5ECF6",
                      "radialaxis": {
                        "gridcolor": "white",
                        "linecolor": "white",
                        "ticks": ""
                      }
                    },
                    "scene": {
                      "xaxis": {
                        "backgroundcolor": "#E5ECF6",
                        "gridcolor": "white",
                        "gridwidth": 2,
                        "linecolor": "white",
                        "showbackground": true,
                        "ticks": "",
                        "zerolinecolor": "white"
                      },
                      "yaxis": {
                        "backgroundcolor": "#E5ECF6",
                        "gridcolor": "white",
                        "gridwidth": 2,
                        "linecolor": "white",
                        "showbackground": true,
                        "ticks": "",
                        "zerolinecolor": "white"
                      },
                      "zaxis": {
                        "backgroundcolor": "#E5ECF6",
                        "gridcolor": "white",
                        "gridwidth": 2,
                        "linecolor": "white",
                        "showbackground": true,
                        "ticks": "",
                        "zerolinecolor": "white"
                      }
                    },
                    "shapedefaults": {
                      "line": {
                        "color": "#2a3f5f"
                      }
                    },
                    "ternary": {
                      "aaxis": {
                        "gridcolor": "white",
                        "linecolor": "white",
                        "ticks": ""
                      },
                      "baxis": {
                        "gridcolor": "white",
                        "linecolor": "white",
                        "ticks": ""
                      },
                      "bgcolor": "#E5ECF6",
                      "caxis": {
                        "gridcolor": "white",
                        "linecolor": "white",
                        "ticks": ""
                      }
                    },
                    "title": {
                      "x": 0.05
                    },
                    "xaxis": {
                      "automargin": true,
                      "gridcolor": "white",
                      "linecolor": "white",
                      "ticks": "",
                      "title": {
                        "standoff": 15
                      },
                      "zerolinecolor": "white",
                      "zerolinewidth": 2
                    },
                    "yaxis": {
                      "automargin": true,
                      "gridcolor": "white",
                      "linecolor": "white",
                      "ticks": "",
                      "title": {
                        "standoff": 15
                      },
                      "zerolinecolor": "white",
                      "zerolinewidth": 2
                    }
                  }
                },
                "title": {
                  "text": "Geographic Distribution"
                },
                "xaxis": {
                  "anchor": "y",
                  "domain": [
                    0,
                    1
                  ],
                  "title": {
                    "text": "job_location"
                  }
                },
                "yaxis": {
                  "anchor": "x",
                  "domain": [
                    0,
                    1
                  ],
                  "title": {
                    "text": "count"
                  }
                }
              }
            },
            "text/html": [
              "<div>                        <script type=\"text/javascript\">window.PlotlyConfig = {MathJaxConfig: 'local'};</script>\n",
              "        <script charset=\"utf-8\" src=\"https://cdn.plot.ly/plotly-2.25.2.min.js\"></script>                <div id=\"98e5ceec-4660-4f44-ba81-5c8dbcd479ca\" class=\"plotly-graph-div\" style=\"height:100%; width:100%;\"></div>            <script type=\"text/javascript\">                                    window.PLOTLYENV=window.PLOTLYENV || {};                                    if (document.getElementById(\"98e5ceec-4660-4f44-ba81-5c8dbcd479ca\")) {                    Plotly.newPlot(                        \"98e5ceec-4660-4f44-ba81-5c8dbcd479ca\",                        [{\"alignmentgroup\":\"True\",\"hovertemplate\":\"job_role=Data Engineer\\u003cbr\\u003ejob_location=%{x}\\u003cbr\\u003ecount=%{y}\\u003cextra\\u003e\\u003c\\u002fextra\\u003e\",\"legendgroup\":\"Data Engineer\",\"marker\":{\"color\":\"#636efa\",\"pattern\":{\"shape\":\"\"}},\"name\":\"Data Engineer\",\"offsetgroup\":\"Data Engineer\",\"orientation\":\"v\",\"showlegend\":true,\"textposition\":\"auto\",\"x\":[\"Hyderabad\",\"Hyderabad\",\"Remote\",\"Bengaluru\",\"Bengaluru\",\"Pune\",\"Pune\",\"Pune\",\"Pune\",\"Pune\",\"Pune\",\"Pune\",\"Pune\",\"Pune\",\"Pune\",\"Pune\",\"Pune\",\"Pune\",\"Pune\",\"Pune\",\"Pune\",\"Pune\",\"Pune\",\"Pune\",\"Pune\",\"Pune\",\"Pune\",\"Pune\",\"Pune\",\"Pune\",\"Pune\",\"Pune\",\"Pune\",\"Pune\",\"Pune\"],\"xaxis\":\"x\",\"y\":[1,1,1,1,1,1,1,1,1,1,1,1,1,1,1,1,1,1,1,1,1,1,1,1,1,1,1,1,1,1,1,1,1,1,1],\"yaxis\":\"y\",\"type\":\"bar\"},{\"alignmentgroup\":\"True\",\"hovertemplate\":\"job_role=Data Analyst\\u003cbr\\u003ejob_location=%{x}\\u003cbr\\u003ecount=%{y}\\u003cextra\\u003e\\u003c\\u002fextra\\u003e\",\"legendgroup\":\"Data Analyst\",\"marker\":{\"color\":\"#EF553B\",\"pattern\":{\"shape\":\"\"}},\"name\":\"Data Analyst\",\"offsetgroup\":\"Data Analyst\",\"orientation\":\"v\",\"showlegend\":true,\"textposition\":\"auto\",\"x\":[\"Remote\"],\"xaxis\":\"x\",\"y\":[1],\"yaxis\":\"y\",\"type\":\"bar\"},{\"alignmentgroup\":\"True\",\"hovertemplate\":\"job_role=Data Scientist\\u003cbr\\u003ejob_location=%{x}\\u003cbr\\u003ecount=%{y}\\u003cextra\\u003e\\u003c\\u002fextra\\u003e\",\"legendgroup\":\"Data Scientist\",\"marker\":{\"color\":\"#00cc96\",\"pattern\":{\"shape\":\"\"}},\"name\":\"Data Scientist\",\"offsetgroup\":\"Data Scientist\",\"orientation\":\"v\",\"showlegend\":true,\"textposition\":\"auto\",\"x\":[\"Remote\"],\"xaxis\":\"x\",\"y\":[1],\"yaxis\":\"y\",\"type\":\"bar\"},{\"alignmentgroup\":\"True\",\"hovertemplate\":\"job_role=Machine Learning Engineer\\u003cbr\\u003ejob_location=%{x}\\u003cbr\\u003ecount=%{y}\\u003cextra\\u003e\\u003c\\u002fextra\\u003e\",\"legendgroup\":\"Machine Learning Engineer\",\"marker\":{\"color\":\"#ab63fa\",\"pattern\":{\"shape\":\"\"}},\"name\":\"Machine Learning Engineer\",\"offsetgroup\":\"Machine Learning Engineer\",\"orientation\":\"v\",\"showlegend\":true,\"textposition\":\"auto\",\"x\":[\"Bengaluru\",\"Pune\",\"Bengaluru\",\"Bengaluru\",\"India\",\"Bengaluru\",\"India\",\"Bengaluru\",\"Bengaluru\",\"Bengaluru\",\"Bengaluru\",\"Bengaluru\",\"Bengaluru\",\"Bengaluru\",\"Bengaluru\",\"Bengaluru\",\"Bengaluru\",\"Bengaluru\",\"Bengaluru\",\"Bengaluru\",\"Bengaluru\",\"Bengaluru\",\"Bengaluru\",\"Bengaluru\",\"Bengaluru\",\"Bengaluru\",\"Bengaluru\",\"Bengaluru\",\"Bengaluru\",\"Bengaluru\",\"Bengaluru\",\"Bengaluru\",\"Bengaluru\",\"Bengaluru\",\"Bengaluru\"],\"xaxis\":\"x\",\"y\":[1,1,1,1,1,1,1,1,1,1,1,1,1,1,1,1,1,1,1,1,1,1,1,1,1,1,1,1,1,1,1,1,1,1,1],\"yaxis\":\"y\",\"type\":\"bar\"}],                        {\"template\":{\"data\":{\"histogram2dcontour\":[{\"type\":\"histogram2dcontour\",\"colorbar\":{\"outlinewidth\":0,\"ticks\":\"\"},\"colorscale\":[[0.0,\"#0d0887\"],[0.1111111111111111,\"#46039f\"],[0.2222222222222222,\"#7201a8\"],[0.3333333333333333,\"#9c179e\"],[0.4444444444444444,\"#bd3786\"],[0.5555555555555556,\"#d8576b\"],[0.6666666666666666,\"#ed7953\"],[0.7777777777777778,\"#fb9f3a\"],[0.8888888888888888,\"#fdca26\"],[1.0,\"#f0f921\"]]}],\"choropleth\":[{\"type\":\"choropleth\",\"colorbar\":{\"outlinewidth\":0,\"ticks\":\"\"}}],\"histogram2d\":[{\"type\":\"histogram2d\",\"colorbar\":{\"outlinewidth\":0,\"ticks\":\"\"},\"colorscale\":[[0.0,\"#0d0887\"],[0.1111111111111111,\"#46039f\"],[0.2222222222222222,\"#7201a8\"],[0.3333333333333333,\"#9c179e\"],[0.4444444444444444,\"#bd3786\"],[0.5555555555555556,\"#d8576b\"],[0.6666666666666666,\"#ed7953\"],[0.7777777777777778,\"#fb9f3a\"],[0.8888888888888888,\"#fdca26\"],[1.0,\"#f0f921\"]]}],\"heatmap\":[{\"type\":\"heatmap\",\"colorbar\":{\"outlinewidth\":0,\"ticks\":\"\"},\"colorscale\":[[0.0,\"#0d0887\"],[0.1111111111111111,\"#46039f\"],[0.2222222222222222,\"#7201a8\"],[0.3333333333333333,\"#9c179e\"],[0.4444444444444444,\"#bd3786\"],[0.5555555555555556,\"#d8576b\"],[0.6666666666666666,\"#ed7953\"],[0.7777777777777778,\"#fb9f3a\"],[0.8888888888888888,\"#fdca26\"],[1.0,\"#f0f921\"]]}],\"heatmapgl\":[{\"type\":\"heatmapgl\",\"colorbar\":{\"outlinewidth\":0,\"ticks\":\"\"},\"colorscale\":[[0.0,\"#0d0887\"],[0.1111111111111111,\"#46039f\"],[0.2222222222222222,\"#7201a8\"],[0.3333333333333333,\"#9c179e\"],[0.4444444444444444,\"#bd3786\"],[0.5555555555555556,\"#d8576b\"],[0.6666666666666666,\"#ed7953\"],[0.7777777777777778,\"#fb9f3a\"],[0.8888888888888888,\"#fdca26\"],[1.0,\"#f0f921\"]]}],\"contourcarpet\":[{\"type\":\"contourcarpet\",\"colorbar\":{\"outlinewidth\":0,\"ticks\":\"\"}}],\"contour\":[{\"type\":\"contour\",\"colorbar\":{\"outlinewidth\":0,\"ticks\":\"\"},\"colorscale\":[[0.0,\"#0d0887\"],[0.1111111111111111,\"#46039f\"],[0.2222222222222222,\"#7201a8\"],[0.3333333333333333,\"#9c179e\"],[0.4444444444444444,\"#bd3786\"],[0.5555555555555556,\"#d8576b\"],[0.6666666666666666,\"#ed7953\"],[0.7777777777777778,\"#fb9f3a\"],[0.8888888888888888,\"#fdca26\"],[1.0,\"#f0f921\"]]}],\"surface\":[{\"type\":\"surface\",\"colorbar\":{\"outlinewidth\":0,\"ticks\":\"\"},\"colorscale\":[[0.0,\"#0d0887\"],[0.1111111111111111,\"#46039f\"],[0.2222222222222222,\"#7201a8\"],[0.3333333333333333,\"#9c179e\"],[0.4444444444444444,\"#bd3786\"],[0.5555555555555556,\"#d8576b\"],[0.6666666666666666,\"#ed7953\"],[0.7777777777777778,\"#fb9f3a\"],[0.8888888888888888,\"#fdca26\"],[1.0,\"#f0f921\"]]}],\"mesh3d\":[{\"type\":\"mesh3d\",\"colorbar\":{\"outlinewidth\":0,\"ticks\":\"\"}}],\"scatter\":[{\"fillpattern\":{\"fillmode\":\"overlay\",\"size\":10,\"solidity\":0.2},\"type\":\"scatter\"}],\"parcoords\":[{\"type\":\"parcoords\",\"line\":{\"colorbar\":{\"outlinewidth\":0,\"ticks\":\"\"}}}],\"scatterpolargl\":[{\"type\":\"scatterpolargl\",\"marker\":{\"colorbar\":{\"outlinewidth\":0,\"ticks\":\"\"}}}],\"bar\":[{\"error_x\":{\"color\":\"#2a3f5f\"},\"error_y\":{\"color\":\"#2a3f5f\"},\"marker\":{\"line\":{\"color\":\"#E5ECF6\",\"width\":0.5},\"pattern\":{\"fillmode\":\"overlay\",\"size\":10,\"solidity\":0.2}},\"type\":\"bar\"}],\"scattergeo\":[{\"type\":\"scattergeo\",\"marker\":{\"colorbar\":{\"outlinewidth\":0,\"ticks\":\"\"}}}],\"scatterpolar\":[{\"type\":\"scatterpolar\",\"marker\":{\"colorbar\":{\"outlinewidth\":0,\"ticks\":\"\"}}}],\"histogram\":[{\"marker\":{\"pattern\":{\"fillmode\":\"overlay\",\"size\":10,\"solidity\":0.2}},\"type\":\"histogram\"}],\"scattergl\":[{\"type\":\"scattergl\",\"marker\":{\"colorbar\":{\"outlinewidth\":0,\"ticks\":\"\"}}}],\"scatter3d\":[{\"type\":\"scatter3d\",\"line\":{\"colorbar\":{\"outlinewidth\":0,\"ticks\":\"\"}},\"marker\":{\"colorbar\":{\"outlinewidth\":0,\"ticks\":\"\"}}}],\"scattermapbox\":[{\"type\":\"scattermapbox\",\"marker\":{\"colorbar\":{\"outlinewidth\":0,\"ticks\":\"\"}}}],\"scatterternary\":[{\"type\":\"scatterternary\",\"marker\":{\"colorbar\":{\"outlinewidth\":0,\"ticks\":\"\"}}}],\"scattercarpet\":[{\"type\":\"scattercarpet\",\"marker\":{\"colorbar\":{\"outlinewidth\":0,\"ticks\":\"\"}}}],\"carpet\":[{\"aaxis\":{\"endlinecolor\":\"#2a3f5f\",\"gridcolor\":\"white\",\"linecolor\":\"white\",\"minorgridcolor\":\"white\",\"startlinecolor\":\"#2a3f5f\"},\"baxis\":{\"endlinecolor\":\"#2a3f5f\",\"gridcolor\":\"white\",\"linecolor\":\"white\",\"minorgridcolor\":\"white\",\"startlinecolor\":\"#2a3f5f\"},\"type\":\"carpet\"}],\"table\":[{\"cells\":{\"fill\":{\"color\":\"#EBF0F8\"},\"line\":{\"color\":\"white\"}},\"header\":{\"fill\":{\"color\":\"#C8D4E3\"},\"line\":{\"color\":\"white\"}},\"type\":\"table\"}],\"barpolar\":[{\"marker\":{\"line\":{\"color\":\"#E5ECF6\",\"width\":0.5},\"pattern\":{\"fillmode\":\"overlay\",\"size\":10,\"solidity\":0.2}},\"type\":\"barpolar\"}],\"pie\":[{\"automargin\":true,\"type\":\"pie\"}]},\"layout\":{\"autotypenumbers\":\"strict\",\"colorway\":[\"#636efa\",\"#EF553B\",\"#00cc96\",\"#ab63fa\",\"#FFA15A\",\"#19d3f3\",\"#FF6692\",\"#B6E880\",\"#FF97FF\",\"#FECB52\"],\"font\":{\"color\":\"#2a3f5f\"},\"hovermode\":\"closest\",\"hoverlabel\":{\"align\":\"left\"},\"paper_bgcolor\":\"white\",\"plot_bgcolor\":\"#E5ECF6\",\"polar\":{\"bgcolor\":\"#E5ECF6\",\"angularaxis\":{\"gridcolor\":\"white\",\"linecolor\":\"white\",\"ticks\":\"\"},\"radialaxis\":{\"gridcolor\":\"white\",\"linecolor\":\"white\",\"ticks\":\"\"}},\"ternary\":{\"bgcolor\":\"#E5ECF6\",\"aaxis\":{\"gridcolor\":\"white\",\"linecolor\":\"white\",\"ticks\":\"\"},\"baxis\":{\"gridcolor\":\"white\",\"linecolor\":\"white\",\"ticks\":\"\"},\"caxis\":{\"gridcolor\":\"white\",\"linecolor\":\"white\",\"ticks\":\"\"}},\"coloraxis\":{\"colorbar\":{\"outlinewidth\":0,\"ticks\":\"\"}},\"colorscale\":{\"sequential\":[[0.0,\"#0d0887\"],[0.1111111111111111,\"#46039f\"],[0.2222222222222222,\"#7201a8\"],[0.3333333333333333,\"#9c179e\"],[0.4444444444444444,\"#bd3786\"],[0.5555555555555556,\"#d8576b\"],[0.6666666666666666,\"#ed7953\"],[0.7777777777777778,\"#fb9f3a\"],[0.8888888888888888,\"#fdca26\"],[1.0,\"#f0f921\"]],\"sequentialminus\":[[0.0,\"#0d0887\"],[0.1111111111111111,\"#46039f\"],[0.2222222222222222,\"#7201a8\"],[0.3333333333333333,\"#9c179e\"],[0.4444444444444444,\"#bd3786\"],[0.5555555555555556,\"#d8576b\"],[0.6666666666666666,\"#ed7953\"],[0.7777777777777778,\"#fb9f3a\"],[0.8888888888888888,\"#fdca26\"],[1.0,\"#f0f921\"]],\"diverging\":[[0,\"#8e0152\"],[0.1,\"#c51b7d\"],[0.2,\"#de77ae\"],[0.3,\"#f1b6da\"],[0.4,\"#fde0ef\"],[0.5,\"#f7f7f7\"],[0.6,\"#e6f5d0\"],[0.7,\"#b8e186\"],[0.8,\"#7fbc41\"],[0.9,\"#4d9221\"],[1,\"#276419\"]]},\"xaxis\":{\"gridcolor\":\"white\",\"linecolor\":\"white\",\"ticks\":\"\",\"title\":{\"standoff\":15},\"zerolinecolor\":\"white\",\"automargin\":true,\"zerolinewidth\":2},\"yaxis\":{\"gridcolor\":\"white\",\"linecolor\":\"white\",\"ticks\":\"\",\"title\":{\"standoff\":15},\"zerolinecolor\":\"white\",\"automargin\":true,\"zerolinewidth\":2},\"scene\":{\"xaxis\":{\"backgroundcolor\":\"#E5ECF6\",\"gridcolor\":\"white\",\"linecolor\":\"white\",\"showbackground\":true,\"ticks\":\"\",\"zerolinecolor\":\"white\",\"gridwidth\":2},\"yaxis\":{\"backgroundcolor\":\"#E5ECF6\",\"gridcolor\":\"white\",\"linecolor\":\"white\",\"showbackground\":true,\"ticks\":\"\",\"zerolinecolor\":\"white\",\"gridwidth\":2},\"zaxis\":{\"backgroundcolor\":\"#E5ECF6\",\"gridcolor\":\"white\",\"linecolor\":\"white\",\"showbackground\":true,\"ticks\":\"\",\"zerolinecolor\":\"white\",\"gridwidth\":2}},\"shapedefaults\":{\"line\":{\"color\":\"#2a3f5f\"}},\"annotationdefaults\":{\"arrowcolor\":\"#2a3f5f\",\"arrowhead\":0,\"arrowwidth\":1},\"geo\":{\"bgcolor\":\"white\",\"landcolor\":\"#E5ECF6\",\"subunitcolor\":\"white\",\"showland\":true,\"showlakes\":true,\"lakecolor\":\"white\"},\"title\":{\"x\":0.05},\"mapbox\":{\"style\":\"light\"}}},\"xaxis\":{\"anchor\":\"y\",\"domain\":[0.0,1.0],\"title\":{\"text\":\"job_location\"}},\"yaxis\":{\"anchor\":\"x\",\"domain\":[0.0,1.0],\"title\":{\"text\":\"count\"}},\"legend\":{\"title\":{\"text\":\"job_role\"},\"tracegroupgap\":0},\"title\":{\"text\":\"Geographic Distribution\"},\"barmode\":\"relative\"},                        {\"responsive\": true}                    )                };                            </script>        </div>"
            ],
            "text/plain": [
              "Figure({\n",
              "    'data': [{'alignmentgroup': 'True',\n",
              "              'hovertemplate': 'job_role=Data Engineer<br>job_location=%{x}<br>count=%{y}<extra></extra>',\n",
              "              'legendgroup': 'Data Engineer',\n",
              "              'marker': {'color': '#636efa', 'pattern': {'shape': ''}},\n",
              "              'name': 'Data Engineer',\n",
              "              'offsetgroup': 'Data Engineer',\n",
              "              'orientation': 'v',\n",
              "              'showlegend': True,\n",
              "              'textposition': 'auto',\n",
              "              'type': 'bar',\n",
              "              'x': array(['Hyderabad', 'Hyderabad', 'Remote', 'Bengaluru', 'Bengaluru', 'Pune',\n",
              "                          'Pune', 'Pune', 'Pune', 'Pune', 'Pune', 'Pune', 'Pune', 'Pune', 'Pune',\n",
              "                          'Pune', 'Pune', 'Pune', 'Pune', 'Pune', 'Pune', 'Pune', 'Pune', 'Pune',\n",
              "                          'Pune', 'Pune', 'Pune', 'Pune', 'Pune', 'Pune', 'Pune', 'Pune', 'Pune',\n",
              "                          'Pune', 'Pune'], dtype=object),\n",
              "              'xaxis': 'x',\n",
              "              'y': array([1, 1, 1, 1, 1, 1, 1, 1, 1, 1, 1, 1, 1, 1, 1, 1, 1, 1, 1, 1, 1, 1, 1, 1,\n",
              "                          1, 1, 1, 1, 1, 1, 1, 1, 1, 1, 1]),\n",
              "              'yaxis': 'y'},\n",
              "             {'alignmentgroup': 'True',\n",
              "              'hovertemplate': 'job_role=Data Analyst<br>job_location=%{x}<br>count=%{y}<extra></extra>',\n",
              "              'legendgroup': 'Data Analyst',\n",
              "              'marker': {'color': '#EF553B', 'pattern': {'shape': ''}},\n",
              "              'name': 'Data Analyst',\n",
              "              'offsetgroup': 'Data Analyst',\n",
              "              'orientation': 'v',\n",
              "              'showlegend': True,\n",
              "              'textposition': 'auto',\n",
              "              'type': 'bar',\n",
              "              'x': array(['Remote'], dtype=object),\n",
              "              'xaxis': 'x',\n",
              "              'y': array([1]),\n",
              "              'yaxis': 'y'},\n",
              "             {'alignmentgroup': 'True',\n",
              "              'hovertemplate': 'job_role=Data Scientist<br>job_location=%{x}<br>count=%{y}<extra></extra>',\n",
              "              'legendgroup': 'Data Scientist',\n",
              "              'marker': {'color': '#00cc96', 'pattern': {'shape': ''}},\n",
              "              'name': 'Data Scientist',\n",
              "              'offsetgroup': 'Data Scientist',\n",
              "              'orientation': 'v',\n",
              "              'showlegend': True,\n",
              "              'textposition': 'auto',\n",
              "              'type': 'bar',\n",
              "              'x': array(['Remote'], dtype=object),\n",
              "              'xaxis': 'x',\n",
              "              'y': array([1]),\n",
              "              'yaxis': 'y'},\n",
              "             {'alignmentgroup': 'True',\n",
              "              'hovertemplate': ('job_role=Machine Learning Engi' ... '}<br>count=%{y}<extra></extra>'),\n",
              "              'legendgroup': 'Machine Learning Engineer',\n",
              "              'marker': {'color': '#ab63fa', 'pattern': {'shape': ''}},\n",
              "              'name': 'Machine Learning Engineer',\n",
              "              'offsetgroup': 'Machine Learning Engineer',\n",
              "              'orientation': 'v',\n",
              "              'showlegend': True,\n",
              "              'textposition': 'auto',\n",
              "              'type': 'bar',\n",
              "              'x': array(['Bengaluru', 'Pune', 'Bengaluru', 'Bengaluru', 'India', 'Bengaluru',\n",
              "                          'India', 'Bengaluru', 'Bengaluru', 'Bengaluru', 'Bengaluru',\n",
              "                          'Bengaluru', 'Bengaluru', 'Bengaluru', 'Bengaluru', 'Bengaluru',\n",
              "                          'Bengaluru', 'Bengaluru', 'Bengaluru', 'Bengaluru', 'Bengaluru',\n",
              "                          'Bengaluru', 'Bengaluru', 'Bengaluru', 'Bengaluru', 'Bengaluru',\n",
              "                          'Bengaluru', 'Bengaluru', 'Bengaluru', 'Bengaluru', 'Bengaluru',\n",
              "                          'Bengaluru', 'Bengaluru', 'Bengaluru', 'Bengaluru'], dtype=object),\n",
              "              'xaxis': 'x',\n",
              "              'y': array([1, 1, 1, 1, 1, 1, 1, 1, 1, 1, 1, 1, 1, 1, 1, 1, 1, 1, 1, 1, 1, 1, 1, 1,\n",
              "                          1, 1, 1, 1, 1, 1, 1, 1, 1, 1, 1]),\n",
              "              'yaxis': 'y'}],\n",
              "    'layout': {'barmode': 'relative',\n",
              "               'legend': {'title': {'text': 'job_role'}, 'tracegroupgap': 0},\n",
              "               'template': '...',\n",
              "               'title': {'text': 'Geographic Distribution'},\n",
              "               'xaxis': {'anchor': 'y', 'domain': [0.0, 1.0], 'title': {'text': 'job_location'}},\n",
              "               'yaxis': {'anchor': 'x', 'domain': [0.0, 1.0], 'title': {'text': 'count'}}}\n",
              "})"
            ]
          },
          "execution_count": 80,
          "metadata": {},
          "output_type": "execute_result"
        }
      ],
      "source": [
        "px.bar(df1,x='job_location',color='job_role',title='Geographic Distribution')"
      ]
    },
    {
      "cell_type": "code",
      "execution_count": null,
      "id": "06d60a19",
      "metadata": {
        "colab": {
          "base_uri": "https://localhost:8080/",
          "height": 669
        },
        "id": "06d60a19",
        "outputId": "a162422f-d219-4aac-bd1e-f75bb2e678e3"
      },
      "outputs": [
        {
          "name": "stderr",
          "output_type": "stream",
          "text": [
            "<ipython-input-48-7813c22738d5>:9: SettingWithCopyWarning:\n",
            "\n",
            "\n",
            "A value is trying to be set on a copy of a slice from a DataFrame\n",
            "\n",
            "See the caveats in the documentation: https://pandas.pydata.org/pandas-docs/stable/user_guide/indexing.html#returning-a-view-versus-a-copy\n",
            "\n"
          ]
        },
        {
          "data": {
            "text/html": [
              "<html>\n",
              "<head><meta charset=\"utf-8\" /></head>\n",
              "<body>\n",
              "    <div>            <script src=\"https://cdnjs.cloudflare.com/ajax/libs/mathjax/2.7.5/MathJax.js?config=TeX-AMS-MML_SVG\"></script><script type=\"text/javascript\">if (window.MathJax) {MathJax.Hub.Config({SVG: {font: \"STIX-Web\"}});}</script>                <script type=\"text/javascript\">window.PlotlyConfig = {MathJaxConfig: 'local'};</script>\n",
              "        <script src=\"https://cdn.plot.ly/plotly-2.8.3.min.js\"></script>                <div id=\"23c4ae8c-7f04-41c4-a38f-ce760499f461\" class=\"plotly-graph-div\" style=\"height:525px; width:100%;\"></div>            <script type=\"text/javascript\">                                    window.PLOTLYENV=window.PLOTLYENV || {};                                    if (document.getElementById(\"23c4ae8c-7f04-41c4-a38f-ce760499f461\")) {                    Plotly.newPlot(                        \"23c4ae8c-7f04-41c4-a38f-ce760499f461\",                        [{\"alignmentgroup\":\"True\",\"hovertemplate\":\"job_role=Data Engineer<br>job_location=%{x}<br>count=%{y}<extra></extra>\",\"legendgroup\":\"Data Engineer\",\"marker\":{\"color\":\"#636efa\",\"pattern\":{\"shape\":\"\"}},\"name\":\"Data Engineer\",\"offsetgroup\":\"Data Engineer\",\"orientation\":\"v\",\"showlegend\":true,\"textposition\":\"auto\",\"x\":[\"Karnataka\",\"Maharashtra\",\"Karnataka\",\"Karnataka\",\"Karnataka\",\"Karnataka\",null,\"Telangana\",\"Uttar Pradesh\",null,null,null,null,null,null,\"Telangana\",\"Karnataka\",null,null,\"Karnataka\",\"Karnataka\",\"Karnataka\",\"Maharashtra\",null,null,\"Karnataka\",\"Andhra Pradesh\",\"Karnataka\",null,\"Tamil Nadu\",\"Karnataka\",\"Karnataka\",\"Karnataka\",\"Maharashtra\",null,\"Telangana\",\"Karnataka\",\"Karnataka\",null,null,\"Chhattisgarh\",\"Karnataka\",\"Karnataka\",\"Karnataka\",\"Uttar Pradesh\",\"Madhya Pradesh\",\"Tamil Nadu\",null,\"Karnataka\",null,\"Karnataka\",null,\"Maharashtra\",null,null,\"Maharashtra\",null,\"Karnataka\",null,\"Karnataka\",\"Karnataka\",\"Tamil Nadu\",\"Karnataka\",\"Karnataka\",\"Tamil Nadu\",\"Karnataka\",\"Karnataka\",null,\"Karnataka\",null,\"Karnataka\",\"Uttar Pradesh\",\"Karnataka\",\"Gujarat\",\"Karnataka\",null,null,\"Karnataka\",null,null,\"Tamil Nadu\",\"Maharashtra\",\"Karnataka\",\"Andaman and Nicobar Islands\",\"Karnataka\",null,\"Uttar Pradesh\",\"Karnataka\",\"Karnataka\",\"Karnataka\",\"Karnataka\",null,\"Karnataka\",\"Andaman and Nicobar Islands\",\"Karnataka\",null,\"Karnataka\",\"Uttar Pradesh\",null,\"Telangana\",\"Karnataka\",\"Madhya Pradesh\",\"Andaman and Nicobar Islands\",\"Tamil Nadu\",\"Telangana\",\"Tamil Nadu\",null,\"Karnataka\",\"Andaman and Nicobar Islands\",\"Maharashtra\",null,\"Telangana\",\"Maharashtra\",\"Maharashtra\",\"Tamil Nadu\",\"Karnataka\",\"Maharashtra\",\"Maharashtra\",\"Karnataka\",\"Karnataka\",\"Andaman and Nicobar Islands\",\"Kerala\",null,\"Karnataka\",\"Karnataka\",null,null,\"Maharashtra\",null,\"Maharashtra\",null,\"Haryana\",\"Andaman and Nicobar Islands\",null,\"Karnataka\",\"Maharashtra\",\"Haryana\",\"Karnataka\",null,\"Karnataka\",\"Karnataka\",null,\"Tamil Nadu\",null,\"Andaman and Nicobar Islands\",\"Haryana\",null,\"Maharashtra\",null,\"Karnataka\",null,\"Karnataka\",\"Rajasthan\",\"Andaman and Nicobar Islands\",\"Chandigarh\",\"Karnataka\",\"West Bengal\",\"Karnataka\",\"Karnataka\",\"Maharashtra\",null,\"Karnataka\",null,null,\"Maharashtra\",\"Karnataka\",\"Karnataka\",null,\"Andaman and Nicobar Islands\",\"Tamil Nadu\",\"Tamil Nadu\",\"Haryana\",\"Karnataka\",null,\"Karnataka\",null,null,\"Andaman and Nicobar Islands\",null,\"Karnataka\",null,\"Karnataka\",null,\"Karnataka\",\"Haryana\",\"Tamil Nadu\",\"Karnataka\",\"Karnataka\",\"Andaman and Nicobar Islands\",\"Karnataka\",\"Maharashtra\",\"Kerala\",\"West Bengal\",\"West Bengal\",\"Haryana\",\"Karnataka\",\"Karnataka\",\"Telangana\",null,\"Haryana\",\"Karnataka\",\"Maharashtra\",null,\"Karnataka\",\"Tamil Nadu\",\"Maharashtra\",\"Tamil Nadu\",\"Karnataka\",\"Karnataka\",\"Punjab\",\"Telangana\",\"Telangana\",\"Karnataka\",\"Telangana\",\"Karnataka\",null,\"Karnataka\",null,null,\"Kerala\",\"Maharashtra\",\"Tamil Nadu\",null,\"Telangana\",\"Tamil Nadu\",null,\"Karnataka\",\"Karnataka\",null,\"Karnataka\",\"Karnataka\",null,\"Karnataka\",\"Karnataka\",\"Telangana\",\"Uttar Pradesh\",\"Haryana\",\"Haryana\",null,\"Tamil Nadu\",\"Andhra Pradesh\",\"Karnataka\",null,null,null,\"Karnataka\",\"Telangana\",\"Karnataka\",\"Karnataka\",\"Karnataka\",null,\"Tamil Nadu\",\"Maharashtra\",null,null,\"Karnataka\",\"Haryana\",\"Maharashtra\",null,\"Karnataka\",\"Maharashtra\",\"Telangana\",null,\"Tamil Nadu\",\"Karnataka\",\"Maharashtra\",\"Karnataka\",\"Karnataka\",\"Maharashtra\",\"Karnataka\",\"Telangana\",null,\"Maharashtra\",\"Karnataka\",\"Maharashtra\",\"Kerala\",null,\"Maharashtra\",\"Telangana\",\"Karnataka\",\"Karnataka\",\"Maharashtra\",\"Tamil Nadu\",\"Telangana\",\"Maharashtra\",\"Karnataka\",\"Tamil Nadu\",\"Karnataka\",\"Maharashtra\",\"Tamil Nadu\",null,\"Maharashtra\",\"Karnataka\",\"Maharashtra\",\"Telangana\",\"Karnataka\",\"Haryana\",\"Karnataka\",\"Telangana\",\"Karnataka\"],\"xaxis\":\"x\",\"y\":[1,1,1,1,1,1,1,1,1,1,1,1,1,1,1,1,1,1,1,1,1,1,1,1,1,1,1,1,1,1,1,1,1,1,1,1,1,1,1,1,1,1,1,1,1,1,1,1,1,1,1,1,1,1,1,1,1,1,1,1,1,1,1,1,1,1,1,1,1,1,1,1,1,1,1,1,1,1,1,1,1,1,1,1,1,1,1,1,1,1,1,1,1,1,1,1,1,1,1,1,1,1,1,1,1,1,1,1,1,1,1,1,1,1,1,1,1,1,1,1,1,1,1,1,1,1,1,1,1,1,1,1,1,1,1,1,1,1,1,1,1,1,1,1,1,1,1,1,1,1,1,1,1,1,1,1,1,1,1,1,1,1,1,1,1,1,1,1,1,1,1,1,1,1,1,1,1,1,1,1,1,1,1,1,1,1,1,1,1,1,1,1,1,1,1,1,1,1,1,1,1,1,1,1,1,1,1,1,1,1,1,1,1,1,1,1,1,1,1,1,1,1,1,1,1,1,1,1,1,1,1,1,1,1,1,1,1,1,1,1,1,1,1,1,1,1,1,1,1,1,1,1,1,1,1,1,1,1,1,1,1,1,1,1,1,1,1,1,1,1,1,1,1,1,1,1,1,1,1,1,1,1,1,1,1,1,1,1,1,1,1,1,1,1,1,1,1,1,1,1],\"yaxis\":\"y\",\"type\":\"bar\"},{\"alignmentgroup\":\"True\",\"hovertemplate\":\"job_role=Data Analyst<br>job_location=%{x}<br>count=%{y}<extra></extra>\",\"legendgroup\":\"Data Analyst\",\"marker\":{\"color\":\"#EF553B\",\"pattern\":{\"shape\":\"\"}},\"name\":\"Data Analyst\",\"offsetgroup\":\"Data Analyst\",\"orientation\":\"v\",\"showlegend\":true,\"textposition\":\"auto\",\"x\":[\"Karnataka\",\"Karnataka\",\"Telangana\",null,null,\"Telangana\",\"West Bengal\",null,\"Andhra Pradesh\",\"Telangana\",null,null,\"Telangana\",\"Karnataka\",\"Karnataka\",\"Karnataka\",null,null,\"Tamil Nadu\",null,\"Karnataka\",\"Maharashtra\",\"Maharashtra\",null,\"Tamil Nadu\",\"Karnataka\",null,\"Tamil Nadu\",null,null,\"Karnataka\",null,\"Karnataka\",null,\"Maharashtra\",null,\"Karnataka\",null,\"Karnataka\",\"Karnataka\",\"Karnataka\",\"Karnataka\",\"Telangana\",null,null,null,null,\"Karnataka\",\"Karnataka\",\"Rajasthan\",\"Maharashtra\",null,null,\"Maharashtra\",\"Karnataka\",\"Karnataka\",null,\"Karnataka\",\"Karnataka\",\"Maharashtra\",\"Telangana\",null,\"Maharashtra\",\"Haryana\",\"Karnataka\",\"Maharashtra\",null,\"Karnataka\",\"Haryana\",\"Uttar Pradesh\",\"Karnataka\",\"West Bengal\",null,\"Tamil Nadu\",\"Karnataka\",\"Karnataka\",\"Maharashtra\",\"Maharashtra\",\"Tamil Nadu\",null,\"Maharashtra\",\"Maharashtra\",null,null,\"Karnataka\",\"Karnataka\",\"Karnataka\",\"Karnataka\",\"Haryana\",\"Haryana\",null,\"Tamil Nadu\",\"Maharashtra\",\"Uttar Pradesh\",\"West Bengal\",\"Tamil Nadu\",\"Karnataka\",\"Maharashtra\",\"Maharashtra\",\"Gujarat\",\"Karnataka\",\"Maharashtra\",\"Haryana\",\"Karnataka\",\"Karnataka\",\"Uttar Pradesh\",\"Maharashtra\",\"Uttar Pradesh\",null,\"Kerala\",\"Maharashtra\",\"Karnataka\",\"Maharashtra\",\"Karnataka\",\"Maharashtra\",\"Haryana\",\"Haryana\",null,\"Haryana\",null,\"Maharashtra\",\"Karnataka\",\"Uttar Pradesh\",\"Gujarat\",\"Karnataka\",\"Karnataka\",\"Puducherry\",\"Telangana\",\"Maharashtra\",\"Maharashtra\",\"Haryana\",\"Karnataka\",\"Karnataka\",null,\"Karnataka\",null,\"Karnataka\",\"Chhattisgarh\",\"Rajasthan\",\"Maharashtra\",null,\"Telangana\",null,null,\"Haryana\",\"Karnataka\",null,\"Maharashtra\",\"Tamil Nadu\",\"Telangana\",\"Karnataka\",\"Gujarat\",null,\"Karnataka\",\"Gujarat\",\"Telangana\",\"Maharashtra\",\"Karnataka\",\"Karnataka\",null,\"Tamil Nadu\",\"Karnataka\",\"Punjab\",\"Karnataka\",\"Maharashtra\",\"Karnataka\",\"Gujarat\",\"West Bengal\",\"Telangana\",\"Karnataka\",\"Maharashtra\",\"Telangana\",\"Gujarat\",\"Karnataka\",\"Telangana\",\"Karnataka\",\"Haryana\",\"West Bengal\",\"Kerala\",\"Gujarat\",\"Karnataka\",\"Goa\",null,null,null,\"Haryana\",\"Andhra Pradesh\",\"Telangana\",null,\"Karnataka\",\"Tamil Nadu\",\"Karnataka\",\"Haryana\",\"Maharashtra\",\"Karnataka\",\"Karnataka\",\"Andhra Pradesh\",\"Maharashtra\",\"Haryana\",\"Tamil Nadu\",\"Karnataka\",null,null,\"Maharashtra\",\"Maharashtra\",\"Maharashtra\",\"Karnataka\",\"Tamil Nadu\",\"Maharashtra\",\"Karnataka\",\"Karnataka\",\"Telangana\",\"Tamil Nadu\",null,\"Chandigarh\",\"Karnataka\",\"Rajasthan\",\"Maharashtra\",\"Haryana\",\"Karnataka\",null,\"Karnataka\",\"Karnataka\",\"Uttar Pradesh\",\"Tamil Nadu\",\"Haryana\",\"Tamil Nadu\",\"Maharashtra\",null,\"Karnataka\",\"Haryana\",\"Gujarat\",\"Karnataka\",\"Telangana\",\"Maharashtra\",\"Karnataka\",\"Maharashtra\",null,null,\"Tamil Nadu\",\"Karnataka\",\"Tamil Nadu\",\"Haryana\",\"Telangana\",\"Maharashtra\",\"Kerala\",\"Karnataka\",\"Tamil Nadu\",\"Karnataka\",\"Haryana\",\"Gujarat\",\"Karnataka\",\"Telangana\",\"Tamil Nadu\",\"Karnataka\",\"Uttar Pradesh\",\"Karnataka\",null,\"Maharashtra\",\"Maharashtra\",null,\"Tamil Nadu\",\"Karnataka\",\"Karnataka\",\"Karnataka\",\"Karnataka\",\"Haryana\",\"Gujarat\",\"Gujarat\",\"Telangana\",null,\"Telangana\",\"Punjab\",\"Maharashtra\",\"Uttar Pradesh\",\"Karnataka\",\"Karnataka\",\"Telangana\",\"Tamil Nadu\",\"Kerala\",null,\"Gujarat\",\"Karnataka\",\"Rajasthan\",null,\"Maharashtra\",\"Gujarat\",\"Uttar Pradesh\",\"Karnataka\",\"Maharashtra\",null,\"Maharashtra\",\"Karnataka\",null,\"Karnataka\",\"Telangana\",\"Punjab\",\"Karnataka\",\"Karnataka\",null],\"xaxis\":\"x\",\"y\":[1,1,1,1,1,1,1,1,1,1,1,1,1,1,1,1,1,1,1,1,1,1,1,1,1,1,1,1,1,1,1,1,1,1,1,1,1,1,1,1,1,1,1,1,1,1,1,1,1,1,1,1,1,1,1,1,1,1,1,1,1,1,1,1,1,1,1,1,1,1,1,1,1,1,1,1,1,1,1,1,1,1,1,1,1,1,1,1,1,1,1,1,1,1,1,1,1,1,1,1,1,1,1,1,1,1,1,1,1,1,1,1,1,1,1,1,1,1,1,1,1,1,1,1,1,1,1,1,1,1,1,1,1,1,1,1,1,1,1,1,1,1,1,1,1,1,1,1,1,1,1,1,1,1,1,1,1,1,1,1,1,1,1,1,1,1,1,1,1,1,1,1,1,1,1,1,1,1,1,1,1,1,1,1,1,1,1,1,1,1,1,1,1,1,1,1,1,1,1,1,1,1,1,1,1,1,1,1,1,1,1,1,1,1,1,1,1,1,1,1,1,1,1,1,1,1,1,1,1,1,1,1,1,1,1,1,1,1,1,1,1,1,1,1,1,1,1,1,1,1,1,1,1,1,1,1,1,1,1,1,1,1,1,1,1,1,1,1,1,1,1,1,1,1,1,1,1,1,1,1,1,1,1,1,1,1,1,1,1,1,1,1,1,1,1,1,1,1,1,1],\"yaxis\":\"y\",\"type\":\"bar\"},{\"alignmentgroup\":\"True\",\"hovertemplate\":\"job_role=Data Scientist<br>job_location=%{x}<br>count=%{y}<extra></extra>\",\"legendgroup\":\"Data Scientist\",\"marker\":{\"color\":\"#00cc96\",\"pattern\":{\"shape\":\"\"}},\"name\":\"Data Scientist\",\"offsetgroup\":\"Data Scientist\",\"orientation\":\"v\",\"showlegend\":true,\"textposition\":\"auto\",\"x\":[\"Karnataka\",\"Karnataka\",null,\"Telangana\",\"Karnataka\",\"Tamil Nadu\",\"Karnataka\",null,\"Maharashtra\",\"Maharashtra\",\"Karnataka\",\"Maharashtra\",\"Maharashtra\",null,\"Karnataka\",\"Karnataka\",null,null,null,\"Karnataka\",\"Karnataka\",\"Maharashtra\",\"Maharashtra\",\"Karnataka\",\"Karnataka\",\"Madhya Pradesh\",\"Karnataka\",\"Karnataka\",\"Telangana\",\"Karnataka\",null,\"Telangana\",\"Maharashtra\",null,\"Karnataka\",\"Karnataka\",\"Haryana\",\"Telangana\",\"Telangana\",\"Uttar Pradesh\",\"Telangana\",null,\"Karnataka\",null,\"West Bengal\",\"Haryana\",\"Karnataka\",\"Karnataka\",\"Tamil Nadu\",\"Karnataka\",\"Maharashtra\",\"Karnataka\",\"Haryana\",null,\"Karnataka\",\"Karnataka\",\"Telangana\",\"Karnataka\",\"Tamil Nadu\",\"Karnataka\",null,\"Kerala\",\"Maharashtra\",null,null,null,\"Karnataka\",\"Haryana\",\"Karnataka\",\"Karnataka\",\"Karnataka\",null,\"Karnataka\",\"Karnataka\",\"Karnataka\",\"Kerala\",null,\"Kerala\",null,\"Maharashtra\",\"Telangana\",null,null,\"Tamil Nadu\",null,\"Karnataka\",null,\"Maharashtra\",\"Tamil Nadu\",\"Haryana\",null,null,\"Haryana\",\"Karnataka\",\"Maharashtra\",\"Karnataka\",\"Karnataka\",\"Karnataka\",\"Chandigarh\",null,\"Karnataka\",\"Maharashtra\",\"Karnataka\",\"Karnataka\",null,\"Rajasthan\",\"Karnataka\",\"Karnataka\",\"Maharashtra\",\"Gujarat\",\"Haryana\",\"Karnataka\",\"Maharashtra\",null,\"Haryana\",\"Karnataka\",\"Maharashtra\",\"Karnataka\",\"Punjab\",\"Maharashtra\",\"Maharashtra\",\"Maharashtra\",null,null,\"Karnataka\",\"Karnataka\",\"Karnataka\",\"Telangana\",\"Karnataka\",\"Tamil Nadu\",\"Maharashtra\",\"Tamil Nadu\",\"Telangana\",\"Karnataka\",\"Karnataka\",null,\"Karnataka\",\"Gujarat\",\"Karnataka\",\"Karnataka\",\"Telangana\",\"Tamil Nadu\",\"Karnataka\",\"Telangana\",null,\"Maharashtra\",null,\"Maharashtra\",\"Karnataka\",\"Karnataka\",\"Maharashtra\",\"Haryana\",\"Karnataka\",null,\"Tamil Nadu\",\"Maharashtra\",\"Telangana\",\"Maharashtra\",\"Kerala\",\"Maharashtra\",\"Maharashtra\",\"Tamil Nadu\",\"Maharashtra\",\"Karnataka\",null,\"Karnataka\",\"Kerala\",\"Maharashtra\",\"Maharashtra\",\"Karnataka\",\"Telangana\",\"Jharkhand\",\"Haryana\",null,\"Karnataka\",\"Karnataka\",\"Tamil Nadu\",null,\"Karnataka\",\"Haryana\",\"Maharashtra\",\"Telangana\",\"Karnataka\",\"Karnataka\",\"Karnataka\",\"Maharashtra\",null,\"Karnataka\",null,\"Maharashtra\",\"Karnataka\",\"Karnataka\",\"Karnataka\",\"Maharashtra\",null,\"Haryana\",\"Karnataka\",\"Karnataka\",\"Punjab\",\"Tamil Nadu\",\"Karnataka\",\"Maharashtra\",\"Karnataka\",\"Telangana\",\"Karnataka\",\"Tamil Nadu\",\"Punjab\",\"Maharashtra\",\"Karnataka\",\"Karnataka\",\"Karnataka\",\"Haryana\",\"Haryana\",\"Karnataka\",\"Tamil Nadu\",\"Uttar Pradesh\",\"Karnataka\",\"Uttar Pradesh\",\"Maharashtra\",\"Maharashtra\",\"Kerala\",\"Karnataka\",\"Haryana\",\"Jharkhand\",\"Maharashtra\",\"Telangana\",\"Andhra Pradesh\",\"Karnataka\",\"Telangana\",\"Karnataka\",\"Karnataka\",\"Karnataka\",\"Karnataka\",\"Karnataka\",\"Karnataka\",\"Haryana\",\"Karnataka\",\"Karnataka\",\"Karnataka\",\"Telangana\",\"Karnataka\",\"Karnataka\",\"Maharashtra\",null,\"Tamil Nadu\",\"Maharashtra\",\"Maharashtra\",\"Tamil Nadu\",\"Karnataka\",\"Kerala\",\"Tamil Nadu\",\"Maharashtra\",\"Karnataka\",\"Karnataka\",\"Uttar Pradesh\",\"Karnataka\",\"Maharashtra\",\"Maharashtra\",\"Maharashtra\",null,\"Karnataka\",\"Karnataka\",\"Karnataka\",null,\"Tamil Nadu\",\"Telangana\",null,\"Karnataka\",\"Maharashtra\",\"Maharashtra\",null,null,\"Uttar Pradesh\",\"Karnataka\",\"Karnataka\",\"Tamil Nadu\",\"Telangana\",null,\"Karnataka\",\"Karnataka\",\"Karnataka\",\"Karnataka\",\"Telangana\",\"Maharashtra\",\"Madhya Pradesh\",\"Kerala\",\"Tamil Nadu\",\"Maharashtra\",\"Telangana\",\"Karnataka\",\"Karnataka\",\"Telangana\",\"Chandigarh\",\"Haryana\",\"Gujarat\",\"Tamil Nadu\",null,\"Karnataka\",\"Karnataka\",\"Karnataka\"],\"xaxis\":\"x\",\"y\":[1,1,1,1,1,1,1,1,1,1,1,1,1,1,1,1,1,1,1,1,1,1,1,1,1,1,1,1,1,1,1,1,1,1,1,1,1,1,1,1,1,1,1,1,1,1,1,1,1,1,1,1,1,1,1,1,1,1,1,1,1,1,1,1,1,1,1,1,1,1,1,1,1,1,1,1,1,1,1,1,1,1,1,1,1,1,1,1,1,1,1,1,1,1,1,1,1,1,1,1,1,1,1,1,1,1,1,1,1,1,1,1,1,1,1,1,1,1,1,1,1,1,1,1,1,1,1,1,1,1,1,1,1,1,1,1,1,1,1,1,1,1,1,1,1,1,1,1,1,1,1,1,1,1,1,1,1,1,1,1,1,1,1,1,1,1,1,1,1,1,1,1,1,1,1,1,1,1,1,1,1,1,1,1,1,1,1,1,1,1,1,1,1,1,1,1,1,1,1,1,1,1,1,1,1,1,1,1,1,1,1,1,1,1,1,1,1,1,1,1,1,1,1,1,1,1,1,1,1,1,1,1,1,1,1,1,1,1,1,1,1,1,1,1,1,1,1,1,1,1,1,1,1,1,1,1,1,1,1,1,1,1,1,1,1,1,1,1,1,1,1,1,1,1,1,1,1,1,1,1,1,1,1,1,1,1,1,1,1,1,1,1,1,1,1,1,1,1,1,1],\"yaxis\":\"y\",\"type\":\"bar\"},{\"alignmentgroup\":\"True\",\"hovertemplate\":\"job_role=Machine Learning Engineer<br>job_location=%{x}<br>count=%{y}<extra></extra>\",\"legendgroup\":\"Machine Learning Engineer\",\"marker\":{\"color\":\"#ab63fa\",\"pattern\":{\"shape\":\"\"}},\"name\":\"Machine Learning Engineer\",\"offsetgroup\":\"Machine Learning Engineer\",\"orientation\":\"v\",\"showlegend\":true,\"textposition\":\"auto\",\"x\":[\"Karnataka\",\"Karnataka\",null,null,\"Uttar Pradesh\",\"Karnataka\",null,null,\"Telangana\",\"Karnataka\",\"Gujarat\",\"Maharashtra\",\"Karnataka\",\"Telangana\",null,\"Haryana\",\"Karnataka\",\"Maharashtra\",null,\"Telangana\",\"Karnataka\",\"Maharashtra\",null,null,\"Maharashtra\",null,\"Karnataka\",\"Maharashtra\",\"Maharashtra\",\"Karnataka\",\"Karnataka\",\"Karnataka\",\"Karnataka\",\"Tamil Nadu\",null,\"Gujarat\",\"West Bengal\",\"Karnataka\",\"Maharashtra\",\"Karnataka\",\"Tamil Nadu\",\"Tamil Nadu\",\"Tamil Nadu\",\"Karnataka\",\"Karnataka\",\"Maharashtra\",\"Tamil Nadu\",\"Haryana\",\"Karnataka\",\"Uttar Pradesh\",\"Karnataka\",\"Karnataka\",\"Karnataka\",\"Maharashtra\",\"Karnataka\",\"Maharashtra\",\"Haryana\",\"Uttar Pradesh\",\"Karnataka\",\"Karnataka\",\"Karnataka\",\"Karnataka\",\"Gujarat\",\"Maharashtra\",\"Maharashtra\",\"Kerala\",\"Karnataka\",\"Maharashtra\",\"Karnataka\",\"Karnataka\",\"Tamil Nadu\",\"Maharashtra\",\"Karnataka\",\"Karnataka\",\"Karnataka\",\"Maharashtra\",\"Haryana\",\"Karnataka\",\"Karnataka\",\"Maharashtra\",\"Madhya Pradesh\",\"Karnataka\",null,\"Karnataka\",\"Karnataka\",\"Karnataka\",\"Maharashtra\",\"Tamil Nadu\",\"Maharashtra\",\"Karnataka\",\"Maharashtra\",\"Maharashtra\",\"Karnataka\",\"Karnataka\",null,\"Maharashtra\",\"Haryana\",null,\"Maharashtra\",\"Karnataka\",null,\"Telangana\",\"Karnataka\",\"Punjab\",\"Karnataka\",\"Karnataka\",\"Karnataka\",null,\"Karnataka\",\"Karnataka\",\"Haryana\",\"Telangana\",null,\"Karnataka\",\"Haryana\",\"Karnataka\",\"Karnataka\",\"Kerala\",\"Karnataka\",\"Tamil Nadu\",\"Maharashtra\",\"Maharashtra\",\"Maharashtra\",\"Gujarat\",\"Karnataka\",\"Tamil Nadu\",\"West Bengal\",\"Karnataka\",\"Maharashtra\",\"Maharashtra\",\"Karnataka\",\"Maharashtra\",null,null,\"Telangana\",\"Karnataka\",null,\"Karnataka\",\"Tamil Nadu\",\"Karnataka\",\"Telangana\",\"Maharashtra\",\"Telangana\",\"Maharashtra\",\"Tamil Nadu\",\"Karnataka\",\"Karnataka\",\"Karnataka\",\"Karnataka\",\"Karnataka\",\"Karnataka\",\"Karnataka\",\"Karnataka\",\"Telangana\",\"Tamil Nadu\",\"Maharashtra\",\"Tamil Nadu\",null,\"Telangana\",\"Karnataka\",\"Karnataka\",\"Karnataka\",\"Karnataka\",\"Gujarat\",\"Telangana\",\"Maharashtra\",\"Maharashtra\",\"Karnataka\",\"Uttar Pradesh\",\"Karnataka\",null,\"Karnataka\",\"Maharashtra\",\"Karnataka\",\"Maharashtra\",\"Tamil Nadu\",\"Karnataka\",\"Karnataka\",null,\"Maharashtra\",\"Karnataka\",\"Karnataka\",\"Telangana\",\"Telangana\",\"Maharashtra\",\"Karnataka\",\"Kerala\",\"Karnataka\",\"Karnataka\",\"Maharashtra\",\"Telangana\",\"Karnataka\",null,\"Tamil Nadu\",\"Punjab\",\"Maharashtra\",\"Haryana\",\"Karnataka\",\"Karnataka\",\"Karnataka\",\"Haryana\",null,\"Kerala\",\"Karnataka\",\"Telangana\",\"Karnataka\",null,null,\"Karnataka\",\"Karnataka\",\"West Bengal\",\"Karnataka\",\"Tamil Nadu\",\"Telangana\",\"Karnataka\",\"Karnataka\",\"Karnataka\",\"Karnataka\",null,\"Karnataka\",\"Karnataka\",null,null,\"Karnataka\",\"Karnataka\",\"Telangana\",\"Maharashtra\",\"Haryana\",\"Karnataka\",null,\"Karnataka\",\"Uttarakhand\",\"Karnataka\",\"Punjab\",\"Karnataka\",\"Telangana\",null,\"Karnataka\",null,\"Karnataka\",\"Maharashtra\",\"Karnataka\",\"Maharashtra\",\"Karnataka\",\"Rajasthan\",\"Telangana\",\"Karnataka\",\"Maharashtra\",\"Maharashtra\",\"Karnataka\",\"Tamil Nadu\",\"Telangana\",\"Karnataka\",null,\"Karnataka\",\"Karnataka\",\"Uttarakhand\",\"Karnataka\",\"Maharashtra\",\"Kerala\",\"Karnataka\",\"Karnataka\",\"Karnataka\",null,\"Maharashtra\",\"Karnataka\",\"Karnataka\",\"Karnataka\",\"Maharashtra\",\"Karnataka\",\"Karnataka\",\"Madhya Pradesh\",\"Telangana\",\"Karnataka\",\"Karnataka\",\"Uttar Pradesh\",\"Karnataka\",\"Uttar Pradesh\",\"Karnataka\",\"Maharashtra\",\"Haryana\",\"Karnataka\",\"Karnataka\",\"Kerala\",\"Karnataka\",null,\"Karnataka\",\"Karnataka\",\"Karnataka\",\"Karnataka\",\"Karnataka\",\"Tamil Nadu\",\"Gujarat\",\"Tamil Nadu\",\"Maharashtra\",\"Uttar Pradesh\",\"Karnataka\",\"Maharashtra\",\"Karnataka\",null],\"xaxis\":\"x\",\"y\":[1,1,1,1,1,1,1,1,1,1,1,1,1,1,1,1,1,1,1,1,1,1,1,1,1,1,1,1,1,1,1,1,1,1,1,1,1,1,1,1,1,1,1,1,1,1,1,1,1,1,1,1,1,1,1,1,1,1,1,1,1,1,1,1,1,1,1,1,1,1,1,1,1,1,1,1,1,1,1,1,1,1,1,1,1,1,1,1,1,1,1,1,1,1,1,1,1,1,1,1,1,1,1,1,1,1,1,1,1,1,1,1,1,1,1,1,1,1,1,1,1,1,1,1,1,1,1,1,1,1,1,1,1,1,1,1,1,1,1,1,1,1,1,1,1,1,1,1,1,1,1,1,1,1,1,1,1,1,1,1,1,1,1,1,1,1,1,1,1,1,1,1,1,1,1,1,1,1,1,1,1,1,1,1,1,1,1,1,1,1,1,1,1,1,1,1,1,1,1,1,1,1,1,1,1,1,1,1,1,1,1,1,1,1,1,1,1,1,1,1,1,1,1,1,1,1,1,1,1,1,1,1,1,1,1,1,1,1,1,1,1,1,1,1,1,1,1,1,1,1,1,1,1,1,1,1,1,1,1,1,1,1,1,1,1,1,1,1,1,1,1,1,1,1,1,1,1,1,1,1,1,1,1,1,1,1,1,1,1,1,1,1,1,1,1,1,1,1,1,1],\"yaxis\":\"y\",\"type\":\"bar\"}],                        {\"template\":{\"data\":{\"bar\":[{\"error_x\":{\"color\":\"#2a3f5f\"},\"error_y\":{\"color\":\"#2a3f5f\"},\"marker\":{\"line\":{\"color\":\"#E5ECF6\",\"width\":0.5},\"pattern\":{\"fillmode\":\"overlay\",\"size\":10,\"solidity\":0.2}},\"type\":\"bar\"}],\"barpolar\":[{\"marker\":{\"line\":{\"color\":\"#E5ECF6\",\"width\":0.5},\"pattern\":{\"fillmode\":\"overlay\",\"size\":10,\"solidity\":0.2}},\"type\":\"barpolar\"}],\"carpet\":[{\"aaxis\":{\"endlinecolor\":\"#2a3f5f\",\"gridcolor\":\"white\",\"linecolor\":\"white\",\"minorgridcolor\":\"white\",\"startlinecolor\":\"#2a3f5f\"},\"baxis\":{\"endlinecolor\":\"#2a3f5f\",\"gridcolor\":\"white\",\"linecolor\":\"white\",\"minorgridcolor\":\"white\",\"startlinecolor\":\"#2a3f5f\"},\"type\":\"carpet\"}],\"choropleth\":[{\"colorbar\":{\"outlinewidth\":0,\"ticks\":\"\"},\"type\":\"choropleth\"}],\"contour\":[{\"colorbar\":{\"outlinewidth\":0,\"ticks\":\"\"},\"colorscale\":[[0.0,\"#0d0887\"],[0.1111111111111111,\"#46039f\"],[0.2222222222222222,\"#7201a8\"],[0.3333333333333333,\"#9c179e\"],[0.4444444444444444,\"#bd3786\"],[0.5555555555555556,\"#d8576b\"],[0.6666666666666666,\"#ed7953\"],[0.7777777777777778,\"#fb9f3a\"],[0.8888888888888888,\"#fdca26\"],[1.0,\"#f0f921\"]],\"type\":\"contour\"}],\"contourcarpet\":[{\"colorbar\":{\"outlinewidth\":0,\"ticks\":\"\"},\"type\":\"contourcarpet\"}],\"heatmap\":[{\"colorbar\":{\"outlinewidth\":0,\"ticks\":\"\"},\"colorscale\":[[0.0,\"#0d0887\"],[0.1111111111111111,\"#46039f\"],[0.2222222222222222,\"#7201a8\"],[0.3333333333333333,\"#9c179e\"],[0.4444444444444444,\"#bd3786\"],[0.5555555555555556,\"#d8576b\"],[0.6666666666666666,\"#ed7953\"],[0.7777777777777778,\"#fb9f3a\"],[0.8888888888888888,\"#fdca26\"],[1.0,\"#f0f921\"]],\"type\":\"heatmap\"}],\"heatmapgl\":[{\"colorbar\":{\"outlinewidth\":0,\"ticks\":\"\"},\"colorscale\":[[0.0,\"#0d0887\"],[0.1111111111111111,\"#46039f\"],[0.2222222222222222,\"#7201a8\"],[0.3333333333333333,\"#9c179e\"],[0.4444444444444444,\"#bd3786\"],[0.5555555555555556,\"#d8576b\"],[0.6666666666666666,\"#ed7953\"],[0.7777777777777778,\"#fb9f3a\"],[0.8888888888888888,\"#fdca26\"],[1.0,\"#f0f921\"]],\"type\":\"heatmapgl\"}],\"histogram\":[{\"marker\":{\"pattern\":{\"fillmode\":\"overlay\",\"size\":10,\"solidity\":0.2}},\"type\":\"histogram\"}],\"histogram2d\":[{\"colorbar\":{\"outlinewidth\":0,\"ticks\":\"\"},\"colorscale\":[[0.0,\"#0d0887\"],[0.1111111111111111,\"#46039f\"],[0.2222222222222222,\"#7201a8\"],[0.3333333333333333,\"#9c179e\"],[0.4444444444444444,\"#bd3786\"],[0.5555555555555556,\"#d8576b\"],[0.6666666666666666,\"#ed7953\"],[0.7777777777777778,\"#fb9f3a\"],[0.8888888888888888,\"#fdca26\"],[1.0,\"#f0f921\"]],\"type\":\"histogram2d\"}],\"histogram2dcontour\":[{\"colorbar\":{\"outlinewidth\":0,\"ticks\":\"\"},\"colorscale\":[[0.0,\"#0d0887\"],[0.1111111111111111,\"#46039f\"],[0.2222222222222222,\"#7201a8\"],[0.3333333333333333,\"#9c179e\"],[0.4444444444444444,\"#bd3786\"],[0.5555555555555556,\"#d8576b\"],[0.6666666666666666,\"#ed7953\"],[0.7777777777777778,\"#fb9f3a\"],[0.8888888888888888,\"#fdca26\"],[1.0,\"#f0f921\"]],\"type\":\"histogram2dcontour\"}],\"mesh3d\":[{\"colorbar\":{\"outlinewidth\":0,\"ticks\":\"\"},\"type\":\"mesh3d\"}],\"parcoords\":[{\"line\":{\"colorbar\":{\"outlinewidth\":0,\"ticks\":\"\"}},\"type\":\"parcoords\"}],\"pie\":[{\"automargin\":true,\"type\":\"pie\"}],\"scatter\":[{\"marker\":{\"colorbar\":{\"outlinewidth\":0,\"ticks\":\"\"}},\"type\":\"scatter\"}],\"scatter3d\":[{\"line\":{\"colorbar\":{\"outlinewidth\":0,\"ticks\":\"\"}},\"marker\":{\"colorbar\":{\"outlinewidth\":0,\"ticks\":\"\"}},\"type\":\"scatter3d\"}],\"scattercarpet\":[{\"marker\":{\"colorbar\":{\"outlinewidth\":0,\"ticks\":\"\"}},\"type\":\"scattercarpet\"}],\"scattergeo\":[{\"marker\":{\"colorbar\":{\"outlinewidth\":0,\"ticks\":\"\"}},\"type\":\"scattergeo\"}],\"scattergl\":[{\"marker\":{\"colorbar\":{\"outlinewidth\":0,\"ticks\":\"\"}},\"type\":\"scattergl\"}],\"scattermapbox\":[{\"marker\":{\"colorbar\":{\"outlinewidth\":0,\"ticks\":\"\"}},\"type\":\"scattermapbox\"}],\"scatterpolar\":[{\"marker\":{\"colorbar\":{\"outlinewidth\":0,\"ticks\":\"\"}},\"type\":\"scatterpolar\"}],\"scatterpolargl\":[{\"marker\":{\"colorbar\":{\"outlinewidth\":0,\"ticks\":\"\"}},\"type\":\"scatterpolargl\"}],\"scatterternary\":[{\"marker\":{\"colorbar\":{\"outlinewidth\":0,\"ticks\":\"\"}},\"type\":\"scatterternary\"}],\"surface\":[{\"colorbar\":{\"outlinewidth\":0,\"ticks\":\"\"},\"colorscale\":[[0.0,\"#0d0887\"],[0.1111111111111111,\"#46039f\"],[0.2222222222222222,\"#7201a8\"],[0.3333333333333333,\"#9c179e\"],[0.4444444444444444,\"#bd3786\"],[0.5555555555555556,\"#d8576b\"],[0.6666666666666666,\"#ed7953\"],[0.7777777777777778,\"#fb9f3a\"],[0.8888888888888888,\"#fdca26\"],[1.0,\"#f0f921\"]],\"type\":\"surface\"}],\"table\":[{\"cells\":{\"fill\":{\"color\":\"#EBF0F8\"},\"line\":{\"color\":\"white\"}},\"header\":{\"fill\":{\"color\":\"#C8D4E3\"},\"line\":{\"color\":\"white\"}},\"type\":\"table\"}]},\"layout\":{\"annotationdefaults\":{\"arrowcolor\":\"#2a3f5f\",\"arrowhead\":0,\"arrowwidth\":1},\"autotypenumbers\":\"strict\",\"coloraxis\":{\"colorbar\":{\"outlinewidth\":0,\"ticks\":\"\"}},\"colorscale\":{\"diverging\":[[0,\"#8e0152\"],[0.1,\"#c51b7d\"],[0.2,\"#de77ae\"],[0.3,\"#f1b6da\"],[0.4,\"#fde0ef\"],[0.5,\"#f7f7f7\"],[0.6,\"#e6f5d0\"],[0.7,\"#b8e186\"],[0.8,\"#7fbc41\"],[0.9,\"#4d9221\"],[1,\"#276419\"]],\"sequential\":[[0.0,\"#0d0887\"],[0.1111111111111111,\"#46039f\"],[0.2222222222222222,\"#7201a8\"],[0.3333333333333333,\"#9c179e\"],[0.4444444444444444,\"#bd3786\"],[0.5555555555555556,\"#d8576b\"],[0.6666666666666666,\"#ed7953\"],[0.7777777777777778,\"#fb9f3a\"],[0.8888888888888888,\"#fdca26\"],[1.0,\"#f0f921\"]],\"sequentialminus\":[[0.0,\"#0d0887\"],[0.1111111111111111,\"#46039f\"],[0.2222222222222222,\"#7201a8\"],[0.3333333333333333,\"#9c179e\"],[0.4444444444444444,\"#bd3786\"],[0.5555555555555556,\"#d8576b\"],[0.6666666666666666,\"#ed7953\"],[0.7777777777777778,\"#fb9f3a\"],[0.8888888888888888,\"#fdca26\"],[1.0,\"#f0f921\"]]},\"colorway\":[\"#636efa\",\"#EF553B\",\"#00cc96\",\"#ab63fa\",\"#FFA15A\",\"#19d3f3\",\"#FF6692\",\"#B6E880\",\"#FF97FF\",\"#FECB52\"],\"font\":{\"color\":\"#2a3f5f\"},\"geo\":{\"bgcolor\":\"white\",\"lakecolor\":\"white\",\"landcolor\":\"#E5ECF6\",\"showlakes\":true,\"showland\":true,\"subunitcolor\":\"white\"},\"hoverlabel\":{\"align\":\"left\"},\"hovermode\":\"closest\",\"mapbox\":{\"style\":\"light\"},\"paper_bgcolor\":\"white\",\"plot_bgcolor\":\"#E5ECF6\",\"polar\":{\"angularaxis\":{\"gridcolor\":\"white\",\"linecolor\":\"white\",\"ticks\":\"\"},\"bgcolor\":\"#E5ECF6\",\"radialaxis\":{\"gridcolor\":\"white\",\"linecolor\":\"white\",\"ticks\":\"\"}},\"scene\":{\"xaxis\":{\"backgroundcolor\":\"#E5ECF6\",\"gridcolor\":\"white\",\"gridwidth\":2,\"linecolor\":\"white\",\"showbackground\":true,\"ticks\":\"\",\"zerolinecolor\":\"white\"},\"yaxis\":{\"backgroundcolor\":\"#E5ECF6\",\"gridcolor\":\"white\",\"gridwidth\":2,\"linecolor\":\"white\",\"showbackground\":true,\"ticks\":\"\",\"zerolinecolor\":\"white\"},\"zaxis\":{\"backgroundcolor\":\"#E5ECF6\",\"gridcolor\":\"white\",\"gridwidth\":2,\"linecolor\":\"white\",\"showbackground\":true,\"ticks\":\"\",\"zerolinecolor\":\"white\"}},\"shapedefaults\":{\"line\":{\"color\":\"#2a3f5f\"}},\"ternary\":{\"aaxis\":{\"gridcolor\":\"white\",\"linecolor\":\"white\",\"ticks\":\"\"},\"baxis\":{\"gridcolor\":\"white\",\"linecolor\":\"white\",\"ticks\":\"\"},\"bgcolor\":\"#E5ECF6\",\"caxis\":{\"gridcolor\":\"white\",\"linecolor\":\"white\",\"ticks\":\"\"}},\"title\":{\"x\":0.05},\"xaxis\":{\"automargin\":true,\"gridcolor\":\"white\",\"linecolor\":\"white\",\"ticks\":\"\",\"title\":{\"standoff\":15},\"zerolinecolor\":\"white\",\"zerolinewidth\":2},\"yaxis\":{\"automargin\":true,\"gridcolor\":\"white\",\"linecolor\":\"white\",\"ticks\":\"\",\"title\":{\"standoff\":15},\"zerolinecolor\":\"white\",\"zerolinewidth\":2}}},\"xaxis\":{\"anchor\":\"y\",\"domain\":[0.0,1.0],\"title\":{\"text\":\"job_location\"}},\"yaxis\":{\"anchor\":\"x\",\"domain\":[0.0,1.0],\"title\":{\"text\":\"count\"}},\"legend\":{\"title\":{\"text\":\"job_role\"},\"tracegroupgap\":0},\"title\":{\"text\":\"Geographic Distribution Statewise\"},\"barmode\":\"relative\"},                        {\"responsive\": true}                    ).then(function(){\n",
              "                            \n",
              "var gd = document.getElementById('23c4ae8c-7f04-41c4-a38f-ce760499f461');\n",
              "var x = new MutationObserver(function (mutations, observer) {{\n",
              "        var display = window.getComputedStyle(gd).display;\n",
              "        if (!display || display === 'none') {{\n",
              "            console.log([gd, 'removed!']);\n",
              "            Plotly.purge(gd);\n",
              "            observer.disconnect();\n",
              "        }}\n",
              "}});\n",
              "\n",
              "// Listen for the removal of the full notebook cells\n",
              "var notebookContainer = gd.closest('#notebook-container');\n",
              "if (notebookContainer) {{\n",
              "    x.observe(notebookContainer, {childList: true});\n",
              "}}\n",
              "\n",
              "// Listen for the clearing of the current output cell\n",
              "var outputEl = gd.closest('.output');\n",
              "if (outputEl) {{\n",
              "    x.observe(outputEl, {childList: true});\n",
              "}}\n",
              "\n",
              "                        })                };                            </script>        </div>\n",
              "</body>\n",
              "</html>"
            ]
          },
          "metadata": {},
          "output_type": "display_data"
        }
      ],
      "source": [
        "def returnstate(x):\n",
        "  states=[\"Andhra Pradesh\",\"Arunachal Pradesh \",\"Assam\",\"Bihar\",\"Chhattisgarh\",\"Goa\",\"Gujarat\",\"Haryana\",\"Himachal Pradesh\",\"Jammu and Kashmir\",\"Jharkhand\",\"Karnataka\",\"Kerala\",\"Madhya Pradesh\",\"Maharashtra\",\"Manipur\",\"Meghalaya\",\"Mizoram\",\"Nagaland\",\"Odisha\",\"Punjab\",\"Rajasthan\",\"Sikkim\",\"Tamil Nadu\",\"Telangana\",\"Tripura\",\"Uttar Pradesh\",\"Uttarakhand\",\"West Bengal\",\"Andaman and Nicobar Islands\",\"Chandigarh\",\"Dadra and Nagar Haveli\",\"Daman and Diu\",\"Lakshadweep\",\"National Capital Territory of Delhi\",\"Puducherry\"]\n",
        "  for state in states:\n",
        "    if state in x:\n",
        "      return state\n",
        "df2=df[['title','job_location','job_role']]\n",
        "df2.reset_index()\n",
        "new_df=df2['job_location'].apply(lambda x: returnstate(x)).reset_index()\n",
        "df2.loc[:,['job_location']]=new_df.loc[:,['job_location']]\n",
        "fig=px.bar(df2,x='job_location',color='job_role',title='Geographic Distribution Statewise')\n",
        "fig.show()"
      ]
    },
    {
      "cell_type": "code",
      "execution_count": null,
      "id": "45667008",
      "metadata": {
        "colab": {
          "base_uri": "https://localhost:8080/",
          "height": 560
        },
        "id": "45667008",
        "outputId": "5cbd1519-c551-4382-dc98-831ac5d5d95a"
      },
      "outputs": [
        {
          "data": {
            "text/html": [
              "<html>\n",
              "<head><meta charset=\"utf-8\" /></head>\n",
              "<body>\n",
              "    <div>            <script src=\"https://cdnjs.cloudflare.com/ajax/libs/mathjax/2.7.5/MathJax.js?config=TeX-AMS-MML_SVG\"></script><script type=\"text/javascript\">if (window.MathJax) {MathJax.Hub.Config({SVG: {font: \"STIX-Web\"}});}</script>                <script type=\"text/javascript\">window.PlotlyConfig = {MathJaxConfig: 'local'};</script>\n",
              "        <script src=\"https://cdn.plot.ly/plotly-2.8.3.min.js\"></script>                <div id=\"cf033483-26ce-4442-b0a0-706b1f49f7af\" class=\"plotly-graph-div\" style=\"height:525px; width:100%;\"></div>            <script type=\"text/javascript\">                                    window.PLOTLYENV=window.PLOTLYENV || {};                                    if (document.getElementById(\"cf033483-26ce-4442-b0a0-706b1f49f7af\")) {                    Plotly.newPlot(                        \"cf033483-26ce-4442-b0a0-706b1f49f7af\",                        [{\"alignmentgroup\":\"True\",\"hovertemplate\":\"States=%{x}<br>Number_of_Jobs=%{y}<extra></extra>\",\"legendgroup\":\"\",\"marker\":{\"color\":\"#636efa\",\"pattern\":{\"shape\":\"\"}},\"name\":\"\",\"offsetgroup\":\"\",\"orientation\":\"v\",\"showlegend\":false,\"textposition\":\"auto\",\"x\":[\"Andhra Pradesh\",\"Arunachal Pradesh \",\"Assam\",\"Bihar\",\"Chhattisgarh\",\"Goa\",\"Gujarat\",\"Haryana\",\"Himachal Pradesh\",\"Jammu and Kashmir\",\"Jharkhand\",\"Karnataka\",\"Kerala\",\"Madhya Pradesh\",\"Maharashtra\",\"Manipur\",\"Meghalaya\",\"Mizoram\",\"Nagaland\",\"Odisha\",\"Punjab\",\"Rajasthan\",\"Sikkim\",\"Tamil Nadu\",\"Telangana\",\"Tripura\",\"Uttar Pradesh\",\"Uttarakhand\",\"West Bengal\",\"Andaman and Nicobar Islands\",\"Chandigarh\",\"Dadra and Nagar Haveli\",\"Daman and Diu\",\"Lakshadweep\",\"National Capital Territory of Delhi\",\"Puducherry\"],\"xaxis\":\"x\",\"y\":[6,0,0,0,2,1,23,59,0,0,2,437,22,6,179,0,0,0,0,0,10,7,0,83,86,0,27,2,12,11,4,0,0,0,0,1],\"yaxis\":\"y\",\"type\":\"bar\"}],                        {\"template\":{\"data\":{\"bar\":[{\"error_x\":{\"color\":\"#2a3f5f\"},\"error_y\":{\"color\":\"#2a3f5f\"},\"marker\":{\"line\":{\"color\":\"#E5ECF6\",\"width\":0.5},\"pattern\":{\"fillmode\":\"overlay\",\"size\":10,\"solidity\":0.2}},\"type\":\"bar\"}],\"barpolar\":[{\"marker\":{\"line\":{\"color\":\"#E5ECF6\",\"width\":0.5},\"pattern\":{\"fillmode\":\"overlay\",\"size\":10,\"solidity\":0.2}},\"type\":\"barpolar\"}],\"carpet\":[{\"aaxis\":{\"endlinecolor\":\"#2a3f5f\",\"gridcolor\":\"white\",\"linecolor\":\"white\",\"minorgridcolor\":\"white\",\"startlinecolor\":\"#2a3f5f\"},\"baxis\":{\"endlinecolor\":\"#2a3f5f\",\"gridcolor\":\"white\",\"linecolor\":\"white\",\"minorgridcolor\":\"white\",\"startlinecolor\":\"#2a3f5f\"},\"type\":\"carpet\"}],\"choropleth\":[{\"colorbar\":{\"outlinewidth\":0,\"ticks\":\"\"},\"type\":\"choropleth\"}],\"contour\":[{\"colorbar\":{\"outlinewidth\":0,\"ticks\":\"\"},\"colorscale\":[[0.0,\"#0d0887\"],[0.1111111111111111,\"#46039f\"],[0.2222222222222222,\"#7201a8\"],[0.3333333333333333,\"#9c179e\"],[0.4444444444444444,\"#bd3786\"],[0.5555555555555556,\"#d8576b\"],[0.6666666666666666,\"#ed7953\"],[0.7777777777777778,\"#fb9f3a\"],[0.8888888888888888,\"#fdca26\"],[1.0,\"#f0f921\"]],\"type\":\"contour\"}],\"contourcarpet\":[{\"colorbar\":{\"outlinewidth\":0,\"ticks\":\"\"},\"type\":\"contourcarpet\"}],\"heatmap\":[{\"colorbar\":{\"outlinewidth\":0,\"ticks\":\"\"},\"colorscale\":[[0.0,\"#0d0887\"],[0.1111111111111111,\"#46039f\"],[0.2222222222222222,\"#7201a8\"],[0.3333333333333333,\"#9c179e\"],[0.4444444444444444,\"#bd3786\"],[0.5555555555555556,\"#d8576b\"],[0.6666666666666666,\"#ed7953\"],[0.7777777777777778,\"#fb9f3a\"],[0.8888888888888888,\"#fdca26\"],[1.0,\"#f0f921\"]],\"type\":\"heatmap\"}],\"heatmapgl\":[{\"colorbar\":{\"outlinewidth\":0,\"ticks\":\"\"},\"colorscale\":[[0.0,\"#0d0887\"],[0.1111111111111111,\"#46039f\"],[0.2222222222222222,\"#7201a8\"],[0.3333333333333333,\"#9c179e\"],[0.4444444444444444,\"#bd3786\"],[0.5555555555555556,\"#d8576b\"],[0.6666666666666666,\"#ed7953\"],[0.7777777777777778,\"#fb9f3a\"],[0.8888888888888888,\"#fdca26\"],[1.0,\"#f0f921\"]],\"type\":\"heatmapgl\"}],\"histogram\":[{\"marker\":{\"pattern\":{\"fillmode\":\"overlay\",\"size\":10,\"solidity\":0.2}},\"type\":\"histogram\"}],\"histogram2d\":[{\"colorbar\":{\"outlinewidth\":0,\"ticks\":\"\"},\"colorscale\":[[0.0,\"#0d0887\"],[0.1111111111111111,\"#46039f\"],[0.2222222222222222,\"#7201a8\"],[0.3333333333333333,\"#9c179e\"],[0.4444444444444444,\"#bd3786\"],[0.5555555555555556,\"#d8576b\"],[0.6666666666666666,\"#ed7953\"],[0.7777777777777778,\"#fb9f3a\"],[0.8888888888888888,\"#fdca26\"],[1.0,\"#f0f921\"]],\"type\":\"histogram2d\"}],\"histogram2dcontour\":[{\"colorbar\":{\"outlinewidth\":0,\"ticks\":\"\"},\"colorscale\":[[0.0,\"#0d0887\"],[0.1111111111111111,\"#46039f\"],[0.2222222222222222,\"#7201a8\"],[0.3333333333333333,\"#9c179e\"],[0.4444444444444444,\"#bd3786\"],[0.5555555555555556,\"#d8576b\"],[0.6666666666666666,\"#ed7953\"],[0.7777777777777778,\"#fb9f3a\"],[0.8888888888888888,\"#fdca26\"],[1.0,\"#f0f921\"]],\"type\":\"histogram2dcontour\"}],\"mesh3d\":[{\"colorbar\":{\"outlinewidth\":0,\"ticks\":\"\"},\"type\":\"mesh3d\"}],\"parcoords\":[{\"line\":{\"colorbar\":{\"outlinewidth\":0,\"ticks\":\"\"}},\"type\":\"parcoords\"}],\"pie\":[{\"automargin\":true,\"type\":\"pie\"}],\"scatter\":[{\"marker\":{\"colorbar\":{\"outlinewidth\":0,\"ticks\":\"\"}},\"type\":\"scatter\"}],\"scatter3d\":[{\"line\":{\"colorbar\":{\"outlinewidth\":0,\"ticks\":\"\"}},\"marker\":{\"colorbar\":{\"outlinewidth\":0,\"ticks\":\"\"}},\"type\":\"scatter3d\"}],\"scattercarpet\":[{\"marker\":{\"colorbar\":{\"outlinewidth\":0,\"ticks\":\"\"}},\"type\":\"scattercarpet\"}],\"scattergeo\":[{\"marker\":{\"colorbar\":{\"outlinewidth\":0,\"ticks\":\"\"}},\"type\":\"scattergeo\"}],\"scattergl\":[{\"marker\":{\"colorbar\":{\"outlinewidth\":0,\"ticks\":\"\"}},\"type\":\"scattergl\"}],\"scattermapbox\":[{\"marker\":{\"colorbar\":{\"outlinewidth\":0,\"ticks\":\"\"}},\"type\":\"scattermapbox\"}],\"scatterpolar\":[{\"marker\":{\"colorbar\":{\"outlinewidth\":0,\"ticks\":\"\"}},\"type\":\"scatterpolar\"}],\"scatterpolargl\":[{\"marker\":{\"colorbar\":{\"outlinewidth\":0,\"ticks\":\"\"}},\"type\":\"scatterpolargl\"}],\"scatterternary\":[{\"marker\":{\"colorbar\":{\"outlinewidth\":0,\"ticks\":\"\"}},\"type\":\"scatterternary\"}],\"surface\":[{\"colorbar\":{\"outlinewidth\":0,\"ticks\":\"\"},\"colorscale\":[[0.0,\"#0d0887\"],[0.1111111111111111,\"#46039f\"],[0.2222222222222222,\"#7201a8\"],[0.3333333333333333,\"#9c179e\"],[0.4444444444444444,\"#bd3786\"],[0.5555555555555556,\"#d8576b\"],[0.6666666666666666,\"#ed7953\"],[0.7777777777777778,\"#fb9f3a\"],[0.8888888888888888,\"#fdca26\"],[1.0,\"#f0f921\"]],\"type\":\"surface\"}],\"table\":[{\"cells\":{\"fill\":{\"color\":\"#EBF0F8\"},\"line\":{\"color\":\"white\"}},\"header\":{\"fill\":{\"color\":\"#C8D4E3\"},\"line\":{\"color\":\"white\"}},\"type\":\"table\"}]},\"layout\":{\"annotationdefaults\":{\"arrowcolor\":\"#2a3f5f\",\"arrowhead\":0,\"arrowwidth\":1},\"autotypenumbers\":\"strict\",\"coloraxis\":{\"colorbar\":{\"outlinewidth\":0,\"ticks\":\"\"}},\"colorscale\":{\"diverging\":[[0,\"#8e0152\"],[0.1,\"#c51b7d\"],[0.2,\"#de77ae\"],[0.3,\"#f1b6da\"],[0.4,\"#fde0ef\"],[0.5,\"#f7f7f7\"],[0.6,\"#e6f5d0\"],[0.7,\"#b8e186\"],[0.8,\"#7fbc41\"],[0.9,\"#4d9221\"],[1,\"#276419\"]],\"sequential\":[[0.0,\"#0d0887\"],[0.1111111111111111,\"#46039f\"],[0.2222222222222222,\"#7201a8\"],[0.3333333333333333,\"#9c179e\"],[0.4444444444444444,\"#bd3786\"],[0.5555555555555556,\"#d8576b\"],[0.6666666666666666,\"#ed7953\"],[0.7777777777777778,\"#fb9f3a\"],[0.8888888888888888,\"#fdca26\"],[1.0,\"#f0f921\"]],\"sequentialminus\":[[0.0,\"#0d0887\"],[0.1111111111111111,\"#46039f\"],[0.2222222222222222,\"#7201a8\"],[0.3333333333333333,\"#9c179e\"],[0.4444444444444444,\"#bd3786\"],[0.5555555555555556,\"#d8576b\"],[0.6666666666666666,\"#ed7953\"],[0.7777777777777778,\"#fb9f3a\"],[0.8888888888888888,\"#fdca26\"],[1.0,\"#f0f921\"]]},\"colorway\":[\"#636efa\",\"#EF553B\",\"#00cc96\",\"#ab63fa\",\"#FFA15A\",\"#19d3f3\",\"#FF6692\",\"#B6E880\",\"#FF97FF\",\"#FECB52\"],\"font\":{\"color\":\"#2a3f5f\"},\"geo\":{\"bgcolor\":\"white\",\"lakecolor\":\"white\",\"landcolor\":\"#E5ECF6\",\"showlakes\":true,\"showland\":true,\"subunitcolor\":\"white\"},\"hoverlabel\":{\"align\":\"left\"},\"hovermode\":\"closest\",\"mapbox\":{\"style\":\"light\"},\"paper_bgcolor\":\"white\",\"plot_bgcolor\":\"#E5ECF6\",\"polar\":{\"angularaxis\":{\"gridcolor\":\"white\",\"linecolor\":\"white\",\"ticks\":\"\"},\"bgcolor\":\"#E5ECF6\",\"radialaxis\":{\"gridcolor\":\"white\",\"linecolor\":\"white\",\"ticks\":\"\"}},\"scene\":{\"xaxis\":{\"backgroundcolor\":\"#E5ECF6\",\"gridcolor\":\"white\",\"gridwidth\":2,\"linecolor\":\"white\",\"showbackground\":true,\"ticks\":\"\",\"zerolinecolor\":\"white\"},\"yaxis\":{\"backgroundcolor\":\"#E5ECF6\",\"gridcolor\":\"white\",\"gridwidth\":2,\"linecolor\":\"white\",\"showbackground\":true,\"ticks\":\"\",\"zerolinecolor\":\"white\"},\"zaxis\":{\"backgroundcolor\":\"#E5ECF6\",\"gridcolor\":\"white\",\"gridwidth\":2,\"linecolor\":\"white\",\"showbackground\":true,\"ticks\":\"\",\"zerolinecolor\":\"white\"}},\"shapedefaults\":{\"line\":{\"color\":\"#2a3f5f\"}},\"ternary\":{\"aaxis\":{\"gridcolor\":\"white\",\"linecolor\":\"white\",\"ticks\":\"\"},\"baxis\":{\"gridcolor\":\"white\",\"linecolor\":\"white\",\"ticks\":\"\"},\"bgcolor\":\"#E5ECF6\",\"caxis\":{\"gridcolor\":\"white\",\"linecolor\":\"white\",\"ticks\":\"\"}},\"title\":{\"x\":0.05},\"xaxis\":{\"automargin\":true,\"gridcolor\":\"white\",\"linecolor\":\"white\",\"ticks\":\"\",\"title\":{\"standoff\":15},\"zerolinecolor\":\"white\",\"zerolinewidth\":2},\"yaxis\":{\"automargin\":true,\"gridcolor\":\"white\",\"linecolor\":\"white\",\"ticks\":\"\",\"title\":{\"standoff\":15},\"zerolinecolor\":\"white\",\"zerolinewidth\":2}}},\"xaxis\":{\"anchor\":\"y\",\"domain\":[0.0,1.0],\"title\":{\"text\":\"States\"}},\"yaxis\":{\"anchor\":\"x\",\"domain\":[0.0,1.0],\"title\":{\"text\":\"Number_of_Jobs\"}},\"legend\":{\"tracegroupgap\":0},\"title\":{\"text\":\"Geographic distributions of Jobs Statewise\"},\"barmode\":\"relative\"},                        {\"responsive\": true}                    ).then(function(){\n",
              "                            \n",
              "var gd = document.getElementById('cf033483-26ce-4442-b0a0-706b1f49f7af');\n",
              "var x = new MutationObserver(function (mutations, observer) {{\n",
              "        var display = window.getComputedStyle(gd).display;\n",
              "        if (!display || display === 'none') {{\n",
              "            console.log([gd, 'removed!']);\n",
              "            Plotly.purge(gd);\n",
              "            observer.disconnect();\n",
              "        }}\n",
              "}});\n",
              "\n",
              "// Listen for the removal of the full notebook cells\n",
              "var notebookContainer = gd.closest('#notebook-container');\n",
              "if (notebookContainer) {{\n",
              "    x.observe(notebookContainer, {childList: true});\n",
              "}}\n",
              "\n",
              "// Listen for the clearing of the current output cell\n",
              "var outputEl = gd.closest('.output');\n",
              "if (outputEl) {{\n",
              "    x.observe(outputEl, {childList: true});\n",
              "}}\n",
              "\n",
              "                        })                };                            </script>        </div>\n",
              "</body>\n",
              "</html>"
            ]
          },
          "metadata": {},
          "output_type": "display_data"
        },
        {
          "data": {
            "text/plain": [
              "<Figure size 2160x360 with 0 Axes>"
            ]
          },
          "metadata": {},
          "output_type": "display_data"
        }
      ],
      "source": [
        "def count_dict(column):\n",
        "  states=[\"Andhra Pradesh\",\"Arunachal Pradesh \",\"Assam\",\"Bihar\",\"Chhattisgarh\",\"Goa\",\"Gujarat\",\"Haryana\",\"Himachal Pradesh\",\"Jammu and Kashmir\",\"Jharkhand\",\"Karnataka\",\"Kerala\",\"Madhya Pradesh\",\"Maharashtra\",\"Manipur\",\"Meghalaya\",\"Mizoram\",\"Nagaland\",\"Odisha\",\"Punjab\",\"Rajasthan\",\"Sikkim\",\"Tamil Nadu\",\"Telangana\",\"Tripura\",\"Uttar Pradesh\",\"Uttarakhand\",\"West Bengal\",\"Andaman and Nicobar Islands\",\"Chandigarh\",\"Dadra and Nagar Haveli\",\"Daman and Diu\",\"Lakshadweep\",\"National Capital Territory of Delhi\",\"Puducherry\"]\n",
        "  state_count={f\"{state}\":0 for state in states}\n",
        "  for state in states:\n",
        "    for values in column:\n",
        "      if state in values:\n",
        "        state_count[state]+=1\n",
        "  return state_count\n",
        "state_count=count_dict(df['job_location'])\n",
        "x=list(state_count.keys())\n",
        "y=list(state_count.values())\n",
        "statewisejob={'States':x,'Number_of_Jobs':y}\n",
        "fig = plt.figure(figsize = (30, 5))\n",
        "fig=px.bar(statewisejob, x='States', y='Number_of_Jobs',title='Geographic distributions of Jobs Statewise')\n",
        "fig.show()"
      ]
    },
    {
      "cell_type": "markdown",
      "id": "f037377e",
      "metadata": {
        "id": "f037377e"
      },
      "source": [
        "#### Show which companies have more than 5 job-postings"
      ]
    },
    {
      "cell_type": "code",
      "execution_count": null,
      "id": "a2e30e1f",
      "metadata": {
        "id": "a2e30e1f"
      },
      "outputs": [],
      "source": [
        "#List of Companies having more than 5 job postings\n",
        "df_jobPosting = df1.groupby('companyName')['title'].count()\n",
        "df_jobPosting = pd.DataFrame(df_jobPosting).reset_index()"
      ]
    },
    {
      "cell_type": "code",
      "execution_count": null,
      "id": "7649dbcf",
      "metadata": {
        "colab": {
          "base_uri": "https://localhost:8080/"
        },
        "id": "7649dbcf",
        "outputId": "44da42c4-3280-437b-b29c-962ba9199d4b"
      },
      "outputs": [
        {
          "name": "stdout",
          "output_type": "stream",
          "text": [
            "['ARA Resources', 'Accenture', 'Airtel India', 'Barclays', 'Bechtel', 'Bosch Group', 'Boston Consulting Group', 'Cardinal Health', 'DXC Technology', 'Deloitte', 'Deutsche Bank', 'Genpact', 'Infosys Limited', 'Mercedes-Benz Research and Development India...', 'PayPal', 'PayU', 'Telstra', 'Uber']\n"
          ]
        }
      ],
      "source": [
        "print(list(df_jobPosting['companyName'][df_jobPosting['title'] > 5]))"
      ]
    },
    {
      "cell_type": "code",
      "execution_count": null,
      "id": "b785dc0e",
      "metadata": {
        "colab": {
          "base_uri": "https://localhost:8080/",
          "height": 651
        },
        "id": "b785dc0e",
        "outputId": "1239e658-7311-4406-f3ea-3208872771c2"
      },
      "outputs": [
        {
          "name": "stdout",
          "output_type": "stream",
          "text": [
            "                    companyName  title\n",
            "0                   12th Wonder      1\n",
            "1     3Minds eSolutions Pvt Ltd      1\n",
            "2                       5x Data      1\n",
            "3    8andH Engineering Services      2\n",
            "4  A for Analytics IT Solutions      2\n"
          ]
        },
        {
          "data": {
            "text/html": [
              "<html>\n",
              "<head><meta charset=\"utf-8\" /></head>\n",
              "<body>\n",
              "    <div>            <script src=\"https://cdnjs.cloudflare.com/ajax/libs/mathjax/2.7.5/MathJax.js?config=TeX-AMS-MML_SVG\"></script><script type=\"text/javascript\">if (window.MathJax) {MathJax.Hub.Config({SVG: {font: \"STIX-Web\"}});}</script>                <script type=\"text/javascript\">window.PlotlyConfig = {MathJaxConfig: 'local'};</script>\n",
              "        <script src=\"https://cdn.plot.ly/plotly-2.8.3.min.js\"></script>                <div id=\"2cdf05a5-f2cd-4ff3-82cd-28213f9432a9\" class=\"plotly-graph-div\" style=\"height:525px; width:100%;\"></div>            <script type=\"text/javascript\">                                    window.PLOTLYENV=window.PLOTLYENV || {};                                    if (document.getElementById(\"2cdf05a5-f2cd-4ff3-82cd-28213f9432a9\")) {                    Plotly.newPlot(                        \"2cdf05a5-f2cd-4ff3-82cd-28213f9432a9\",                        [{\"alignmentgroup\":\"True\",\"hovertemplate\":\"companyName=%{x}<br>title=%{y}<extra></extra>\",\"legendgroup\":\"\",\"marker\":{\"color\":\"#636efa\",\"pattern\":{\"shape\":\"\"}},\"name\":\"\",\"offsetgroup\":\"\",\"orientation\":\"v\",\"showlegend\":false,\"textposition\":\"auto\",\"x\":[\"12th Wonder\",\"3Minds eSolutions Pvt Ltd\",\"5x Data\",\"8andH Engineering Services\",\"A for Analytics IT Solutions\",\"A3logics\",\"A5 Labs\",\"ABB\",\"ACL Digital\",\"AECOM\",\"AGEYE Technologies\",\"AIEnterprise\",\"AMBC Technologies\",\"ARA Resources\",\"ATOS\",\"Accenture\",\"Acies Global\",\"AdZis Softwate Private Limited\",\"Adagrad AI\",\"Adobe\",\"Agnik\",\"AiRo Digital Labs\",\"Aimbix Consulting Services\",\"Airbus\",\"Airtel India\",\"Aisera\",\"Albireo Tech System\",\"Algoscale\",\"Alice Blue Financial Service Pvt Ltd\",\"AlphaExpression Technologies\",\"AlphaGrep Securities\",\"Ambee\",\"Amicus Technology\",\"Amiscent Careers\",\"Amplework\",\"Anantadrishti Technologies\",\"Anar App\",\"Anblicks\",\"Angara E-Commerce Pvt Ltd\",\"Angel broking\",\"Anika Technologies\",\"Anion Healthcare BPO\",\"Ankercloud\",\"Annular Technologies\",\"Anteriad\",\"Aon Corporation\",\"Apping Technology\",\"Apple\",\"Apps Solutions Inc.\",\"AppsForBharat\",\"AppsTek Corp\",\"Appstane Technologies\",\"Appveen\",\"Aptos\",\"ArcMed Analytics & Services Private Limited\",\"Arcesium\",\"Arm\",\"Arthimpact Digital Loans Pvt Ltd\",\"Arting Digital\",\"Ascendeum\",\"Ascent Technosystems Pvt Ltd\",\"AssetOne\",\"Assisto\",\"Astegic\",\"AstraZeneca\",\"Atai labs\",\"Ataloud Technologies\",\"Atkins\",\"Atlassian\",\"Atos\",\"Attain\",\"Atulya Group\",\"Auraa Solutions\",\"Aurawoo International\",\"Automate Engineering\",\"Automotive Robotics\",\"Auxia Inc\",\"Avaloq\",\"Aveon InfoTech PVT.LTD\",\"Axiado\",\"Ayruz Data Marketing\",\"BEIING\",\"BIG IT JOBS\",\"BK Talent Lease Consulting\",\"BOT VFX\",\"BOTSYNC PTE. LTD.\",\"BT Group\",\"Badatya Private Limited\",\"Baker Hughes\",\"Bansal Trading Company\",\"Barclays\",\"Bechtel\",\"Bert Labs\",\"BeyondCodes\",\"Bharat Light & Power\",\"BigSpire Software\",\"BitsCrunch\",\"BizAcuity\",\"Bizongo\",\"BlackBerry\",\"BlackRock\",\"BlackSwan Technologies.\",\"Blackbuck\",\"Blazeclan Technologies\",\"Blue Water\",\"Bombay Play\",\"Boost Tech\",\"Bosch Group\",\"Boston Consulting Group\",\"Bottomline Technologies\",\"Brained\",\"Brainwired\",\"Brandmuscle\",\"Brightree\",\"Brillio\",\"Broomees India Pvt. Ltd.\",\"Btrnsfrmd Consulting LLC\",\"Business Brio\",\"Business fundamental pvt ltd\",\"CANGRA Talents\",\"CAP Digisoft Solutions\",\"CGI Group, Inc.\",\"CME Group\",\"CME Management\",\"CODEC Networks\",\"COMPEGENCE\",\"CRUTZ LEELA\",\"CaaStle\",\"CanGo Networks\",\"Capgemini\",\"Capgemini Invent\",\"Cardinal Health\",\"Careervira\",\"Carifer Technologies\",\"Caterpillar\",\"Cellworks Research India\",\"CereSight\",\"CerebrumX Labs Pvt. Ltd.\",\"Ceremorphic\",\"Certara\",\"Chegg India\",\"Chiplogic Technologies\",\"Cientra Techsolution\",\"Citi\",\"Citta Solutions\",\"CityLink Technology Solutions\",\"Clarity Bio Systems\",\"Clarivate\",\"Cleantech Energy Corporation Pte Ltd\",\"Climate Connect\",\"Cloudseed Technologies\",\"Clustrex\",\"Cogneesol BPO\",\"CogniveAI Innovations\",\"Cognizant\",\"Cogoport\",\"Colan Infotech\",\"Colgate-Palmolive\",\"Comcast\",\"Conference Technologies, Inc.\",\"Consilio LLC\",\"Constems-AI\",\"Copernicus Consulting Pvt Ltd\",\"Coresight Research, Inc.\",\"Cornerstone OnDemand, Inc.\",\"Corporate Steps\",\"Corsearch\",\"Corteva Agriscience\",\"Covi-Sense\",\"Crafteak\",\"Credit Saison\",\"Credo Health\",\"Crimson AI\",\"Crypto Mize\",\"Cubic Corporation\",\"Current Job Openings at Revionics\",\"Cyient\",\"CynLr\",\"DIATOZ Solutions Pvt ltd.,\",\"DNEG\",\"DSM SOFT PVT. LTD\",\"DXC Technology\",\"Data Bridge Market Research\",\"DataGrokr\",\"DataToBiz\",\"Datagrid Digital Marketing Agency\",\"Dealsafe\",\"DeepEdge\",\"Delivery Solutions\",\"Dell Technologies\",\"Deloitte\",\"Deltatech Gaming\",\"DentalDost\",\"Deutsche Bank\",\"Dhani Loans and Services Ltd\",\"Diageo\",\"Digicrome Academy\",\"Digispoc Technology Pvt. Ltd.\",\"Ditto\",\"Diverse Infotech\",\"Dolby\",\"Domains Analytics\",\"Donaldson\",\"Doyenoink Consulting\",\"E2E Infoware Management Services\",\"EMR Group\",\"EPAM Systems\",\"ESSVEE SERVICES\",\"EY\",\"EarlySalary\",\"Eastman\",\"Easyjobs Recruitment\",\"Eccentric Engine\",\"Eclerx\",\"Ecozen Solutions\",\"EdYoda\",\"Einnosys Technologies LLP\",\"Elegant Auto Retail\",\"Elementz IT Solutions Pvt. Ltd.\",\"Ellicium\",\"Elxer Communications\",\"Emerson\",\"Empiric Infosys\",\"Emplay Inc\",\"EnCircle Exports India Pvt. Ltd\",\"Encora\",\"Enhance Career Services\",\"Enquero Inc\",\"Entrupy\",\"Eoraa & Co.\",\"Epsilon\",\"Equbot India\",\"Ernst & Yong\",\"Escalent\",\"Evigway Technologies\",\"Evvo Technology Solutions Pvt Ltd\",\"Exaze\",\"Excellence and Eminence LLP\",\"Exeliq Consulting\",\"Expedify\",\"FE Fundinfo\",\"FINDOC INVESTMART PVT. LTD.\",\"Facctum Solutions\",\"FactSet Research Systems\",\"Falcon Chase International\",\"Falcon Smart IT\",\"Faurecia\",\"FedEx Express MEISA\",\"Fedbank Financial Services Limited\",\"FelixHealthcare.AI\",\"Fictiv\",\"FinnACER Technologies LLP\",\"Finvisage\",\"FirstConnect Solutions Pvt Ltd\",\"Firstventure Corporation\",\"Fisker Inc\",\"Flex\",\"Flipped.ai\",\"Fluence Energy\",\"Fortuna Entertainment Group\",\"Foxberry Technology Pvt Ltd\",\"Fractal Analytics\",\"Freedom Property Investors\",\"Fresh To Home\",\"Fubo India\",\"Fuel Intelligence\",\"Full Potential Solutions\",\"FullStack Labs\",\"Fusion Global Business Solutions\",\"Futops Technologies India\",\"FutureSoft India\",\"GE Healthcare\",\"GEP\",\"GIBRALTAR TECHNOLOGIES LLC\",\"GKN Aerospace\",\"GLOBAL TECHNOLOGIES\",\"GM Infotech\",\"GR GLOBAL ACE INVESTMENTS\",\"GWC\",\"GYPR PVT LTD\",\"GadgEon\",\"Ganga RK Industries Pvt. Ltd\",\"Gencosys\",\"General Mills\",\"Genn Controls India Private Limited\",\"Genpact\",\"Genworth\",\"Giant Eagle\",\"Gigmo Solutions\",\"Global Employees\",\"Globussoft Technologies\",\"Gnani Innovations\",\"Go2\",\"Goalreify\",\"Great Manager Institute\",\"GreenTech Intelligent Transportation System LLP\",\"Greenizon Agritech Consultancy\",\"Grid Logic Software Private Limited\",\"Group 8A\",\"Guardian Capital Investment Advisors Pvt Ltd\",\"HASHTAG GLOBAL SOLUTIONS\",\"HERE Technologies\",\"HP\",\"HP Inc\",\"HRhelpdesk\",\"HSBC\",\"HTL COMPANY INDIA PRIVATE LIMITED\",\"Hailify\",\"Harman International\",\"Hashtag Infosystem\",\"Heart It Out\",\"Helius Technologies\",\"Hewlett Packard Enterprise\",\"Hexaware\",\"High Technologies Solutions\",\"HikeOn Technologies\",\"HiringSign\",\"Hitachi India Pvt, Ltd.\",\"Honeywell\",\"Hoolime\",\"Hudson's Bay Company\",\"IBM\",\"IBST Private Limited\",\"ICIT Computer Institute\",\"IDfy\",\"IIO Technologies Pvt Ltd\",\"IKSEN INDIA PVT LTD\",\"INDOGENIX BIOSCIENCES\",\"INTEGRATED SERVICES\",\"ION\",\"IQM Corporation\",\"IQZ Systems\",\"ITC Infotech India Ltd\",\"IdealCrew\",\"Ideapoke\",\"Impetus Infotech India Pvt. Ltd.\",\"Imurgence\",\"InTechHub Solutions\",\"Inapp Information Technology\",\"Inavan India Technologies\",\"Indium Software\",\"Industry.AI\",\"Info Edge\",\"InfoBeans Technologies\",\"Infoblox\",\"Infoobjects\",\"Information Services Group\",\"Infosys Limited\",\"Infowiz Software Solution\",\"Initium HR\",\"Inkers Technology Pvt Ltd\",\"Inno Valley Works\",\"Innover\",\"Insider Biz\",\"Insourcedev Pvt Ltd\",\"Integrated Wireless Solutions\",\"Invictus Data\",\"InvokHr\",\"JAGRUTI TECHNICAL SERVICES PVT.LTD\",\"JASP Labs\",\"JForce Solutions\",\"JK SECURITIES PRIVATE LIMITED\",\"JPMorgan Chase Bank, N.A.\",\"JioSaavn\",\"Juego Studios\",\"Jupitice Justice Technologies Pvt. Ltd.\",\"KP Group\",\"KPI Partners\",\"KPMG India\",\"KRS Manpower Solutions Private Limited\",\"KS Smart Solutions Private Limited\",\"Kalamandir Jewellers\",\"Kamsys Techsolutions\",\"Kaseya\",\"Keeper Solutions\",\"Kiash Solutions LLP\",\"Kinara Capital\",\"Kisi\",\"Kmart\",\"Knowledge Sourcing Intelligence LLP\",\"Kontakt.io\",\"Konverge.AI\",\"Kovai.co\",\"Kovan technology solutions\",\"Kpro Solutions\",\"Kredent InfoEdge Pvt.Ltd.\",\"Kudos India\",\"Kwalee\",\"Kwalee Ltd\",\"L&T Technology Services Ltd.\",\"LSEG (London Stock Exchange Group)\",\"LTIMindtree\",\"Labcorp\",\"Lakshita Fashions Pvt Ltd\",\"LanceTech Solutions Pvt Ltd\",\"Lavoro HR Solutations,\",\"Legalwiz\",\"Lenskart\",\"Level AI\",\"Lifesight LLC\",\"Lilly\",\"Lincode Labs\",\"Litmus7\",\"LogisticsNow\",\"Logward Systems Private Limited\",\"Lytx\",\"METADESIGN SOLUTIONS\",\"MNJ Software\",\"MNR Solutions\",\"MSD\",\"Macrolink Tech Solutions Private Limited\",\"Maersk\",\"Mantras2Success consultants\",\"Marktine Technology Solutions\",\"Markytics\",\"Marsh\",\"Maruti Suzuki India Ltd\",\"Mastercard\",\"Measured\",\"MedGenome Labs\",\"Megara Infotech\",\"Merce Technologies\",\"Mercedes-Benz Research and Development India...\",\"Merck KGaA Darmstadt Germany\",\"Merilytics\",\"Merkle\",\"MetaMap\",\"Michelin\",\"Microsoft\",\"MidTown Software\",\"Millennial Hire\",\"Mindstix\",\"Mindwise Solutions Private Limited\",\"Mirum Digital Pvt. Ltd.\",\"Molex\",\"MonetizeMore\",\"Monjin Interview Pvt Ltd\",\"Mordor Intelligence\",\"Morgan Stanley\",\"Morningstar\",\"MudraCircle\",\"Multi Recruit\",\"Multicloud4u Technologies\",\"Muvi\",\"Mysuru Consulting Group\",\"NOKIA\",\"NOVEL FINANCIALS BUSINESS SOLUTIONS PVT LTD\",\"NSEIT\",\"NStay\",\"NTT Ltd.\",\"Narsee Monjee Institute of Management Studies...\",\"NatWest Group\",\"Nath Outsourcing Solutions\",\"Nathan Ark Software\",\"Navedas Technology Solutions\",\"Navig8 Group\",\"Navikenz\",\"Nbyula\",\"Neoastra Technologies India Pvt. Ltd.\",\"Nestsoft technologies\",\"Netweb Technologies\",\"Neva Ventures\",\"NexaQ\",\"Nice software solutions\",\"Nike\",\"Ninestars Information Technologies\",\"Nissan\",\"No Borders Technologies Pvt. Ltd.\",\"NoBrokerHood\",\"Nonstop Corporation\",\"Novartis\",\"NovoTree Minds Consulting\",\"NucleusTeq\",\"Numadic\",\"Numerator\",\"Nuware Systems\",\"OMS Software Solutions India Pvt Lltd\",\"ONPASSIVE Technologies\",\"OPK eServices\",\"ORBIT Technical Solutions\",\"Object Technology Solution\",\"Objectways\",\"Olam Group\",\"One Root Farm\",\"Online Manufacturing\",\"Openspace Services\",\"OptiSol\",\"OptiSol Business Solutions Pvt Ltd\",\"Optim hire\",\"OptimHire\",\"Optimized Electrotech\",\"Optimum Data Analytics\",\"Oracle\",\"Oracuz Infotech Pvt Ltd\",\"Orange Business\",\"PAGO Analytics\",\"PBI Analytics\",\"PRM Group\",\"Pacific Global Solutions\",\"Path Partner Technology\",\"Pattern\",\"Pattern Effects Labs\",\"PayPal\",\"PayU\",\"Paytm\",\"Peak AI\",\"Peerbits Solution Pvt Ltd\",\"People Interactive Pvt Ltd.\",\"People impact\",\"Perceptive Analytics\",\"Persistent Systems\",\"PharmaACE\",\"Pi-xcels\",\"PiWheel\",\"PinnacleWorks Infotech\",\"Pivotchain Solution Technologies\",\"Platform 65 Train Theme Restaurant\",\"Prarang\",\"Pratiti Technologies\",\"Pravaig\",\"Pridetech labs pvt ltd Bangalore\",\"Primine Software\",\"Principal Global Services\",\"PrismHR\",\"Profitics\",\"Prognoz\",\"Provana\",\"Provenir Inc.\",\"Publicis Groupe\",\"PwC\",\"Pyramid Global Technologies\",\"QJ Consulting Private Limited\",\"Qualitest Group\",\"Qualmids\",\"Quess Corp Limited\",\"Quizizz\",\"Qurium Solutions Inc\",\"RFOX Labs\",\"RRC TECHNOLOGIES\",\"RadiusAI\",\"Radome Technologies and services pvt ltd\",\"Radware\",\"Rapsys Technologies\",\"Rayvector\",\"Recbots\",\"Recruise\",\"Recruise India Consulting Pvt Ltd\",\"Recruitment Smart\",\"Red Analytica\",\"RedLotus\",\"Redwood Software Inc.\",\"Reliance Games\",\"Resilience infotech\",\"Resource Tree\",\"Response Informatics\",\"Revolo InfoTech\",\"Revonextsoft\",\"Rightpoint\",\"Ring\",\"RiverForest Connections Private Limited\",\"Rudrateck Solution\",\"SBI Mutual Fund\",\"SBT APPARELS PVT LTD\",\"SHC TECH\",\"SICAPLASTIC MACHINERY PVT LTD\",\"SOURCEHUB INDIA PVT LTD\",\"SSPL\",\"SSquad Global\",\"SUMMIT SOLUTIONS\",\"Saaki Argus & Averil Consulting\",\"Saasvaap\",\"Saavn\",\"Saffron Consultancy Services\",\"Sage IT India\",\"Sailo Technosoft\",\"Sails Software\",\"Samyak Infotech\",\"Sanskruti Solutions\",\"Saras Analytics\",\"SatSure Analytics India\",\"Satrix Technologies\",\"ScaleIn\",\"Scaler\",\"ScoopWhoop\",\"Scrutinysoft\",\"Sea and Beyond\",\"SearchUrCollege\",\"Semperfi Solution\",\"Sense Talent Labs, Inc.\",\"Serendipity Corporate Services\",\"ServiceNow\",\"Shairu Gems Diamonds PVT.LTD.\",\"Sharadha Terry Products Private Limited\",\"Shri Vile Parle Kelavani Mandal\",\"Siemens\",\"Siena AI\",\"Sify\",\"Singular Intelligence\",\"Skan\",\"Skillventory\",\"Smart fusion corporate solution\",\"SmartHelio\",\"SmartInternz\",\"Smartapp\",\"Smartek21.com\",\"Smile Groups Pvt Ltd\",\"Snapminds\",\"SoftelliGenZ Pvt Ltd\",\"SolarWinds\",\"Sony Electronics\",\"Sophos\",\"Sorigin Group\",\"Sourcedesk Global\",\"Sphere IT\",\"Sportserve\",\"Sri Vijaya Ganapathy Stores\",\"StatusNeo Technology Consulting\",\"Stellapps Technologies\",\"Stemmons Business Services\",\"Stepping EDGE\",\"StockEdge\",\"StoneX Group\",\"StratLytics\",\"StratMed\",\"Strategic Talent Partner\",\"Stylumia Intelligence Technology\",\"Success Arrow\",\"Suntec Web Services\",\"Surya Systems\",\"Sweven Infotech\",\"Sybrant Data\",\"Synopsys\",\"TAC Security\",\"TALCHEMIST\",\"TENTACLE TECH SSO SDN BHD\",\"TIAA\",\"TUMMOC\",\"Taiyo.Ai\",\"Talent Bee Consulting Pvt Ltd\",\"TalentRupt\",\"Talentica Software India\",\"Tanla Solutions\",\"Tapaya Technologies\",\"Tata Elxsi\",\"TeamPlus Staffing Solution Pvt Ltd\",\"TecSo Charge Zone Pvt. Ltd.\",\"Tech27 Systems Ltd.\",\"TechStep\",\"TechieYan Technologies\",\"Techigai\",\"Techneplus\",\"Techno Kryon\",\"Technoledge India\",\"Technology Next\",\"Technovatrix\",\"Techvantage Systems\",\"Tekolutions.ai\",\"Telstra\",\"TensorGo Technologies\",\"TerraEagle\",\"Testbook.com\",\"Thanks Buddy\",\"The CAI Store\",\"The Modern Data Company\",\"The Modern Dimension\",\"The Straits Network\",\"TheHive\",\"Thena\",\"Think Future Technologies\",\"Think201\",\"Thomson Reuters\",\"Thoucentric\",\"Tiger Analytics\",\"Token Metrics\",\"Tookitaki\",\"Toolyt\",\"Toplyne\",\"TransUnion\",\"Transorg Analytics\",\"TravClan Technology India\",\"Traya Health\",\"Tredence\",\"Tridiagonal Solutions\",\"Trivium Education Services Pvt. Ltd\",\"True Data Software\",\"Truedge Software Solutions\",\"Trukker\",\"Truthics Solutions\",\"Tuebora\",\"Two95 International Inc.\",\"UBIS\",\"UBS\",\"UST\",\"Uber\",\"Ubiquiti Inc.\",\"Unilever\",\"V Infotech\",\"VIDA Digital Identity\",\"VIZOLT TECH SOLUTIONS PVT LTD\",\"Valiance Solutins\",\"Variation Tecruite Pvt Ltd\",\"Veegasree\",\"Venhan Technologies\",\"Veniso Solutions\",\"Veridic Solutions\",\"Versatile Staffing Solutions\",\"Visa\",\"Viser Solutions\",\"Vitrana\",\"Vodafone\",\"Volvo Group\",\"W beyond\",\"WARPE TRAINING AND COUNSULTING\",\"WELLS FARGO BANK\",\"WSD Consultant\",\"WTW\",\"Wabtec\",\"Waters Corporation\",\"Wavelabs Technologies Pvt Ltd.\",\"Wavicle Data Solutions\",\"WeWork India Management\",\"Wesco\",\"WinZO\",\"Winborough Technologies\",\"Wipro Limited\",\"Wiser Solutions\",\"Wobot.ai\",\"Wonder Worth Solutions\",\"Wonderworth Solutions\",\"WorkFusion\",\"World Wide Technology Holding, LLC\",\"Xpert\",\"Xpheno\",\"Xyram Software Solutions\",\"YellMon Labs\",\"Z2plus Placement & Security Agency\",\"ZF\",\"Zapcom Group\",\"Zee Entertainment Enterprises\",\"Zeomega Infotech\",\"Zeta Global\",\"Zscaler\",\"Zuma\",\"Zycus\",\"altbalaji\",\"amoli talents\",\"codemantra\",\"codersbrain\",\"corioliscontinuum\",\"docquity\",\"edyst\",\"fluidonomics Solutions\",\"i-Tech Infonet (P) Ltd\",\"i2v systems private limited\",\"iTech India\",\"indiagold\",\"infoanalytica\",\"innData Analytics\",\"knorex india\",\"krtrimaiq cognitive solutions\",\"mPokket\",\"myinternship.in\",\"nClouds\",\"prwatech\",\"prwatech technologies\",\"quixy\",\"selling simplified India Pvt. Ltd.\",\"sybill\",\"talent Folks\",\"techtic solutions\",\"thyssenkrupp India Pvt. Ltd.\",\"twid\",\"way to job placement\",\"weholds and care holding pvt ltd\",\"woztiinfotech\"],\"xaxis\":\"x\",\"y\":[1,1,1,2,2,1,1,2,1,1,1,1,2,7,1,6,3,1,1,1,1,1,1,3,8,1,2,1,1,1,1,1,1,1,1,1,1,2,1,1,1,1,1,2,1,1,1,2,1,1,1,1,1,1,1,1,1,1,1,1,3,1,3,1,2,1,4,1,1,1,1,1,1,1,2,1,1,1,1,1,2,3,1,1,1,1,2,1,1,1,8,11,1,1,1,1,1,1,1,1,3,1,1,2,2,1,1,6,8,1,1,1,1,3,2,1,1,1,1,1,1,1,3,1,1,3,1,1,1,5,4,7,1,1,1,1,1,1,2,1,2,1,1,1,1,1,1,2,1,1,1,1,1,1,2,3,1,2,1,1,1,1,1,1,1,1,1,2,2,1,3,1,1,4,1,1,1,2,1,1,1,6,1,1,1,1,1,2,1,4,8,1,1,7,1,3,2,1,1,2,1,1,2,1,1,2,1,2,4,1,1,1,1,1,3,1,2,1,2,1,1,4,1,1,1,1,1,1,2,1,1,1,1,1,1,1,1,1,1,1,1,2,1,1,2,1,1,2,1,1,1,2,2,1,1,1,1,1,1,1,1,2,1,1,1,1,1,1,1,1,1,2,1,2,2,1,2,1,1,2,1,1,2,2,1,6,2,3,1,2,1,1,1,1,1,1,1,1,1,1,1,1,1,1,1,1,1,1,5,1,1,2,4,2,2,1,1,1,1,1,1,1,5,1,2,1,2,1,2,1,2,1,2,1,1,5,4,2,1,1,1,1,1,1,2,1,1,8,2,1,1,1,1,1,1,1,1,1,1,1,1,1,5,1,2,1,1,2,1,1,1,1,1,1,1,2,1,1,2,1,1,2,1,1,2,1,1,3,1,2,1,1,1,1,2,1,1,1,3,1,2,1,1,1,1,1,1,1,1,2,1,2,1,5,2,1,1,1,1,1,1,1,27,1,2,1,1,1,3,2,2,1,1,1,1,1,1,1,2,1,1,1,1,1,1,1,4,1,1,2,1,3,1,1,2,1,2,2,1,1,2,1,2,1,1,1,3,1,1,1,1,1,1,1,1,2,1,1,1,1,1,1,1,1,1,3,1,1,2,1,1,1,3,1,1,2,3,1,1,1,1,1,6,8,1,1,1,1,1,5,1,1,1,1,1,1,1,1,1,1,1,1,2,1,1,1,1,3,1,1,1,1,1,2,1,1,1,1,1,1,1,1,1,1,1,1,1,2,1,1,1,1,1,1,3,2,1,1,1,1,3,1,1,2,1,1,1,1,2,1,1,1,1,1,1,1,1,1,1,3,1,1,1,1,1,2,1,1,1,2,1,1,1,1,5,1,1,1,1,1,1,1,4,1,1,1,3,1,1,1,1,1,1,1,1,1,2,2,1,1,1,1,4,1,1,4,1,1,1,1,1,1,1,1,1,1,1,3,1,1,1,1,2,4,1,1,1,1,1,1,1,1,1,1,1,1,1,23,1,3,1,2,2,2,1,1,5,1,2,1,1,1,1,5,1,2,1,1,3,1,1,1,1,1,2,2,1,1,2,1,1,1,1,12,1,1,1,1,1,2,1,2,1,1,4,2,1,1,1,2,1,1,2,1,1,2,2,2,1,3,1,1,1,1,1,1,3,1,1,1,1,3,2,1,2,3,1,1,1,1,1,1,2,2,1,1,2,1,2,1,1,1,1,1,1,1,1,1,1,1,1,1,1,1,1,1,1,2,1,1,1,1,5,1,1],\"yaxis\":\"y\",\"type\":\"bar\"}],                        {\"template\":{\"data\":{\"bar\":[{\"error_x\":{\"color\":\"#2a3f5f\"},\"error_y\":{\"color\":\"#2a3f5f\"},\"marker\":{\"line\":{\"color\":\"#E5ECF6\",\"width\":0.5},\"pattern\":{\"fillmode\":\"overlay\",\"size\":10,\"solidity\":0.2}},\"type\":\"bar\"}],\"barpolar\":[{\"marker\":{\"line\":{\"color\":\"#E5ECF6\",\"width\":0.5},\"pattern\":{\"fillmode\":\"overlay\",\"size\":10,\"solidity\":0.2}},\"type\":\"barpolar\"}],\"carpet\":[{\"aaxis\":{\"endlinecolor\":\"#2a3f5f\",\"gridcolor\":\"white\",\"linecolor\":\"white\",\"minorgridcolor\":\"white\",\"startlinecolor\":\"#2a3f5f\"},\"baxis\":{\"endlinecolor\":\"#2a3f5f\",\"gridcolor\":\"white\",\"linecolor\":\"white\",\"minorgridcolor\":\"white\",\"startlinecolor\":\"#2a3f5f\"},\"type\":\"carpet\"}],\"choropleth\":[{\"colorbar\":{\"outlinewidth\":0,\"ticks\":\"\"},\"type\":\"choropleth\"}],\"contour\":[{\"colorbar\":{\"outlinewidth\":0,\"ticks\":\"\"},\"colorscale\":[[0.0,\"#0d0887\"],[0.1111111111111111,\"#46039f\"],[0.2222222222222222,\"#7201a8\"],[0.3333333333333333,\"#9c179e\"],[0.4444444444444444,\"#bd3786\"],[0.5555555555555556,\"#d8576b\"],[0.6666666666666666,\"#ed7953\"],[0.7777777777777778,\"#fb9f3a\"],[0.8888888888888888,\"#fdca26\"],[1.0,\"#f0f921\"]],\"type\":\"contour\"}],\"contourcarpet\":[{\"colorbar\":{\"outlinewidth\":0,\"ticks\":\"\"},\"type\":\"contourcarpet\"}],\"heatmap\":[{\"colorbar\":{\"outlinewidth\":0,\"ticks\":\"\"},\"colorscale\":[[0.0,\"#0d0887\"],[0.1111111111111111,\"#46039f\"],[0.2222222222222222,\"#7201a8\"],[0.3333333333333333,\"#9c179e\"],[0.4444444444444444,\"#bd3786\"],[0.5555555555555556,\"#d8576b\"],[0.6666666666666666,\"#ed7953\"],[0.7777777777777778,\"#fb9f3a\"],[0.8888888888888888,\"#fdca26\"],[1.0,\"#f0f921\"]],\"type\":\"heatmap\"}],\"heatmapgl\":[{\"colorbar\":{\"outlinewidth\":0,\"ticks\":\"\"},\"colorscale\":[[0.0,\"#0d0887\"],[0.1111111111111111,\"#46039f\"],[0.2222222222222222,\"#7201a8\"],[0.3333333333333333,\"#9c179e\"],[0.4444444444444444,\"#bd3786\"],[0.5555555555555556,\"#d8576b\"],[0.6666666666666666,\"#ed7953\"],[0.7777777777777778,\"#fb9f3a\"],[0.8888888888888888,\"#fdca26\"],[1.0,\"#f0f921\"]],\"type\":\"heatmapgl\"}],\"histogram\":[{\"marker\":{\"pattern\":{\"fillmode\":\"overlay\",\"size\":10,\"solidity\":0.2}},\"type\":\"histogram\"}],\"histogram2d\":[{\"colorbar\":{\"outlinewidth\":0,\"ticks\":\"\"},\"colorscale\":[[0.0,\"#0d0887\"],[0.1111111111111111,\"#46039f\"],[0.2222222222222222,\"#7201a8\"],[0.3333333333333333,\"#9c179e\"],[0.4444444444444444,\"#bd3786\"],[0.5555555555555556,\"#d8576b\"],[0.6666666666666666,\"#ed7953\"],[0.7777777777777778,\"#fb9f3a\"],[0.8888888888888888,\"#fdca26\"],[1.0,\"#f0f921\"]],\"type\":\"histogram2d\"}],\"histogram2dcontour\":[{\"colorbar\":{\"outlinewidth\":0,\"ticks\":\"\"},\"colorscale\":[[0.0,\"#0d0887\"],[0.1111111111111111,\"#46039f\"],[0.2222222222222222,\"#7201a8\"],[0.3333333333333333,\"#9c179e\"],[0.4444444444444444,\"#bd3786\"],[0.5555555555555556,\"#d8576b\"],[0.6666666666666666,\"#ed7953\"],[0.7777777777777778,\"#fb9f3a\"],[0.8888888888888888,\"#fdca26\"],[1.0,\"#f0f921\"]],\"type\":\"histogram2dcontour\"}],\"mesh3d\":[{\"colorbar\":{\"outlinewidth\":0,\"ticks\":\"\"},\"type\":\"mesh3d\"}],\"parcoords\":[{\"line\":{\"colorbar\":{\"outlinewidth\":0,\"ticks\":\"\"}},\"type\":\"parcoords\"}],\"pie\":[{\"automargin\":true,\"type\":\"pie\"}],\"scatter\":[{\"marker\":{\"colorbar\":{\"outlinewidth\":0,\"ticks\":\"\"}},\"type\":\"scatter\"}],\"scatter3d\":[{\"line\":{\"colorbar\":{\"outlinewidth\":0,\"ticks\":\"\"}},\"marker\":{\"colorbar\":{\"outlinewidth\":0,\"ticks\":\"\"}},\"type\":\"scatter3d\"}],\"scattercarpet\":[{\"marker\":{\"colorbar\":{\"outlinewidth\":0,\"ticks\":\"\"}},\"type\":\"scattercarpet\"}],\"scattergeo\":[{\"marker\":{\"colorbar\":{\"outlinewidth\":0,\"ticks\":\"\"}},\"type\":\"scattergeo\"}],\"scattergl\":[{\"marker\":{\"colorbar\":{\"outlinewidth\":0,\"ticks\":\"\"}},\"type\":\"scattergl\"}],\"scattermapbox\":[{\"marker\":{\"colorbar\":{\"outlinewidth\":0,\"ticks\":\"\"}},\"type\":\"scattermapbox\"}],\"scatterpolar\":[{\"marker\":{\"colorbar\":{\"outlinewidth\":0,\"ticks\":\"\"}},\"type\":\"scatterpolar\"}],\"scatterpolargl\":[{\"marker\":{\"colorbar\":{\"outlinewidth\":0,\"ticks\":\"\"}},\"type\":\"scatterpolargl\"}],\"scatterternary\":[{\"marker\":{\"colorbar\":{\"outlinewidth\":0,\"ticks\":\"\"}},\"type\":\"scatterternary\"}],\"surface\":[{\"colorbar\":{\"outlinewidth\":0,\"ticks\":\"\"},\"colorscale\":[[0.0,\"#0d0887\"],[0.1111111111111111,\"#46039f\"],[0.2222222222222222,\"#7201a8\"],[0.3333333333333333,\"#9c179e\"],[0.4444444444444444,\"#bd3786\"],[0.5555555555555556,\"#d8576b\"],[0.6666666666666666,\"#ed7953\"],[0.7777777777777778,\"#fb9f3a\"],[0.8888888888888888,\"#fdca26\"],[1.0,\"#f0f921\"]],\"type\":\"surface\"}],\"table\":[{\"cells\":{\"fill\":{\"color\":\"#EBF0F8\"},\"line\":{\"color\":\"white\"}},\"header\":{\"fill\":{\"color\":\"#C8D4E3\"},\"line\":{\"color\":\"white\"}},\"type\":\"table\"}]},\"layout\":{\"annotationdefaults\":{\"arrowcolor\":\"#2a3f5f\",\"arrowhead\":0,\"arrowwidth\":1},\"autotypenumbers\":\"strict\",\"coloraxis\":{\"colorbar\":{\"outlinewidth\":0,\"ticks\":\"\"}},\"colorscale\":{\"diverging\":[[0,\"#8e0152\"],[0.1,\"#c51b7d\"],[0.2,\"#de77ae\"],[0.3,\"#f1b6da\"],[0.4,\"#fde0ef\"],[0.5,\"#f7f7f7\"],[0.6,\"#e6f5d0\"],[0.7,\"#b8e186\"],[0.8,\"#7fbc41\"],[0.9,\"#4d9221\"],[1,\"#276419\"]],\"sequential\":[[0.0,\"#0d0887\"],[0.1111111111111111,\"#46039f\"],[0.2222222222222222,\"#7201a8\"],[0.3333333333333333,\"#9c179e\"],[0.4444444444444444,\"#bd3786\"],[0.5555555555555556,\"#d8576b\"],[0.6666666666666666,\"#ed7953\"],[0.7777777777777778,\"#fb9f3a\"],[0.8888888888888888,\"#fdca26\"],[1.0,\"#f0f921\"]],\"sequentialminus\":[[0.0,\"#0d0887\"],[0.1111111111111111,\"#46039f\"],[0.2222222222222222,\"#7201a8\"],[0.3333333333333333,\"#9c179e\"],[0.4444444444444444,\"#bd3786\"],[0.5555555555555556,\"#d8576b\"],[0.6666666666666666,\"#ed7953\"],[0.7777777777777778,\"#fb9f3a\"],[0.8888888888888888,\"#fdca26\"],[1.0,\"#f0f921\"]]},\"colorway\":[\"#636efa\",\"#EF553B\",\"#00cc96\",\"#ab63fa\",\"#FFA15A\",\"#19d3f3\",\"#FF6692\",\"#B6E880\",\"#FF97FF\",\"#FECB52\"],\"font\":{\"color\":\"#2a3f5f\"},\"geo\":{\"bgcolor\":\"white\",\"lakecolor\":\"white\",\"landcolor\":\"#E5ECF6\",\"showlakes\":true,\"showland\":true,\"subunitcolor\":\"white\"},\"hoverlabel\":{\"align\":\"left\"},\"hovermode\":\"closest\",\"mapbox\":{\"style\":\"light\"},\"paper_bgcolor\":\"white\",\"plot_bgcolor\":\"#E5ECF6\",\"polar\":{\"angularaxis\":{\"gridcolor\":\"white\",\"linecolor\":\"white\",\"ticks\":\"\"},\"bgcolor\":\"#E5ECF6\",\"radialaxis\":{\"gridcolor\":\"white\",\"linecolor\":\"white\",\"ticks\":\"\"}},\"scene\":{\"xaxis\":{\"backgroundcolor\":\"#E5ECF6\",\"gridcolor\":\"white\",\"gridwidth\":2,\"linecolor\":\"white\",\"showbackground\":true,\"ticks\":\"\",\"zerolinecolor\":\"white\"},\"yaxis\":{\"backgroundcolor\":\"#E5ECF6\",\"gridcolor\":\"white\",\"gridwidth\":2,\"linecolor\":\"white\",\"showbackground\":true,\"ticks\":\"\",\"zerolinecolor\":\"white\"},\"zaxis\":{\"backgroundcolor\":\"#E5ECF6\",\"gridcolor\":\"white\",\"gridwidth\":2,\"linecolor\":\"white\",\"showbackground\":true,\"ticks\":\"\",\"zerolinecolor\":\"white\"}},\"shapedefaults\":{\"line\":{\"color\":\"#2a3f5f\"}},\"ternary\":{\"aaxis\":{\"gridcolor\":\"white\",\"linecolor\":\"white\",\"ticks\":\"\"},\"baxis\":{\"gridcolor\":\"white\",\"linecolor\":\"white\",\"ticks\":\"\"},\"bgcolor\":\"#E5ECF6\",\"caxis\":{\"gridcolor\":\"white\",\"linecolor\":\"white\",\"ticks\":\"\"}},\"title\":{\"x\":0.05},\"xaxis\":{\"automargin\":true,\"gridcolor\":\"white\",\"linecolor\":\"white\",\"ticks\":\"\",\"title\":{\"standoff\":15},\"zerolinecolor\":\"white\",\"zerolinewidth\":2},\"yaxis\":{\"automargin\":true,\"gridcolor\":\"white\",\"linecolor\":\"white\",\"ticks\":\"\",\"title\":{\"standoff\":15},\"zerolinecolor\":\"white\",\"zerolinewidth\":2}}},\"xaxis\":{\"anchor\":\"y\",\"domain\":[0.0,1.0],\"title\":{\"text\":\"companyName\"}},\"yaxis\":{\"anchor\":\"x\",\"domain\":[0.0,1.0],\"title\":{\"text\":\"title\"}},\"legend\":{\"tracegroupgap\":0},\"title\":{\"text\":\"Comapnies offering more than 5 job postings\"},\"barmode\":\"relative\"},                        {\"responsive\": true}                    ).then(function(){\n",
              "                            \n",
              "var gd = document.getElementById('2cdf05a5-f2cd-4ff3-82cd-28213f9432a9');\n",
              "var x = new MutationObserver(function (mutations, observer) {{\n",
              "        var display = window.getComputedStyle(gd).display;\n",
              "        if (!display || display === 'none') {{\n",
              "            console.log([gd, 'removed!']);\n",
              "            Plotly.purge(gd);\n",
              "            observer.disconnect();\n",
              "        }}\n",
              "}});\n",
              "\n",
              "// Listen for the removal of the full notebook cells\n",
              "var notebookContainer = gd.closest('#notebook-container');\n",
              "if (notebookContainer) {{\n",
              "    x.observe(notebookContainer, {childList: true});\n",
              "}}\n",
              "\n",
              "// Listen for the clearing of the current output cell\n",
              "var outputEl = gd.closest('.output');\n",
              "if (outputEl) {{\n",
              "    x.observe(outputEl, {childList: true});\n",
              "}}\n",
              "\n",
              "                        })                };                            </script>        </div>\n",
              "</body>\n",
              "</html>"
            ]
          },
          "metadata": {},
          "output_type": "display_data"
        }
      ],
      "source": [
        "print(df_jobPosting.head())\n",
        "px.bar(df_jobPosting,x='companyName',y='title',title=\"Comapnies offering more than 5 job postings\")"
      ]
    },
    {
      "cell_type": "markdown",
      "id": "ca0fa9a7",
      "metadata": {
        "id": "ca0fa9a7"
      },
      "source": [
        "#### Show the distribution of number of characters in description"
      ]
    },
    {
      "cell_type": "code",
      "execution_count": null,
      "id": "eb927fc2",
      "metadata": {
        "colab": {
          "base_uri": "https://localhost:8080/"
        },
        "id": "eb927fc2",
        "outputId": "bd0a0fc1-bd06-4c8d-d3a9-f232bc3154c4"
      },
      "outputs": [
        {
          "name": "stderr",
          "output_type": "stream",
          "text": [
            "<ipython-input-23-3a01b84c848d>:2: SettingWithCopyWarning:\n",
            "\n",
            "\n",
            "A value is trying to be set on a copy of a slice from a DataFrame.\n",
            "Try using .loc[row_indexer,col_indexer] = value instead\n",
            "\n",
            "See the caveats in the documentation: https://pandas.pydata.org/pandas-docs/stable/user_guide/indexing.html#returning-a-view-versus-a-copy\n",
            "\n"
          ]
        }
      ],
      "source": [
        "desc_dist=df1[['job_role','Job_Summary']]\n",
        "desc_dist['total_characters']=desc_dist['Job_Summary'].apply(lambda x : len(x))"
      ]
    },
    {
      "cell_type": "code",
      "execution_count": null,
      "id": "5a3819e5",
      "metadata": {
        "colab": {
          "base_uri": "https://localhost:8080/",
          "height": 206
        },
        "id": "5a3819e5",
        "outputId": "4650aba7-5707-481f-d4fb-eb40ba771556"
      },
      "outputs": [
        {
          "data": {
            "text/html": [
              "\n",
              "  <div id=\"df-b09ed326-718e-489b-b4e3-cb8b7040ca32\">\n",
              "    <div class=\"colab-df-container\">\n",
              "      <div>\n",
              "<style scoped>\n",
              "    .dataframe tbody tr th:only-of-type {\n",
              "        vertical-align: middle;\n",
              "    }\n",
              "\n",
              "    .dataframe tbody tr th {\n",
              "        vertical-align: top;\n",
              "    }\n",
              "\n",
              "    .dataframe thead th {\n",
              "        text-align: right;\n",
              "    }\n",
              "</style>\n",
              "<table border=\"1\" class=\"dataframe\">\n",
              "  <thead>\n",
              "    <tr style=\"text-align: right;\">\n",
              "      <th></th>\n",
              "      <th>index</th>\n",
              "      <th>job_role</th>\n",
              "      <th>Job_Summary</th>\n",
              "      <th>total_characters</th>\n",
              "    </tr>\n",
              "  </thead>\n",
              "  <tbody>\n",
              "    <tr>\n",
              "      <th>0</th>\n",
              "      <td>0</td>\n",
              "      <td>Data Engineer</td>\n",
              "      <td>As a Software Engineer 2, responsible for the ...</td>\n",
              "      <td>158</td>\n",
              "    </tr>\n",
              "    <tr>\n",
              "      <th>1</th>\n",
              "      <td>1</td>\n",
              "      <td>Data Engineer</td>\n",
              "      <td>Key participant in business development includ...</td>\n",
              "      <td>132</td>\n",
              "    </tr>\n",
              "    <tr>\n",
              "      <th>2</th>\n",
              "      <td>2</td>\n",
              "      <td>Data Engineer</td>\n",
              "      <td>The team consists of 10-12 engineers and is re...</td>\n",
              "      <td>160</td>\n",
              "    </tr>\n",
              "    <tr>\n",
              "      <th>3</th>\n",
              "      <td>3</td>\n",
              "      <td>Data Engineer</td>\n",
              "      <td>Work on problems of moderate scope where analy...</td>\n",
              "      <td>112</td>\n",
              "    </tr>\n",
              "    <tr>\n",
              "      <th>4</th>\n",
              "      <td>4</td>\n",
              "      <td>Data Engineer</td>\n",
              "      <td>As a Software Engineering Manager 2, leading a...</td>\n",
              "      <td>158</td>\n",
              "    </tr>\n",
              "  </tbody>\n",
              "</table>\n",
              "</div>\n",
              "      <button class=\"colab-df-convert\" onclick=\"convertToInteractive('df-b09ed326-718e-489b-b4e3-cb8b7040ca32')\"\n",
              "              title=\"Convert this dataframe to an interactive table.\"\n",
              "              style=\"display:none;\">\n",
              "        \n",
              "  <svg xmlns=\"http://www.w3.org/2000/svg\" height=\"24px\"viewBox=\"0 0 24 24\"\n",
              "       width=\"24px\">\n",
              "    <path d=\"M0 0h24v24H0V0z\" fill=\"none\"/>\n",
              "    <path d=\"M18.56 5.44l.94 2.06.94-2.06 2.06-.94-2.06-.94-.94-2.06-.94 2.06-2.06.94zm-11 1L8.5 8.5l.94-2.06 2.06-.94-2.06-.94L8.5 2.5l-.94 2.06-2.06.94zm10 10l.94 2.06.94-2.06 2.06-.94-2.06-.94-.94-2.06-.94 2.06-2.06.94z\"/><path d=\"M17.41 7.96l-1.37-1.37c-.4-.4-.92-.59-1.43-.59-.52 0-1.04.2-1.43.59L10.3 9.45l-7.72 7.72c-.78.78-.78 2.05 0 2.83L4 21.41c.39.39.9.59 1.41.59.51 0 1.02-.2 1.41-.59l7.78-7.78 2.81-2.81c.8-.78.8-2.07 0-2.86zM5.41 20L4 18.59l7.72-7.72 1.47 1.35L5.41 20z\"/>\n",
              "  </svg>\n",
              "      </button>\n",
              "      \n",
              "  <style>\n",
              "    .colab-df-container {\n",
              "      display:flex;\n",
              "      flex-wrap:wrap;\n",
              "      gap: 12px;\n",
              "    }\n",
              "\n",
              "    .colab-df-convert {\n",
              "      background-color: #E8F0FE;\n",
              "      border: none;\n",
              "      border-radius: 50%;\n",
              "      cursor: pointer;\n",
              "      display: none;\n",
              "      fill: #1967D2;\n",
              "      height: 32px;\n",
              "      padding: 0 0 0 0;\n",
              "      width: 32px;\n",
              "    }\n",
              "\n",
              "    .colab-df-convert:hover {\n",
              "      background-color: #E2EBFA;\n",
              "      box-shadow: 0px 1px 2px rgba(60, 64, 67, 0.3), 0px 1px 3px 1px rgba(60, 64, 67, 0.15);\n",
              "      fill: #174EA6;\n",
              "    }\n",
              "\n",
              "    [theme=dark] .colab-df-convert {\n",
              "      background-color: #3B4455;\n",
              "      fill: #D2E3FC;\n",
              "    }\n",
              "\n",
              "    [theme=dark] .colab-df-convert:hover {\n",
              "      background-color: #434B5C;\n",
              "      box-shadow: 0px 1px 3px 1px rgba(0, 0, 0, 0.15);\n",
              "      filter: drop-shadow(0px 1px 2px rgba(0, 0, 0, 0.3));\n",
              "      fill: #FFFFFF;\n",
              "    }\n",
              "  </style>\n",
              "\n",
              "      <script>\n",
              "        const buttonEl =\n",
              "          document.querySelector('#df-b09ed326-718e-489b-b4e3-cb8b7040ca32 button.colab-df-convert');\n",
              "        buttonEl.style.display =\n",
              "          google.colab.kernel.accessAllowed ? 'block' : 'none';\n",
              "\n",
              "        async function convertToInteractive(key) {\n",
              "          const element = document.querySelector('#df-b09ed326-718e-489b-b4e3-cb8b7040ca32');\n",
              "          const dataTable =\n",
              "            await google.colab.kernel.invokeFunction('convertToInteractive',\n",
              "                                                     [key], {});\n",
              "          if (!dataTable) return;\n",
              "\n",
              "          const docLinkHtml = 'Like what you see? Visit the ' +\n",
              "            '<a target=\"_blank\" href=https://colab.research.google.com/notebooks/data_table.ipynb>data table notebook</a>'\n",
              "            + ' to learn more about interactive tables.';\n",
              "          element.innerHTML = '';\n",
              "          dataTable['output_type'] = 'display_data';\n",
              "          await google.colab.output.renderOutput(dataTable, element);\n",
              "          const docLink = document.createElement('div');\n",
              "          docLink.innerHTML = docLinkHtml;\n",
              "          element.appendChild(docLink);\n",
              "        }\n",
              "      </script>\n",
              "    </div>\n",
              "  </div>\n",
              "  "
            ],
            "text/plain": [
              "   index       job_role                                        Job_Summary  \\\n",
              "0      0  Data Engineer  As a Software Engineer 2, responsible for the ...   \n",
              "1      1  Data Engineer  Key participant in business development includ...   \n",
              "2      2  Data Engineer  The team consists of 10-12 engineers and is re...   \n",
              "3      3  Data Engineer  Work on problems of moderate scope where analy...   \n",
              "4      4  Data Engineer  As a Software Engineering Manager 2, leading a...   \n",
              "\n",
              "   total_characters  \n",
              "0               158  \n",
              "1               132  \n",
              "2               160  \n",
              "3               112  \n",
              "4               158  "
            ]
          },
          "execution_count": 24,
          "metadata": {},
          "output_type": "execute_result"
        }
      ],
      "source": [
        "desc_dist=desc_dist.reset_index()\n",
        "desc_dist.head()"
      ]
    },
    {
      "cell_type": "code",
      "execution_count": null,
      "id": "63c114b1",
      "metadata": {
        "colab": {
          "base_uri": "https://localhost:8080/",
          "height": 542
        },
        "id": "63c114b1",
        "outputId": "35e107ae-855e-4fa4-e4a2-fa91e5288b4e"
      },
      "outputs": [
        {
          "data": {
            "text/html": [
              "<html>\n",
              "<head><meta charset=\"utf-8\" /></head>\n",
              "<body>\n",
              "    <div>            <script src=\"https://cdnjs.cloudflare.com/ajax/libs/mathjax/2.7.5/MathJax.js?config=TeX-AMS-MML_SVG\"></script><script type=\"text/javascript\">if (window.MathJax) {MathJax.Hub.Config({SVG: {font: \"STIX-Web\"}});}</script>                <script type=\"text/javascript\">window.PlotlyConfig = {MathJaxConfig: 'local'};</script>\n",
              "        <script src=\"https://cdn.plot.ly/plotly-2.8.3.min.js\"></script>                <div id=\"6b29b7e4-707c-48a7-991a-824ac1cff0cf\" class=\"plotly-graph-div\" style=\"height:525px; width:100%;\"></div>            <script type=\"text/javascript\">                                    window.PLOTLYENV=window.PLOTLYENV || {};                                    if (document.getElementById(\"6b29b7e4-707c-48a7-991a-824ac1cff0cf\")) {                    Plotly.newPlot(                        \"6b29b7e4-707c-48a7-991a-824ac1cff0cf\",                        [{\"hovertemplate\":\"job_role=Data Engineer<br>index=%{x}<br>total_characters=%{y}<extra></extra>\",\"legendgroup\":\"Data Engineer\",\"marker\":{\"color\":\"#636efa\",\"symbol\":\"circle\"},\"mode\":\"markers\",\"name\":\"Data Engineer\",\"showlegend\":true,\"x\":[0,1,2,3,4,5,6,7,8,9,10,11,12,13,14,15,16,17,18,19,20,21,22,23,24,25,26,27,28,29,30,31,32,33,34,35,36,37,38,39,40,41,42,43,44,45,46,47,48,49,50,51,52,53,54,55,56,57,58,59,60,61,62,63,64,65,66,67,68,69,70,71,72,73,74,75,76,77,78,79,80,81,82,83,84,85,86,87,88,89,90,91,92,93,94,95,96,97,98,99,100,101,102,103,104,105,106,107,108,109,110,111,112,113,114,115,116,117,118,119,120,121,122,123,124,125,126,127,128,129,130,131,132,133,134,135,136,137,138,139,140,141,142,143,144,145,146,147,148,149,150,151,152,153,154,155,156,157,158,159,160,161,162,163,164,165,166,167,168,169,170,171,172,173,174,175,176,177,178,179,180,181,182,183,184,185,186,187,188,189,190,191,192,193,194,195,196,197,198,199,200,201,202,203,204,205,206,207,208,209,210,211,212,213,214,215,216,217,218,219,220,221,222,223,224,225,226,227,228,229,230,231,232,233,234,235,236,237,238,239,240,241,242,243,244,245,246,247,248,249,250,251,252,253,254,255,256,257,258,259,260,261,262,263,264,265,266,267,268,269,270,271,272,273,274,275,276,277,278,279,280,281,282,283,284,285,286,287,288,289,290,291,292,293,294,295,296,297,298,299],\"xaxis\":\"x\",\"y\":[158,132,160,112,158,154,159,155,153,160,153,161,159,133,133,154,155,161,159,154,127,135,158,157,160,157,154,155,156,155,154,161,157,134,159,159,157,150,124,147,155,158,160,160,160,161,152,127,157,150,158,160,161,157,156,157,136,158,158,157,159,161,159,151,152,147,60,125,153,141,160,141,157,34,60,159,160,133,154,160,152,153,156,160,158,154,160,160,153,161,160,127,142,160,148,147,155,141,154,158,157,161,160,161,159,156,156,161,160,157,143,120,142,159,149,155,153,157,154,158,160,114,159,139,156,160,141,82,158,136,148,156,160,146,156,161,134,154,123,159,152,31,152,154,155,155,154,160,138,152,157,155,157,160,157,133,161,158,133,121,150,160,147,155,156,156,158,137,160,131,143,154,138,154,159,161,161,160,155,155,158,155,161,150,159,155,154,160,160,137,138,143,149,161,91,159,160,154,158,157,158,159,138,158,160,160,156,161,158,125,141,154,155,159,133,160,156,131,31,114,160,158,160,154,149,146,159,160,134,155,152,148,159,158,154,158,155,156,160,149,114,135,155,158,161,160,154,144,160,155,148,161,156,160,160,158,158,138,140,161,160,154,147,153,154,155,160,143,156,146,154,146,161,159,155,119,148,132,159,160,150,161,158,154,157,161,161,153,160,132,125,152,159,138,154,158,161,160,157,160],\"yaxis\":\"y\",\"type\":\"scattergl\"},{\"hovertemplate\":\"job_role=Data Analyst<br>index=%{x}<br>total_characters=%{y}<extra></extra>\",\"legendgroup\":\"Data Analyst\",\"marker\":{\"color\":\"#EF553B\",\"symbol\":\"circle\"},\"mode\":\"markers\",\"name\":\"Data Analyst\",\"showlegend\":true,\"x\":[300,301,302,303,304,305,306,307,308,309,310,311,312,313,314,315,316,317,318,319,320,321,322,323,324,325,326,327,328,329,330,331,332,333,334,335,336,337,338,339,340,341,342,343,344,345,346,347,348,349,350,351,352,353,354,355,356,357,358,359,360,361,362,363,364,365,366,367,368,369,370,371,372,373,374,375,376,377,378,379,380,381,382,383,384,385,386,387,388,389,390,391,392,393,394,395,396,397,398,399,400,401,402,403,404,405,406,407,408,409,410,411,412,413,414,415,416,417,418,419,420,421,422,423,424,425,426,427,428,429,430,431,432,433,434,435,436,437,438,439,440,441,442,443,444,445,446,447,448,449,450,451,452,453,454,455,456,457,458,459,460,461,462,463,464,465,466,467,468,469,470,471,472,473,474,475,476,477,478,479,480,481,482,483,484,485,486,487,488,489,490,491,492,493,494,495,496,497,498,499,500,501,502,503,504,505,506,507,508,509,510,511,512,513,514,515,516,517,518,519,520,521,522,523,524,525,526,527,528,529,530,531,532,533,534,535,536,537,538,539,540,541,542,543,544,545,546,547,548,549,550,551,552,553,554,555,556,557,558,559,560,561,562,563,564,565,566,567,568,569,570,571,572,573,574,575,576,577,578,579,580,581,582,583,584,585,586,587,588,589,590,591,592,593,594,595,596,597,598,599],\"xaxis\":\"x\",\"y\":[159,154,154,153,154,157,148,158,156,157,157,155,151,153,154,157,158,134,155,156,145,160,155,158,160,160,125,133,159,159,156,141,161,158,160,161,155,153,134,159,151,128,160,158,160,159,151,158,140,157,134,143,157,160,136,155,158,158,156,160,158,140,158,158,141,160,158,157,142,157,132,155,150,161,156,155,133,160,116,158,161,134,157,137,154,157,160,141,151,159,161,135,132,157,147,156,161,134,160,152,126,134,158,145,158,155,159,159,156,135,158,161,159,124,157,156,159,149,153,156,124,159,154,161,156,159,160,113,158,159,160,156,128,159,124,161,160,159,158,147,140,136,155,158,154,161,158,151,125,161,110,155,149,151,106,158,155,154,158,121,153,154,106,122,154,161,143,148,159,128,158,130,142,157,148,141,160,119,155,157,152,157,161,159,145,160,150,160,159,138,127,119,156,150,145,159,160,134,153,155,158,133,153,118,151,133,158,78,155,152,139,156,161,150,157,160,157,158,121,157,137,151,154,133,154,160,155,160,160,161,156,160,158,156,153,157,160,147,142,123,154,161,152,156,115,159,157,159,154,160,87,153,155,85,156,160,160,157,148,121,146,158,136,158,131,135,158,148,154,120,159,146,156,159,144,147,140,161,161,152,148,158,116,155,146,159,157,148,161,161,152,158,146,161,161,158,139,161,155,128],\"yaxis\":\"y\",\"type\":\"scattergl\"},{\"hovertemplate\":\"job_role=Data Scientist<br>index=%{x}<br>total_characters=%{y}<extra></extra>\",\"legendgroup\":\"Data Scientist\",\"marker\":{\"color\":\"#00cc96\",\"symbol\":\"circle\"},\"mode\":\"markers\",\"name\":\"Data Scientist\",\"showlegend\":true,\"x\":[600,601,602,603,604,605,606,607,608,609,610,611,612,613,614,615,616,617,618,619,620,621,622,623,624,625,626,627,628,629,630,631,632,633,634,635,636,637,638,639,640,641,642,643,644,645,646,647,648,649,650,651,652,653,654,655,656,657,658,659,660,661,662,663,664,665,666,667,668,669,670,671,672,673,674,675,676,677,678,679,680,681,682,683,684,685,686,687,688,689,690,691,692,693,694,695,696,697,698,699,700,701,702,703,704,705,706,707,708,709,710,711,712,713,714,715,716,717,718,719,720,721,722,723,724,725,726,727,728,729,730,731,732,733,734,735,736,737,738,739,740,741,742,743,744,745,746,747,748,749,750,751,752,753,754,755,756,757,758,759,760,761,762,763,764,765,766,767,768,769,770,771,772,773,774,775,776,777,778,779,780,781,782,783,784,785,786,787,788,789,790,791,792,793,794,795,796,797,798,799,800,801,802,803,804,805,806,807,808,809,810,811,812,813,814,815,816,817,818,819,820,821,822,823,824,825,826,827,828,829,830,831,832,833,834,835,836,837,838,839,840,841,842,843,844,845,846,847,848,849,850,851,852,853,854,855,856,857,858,859,860,861,862,863,864,865,866,867,868,869,870,871,872,873,874,875,876,877,878,879,880,881,882,883,884,885,886,887,888,889,890,891,892,893,894,895,896,897,898,899],\"xaxis\":\"x\",\"y\":[147,159,124,161,120,161,159,143,159,126,160,160,142,154,157,159,159,158,160,128,150,161,143,153,160,158,160,158,143,136,151,154,161,153,119,161,126,152,118,156,126,150,158,139,159,127,157,154,161,158,160,142,156,157,136,122,161,115,126,133,115,153,149,160,153,155,156,151,135,126,136,127,133,160,133,132,153,153,127,161,154,155,137,155,135,135,158,160,127,158,153,144,161,155,155,150,156,160,140,159,141,157,159,154,151,159,135,139,158,157,159,114,153,160,154,157,145,121,156,155,148,161,159,159,145,152,158,159,154,150,120,155,136,135,129,157,155,115,158,111,158,157,156,158,159,160,125,158,159,120,137,157,130,152,124,156,155,159,63,157,158,156,138,131,147,156,158,159,131,160,65,158,85,134,161,128,156,153,161,120,121,135,158,156,161,134,159,130,112,155,159,148,158,145,158,155,161,159,159,161,159,148,119,117,160,58,159,154,158,118,161,120,85,145,150,158,161,161,112,155,161,158,156,158,145,152,160,153,150,158,161,161,159,159,157,155,161,120,141,156,161,156,145,160,161,152,148,160,159,154,161,127,158,161,158,161,157,158,149,160,154,160,158,156,154,150,157,155,129,159,155,130,159,159,160,159,159,130,159,160,158,156,158,152,161,29,114,122,115,158,156,149,153,148,157,157,159,126,153,155],\"yaxis\":\"y\",\"type\":\"scattergl\"},{\"hovertemplate\":\"job_role=Machine Learning Engineer<br>index=%{x}<br>total_characters=%{y}<extra></extra>\",\"legendgroup\":\"Machine Learning Engineer\",\"marker\":{\"color\":\"#ab63fa\",\"symbol\":\"circle\"},\"mode\":\"markers\",\"name\":\"Machine Learning Engineer\",\"showlegend\":true,\"x\":[900,901,902,903,904,905,906,907,908,909,910,911,912,913,914,915,916,917,918,919,920,921,922,923,924,925,926,927,928,929,930,931,932,933,934,935,936,937,938,939,940,941,942,943,944,945,946,947,948,949,950,951,952,953,954,955,956,957,958,959,960,961,962,963,964,965,966,967,968,969,970,971,972,973,974,975,976,977,978,979,980,981,982,983,984,985,986,987,988,989,990,991,992,993,994,995,996,997,998,999,1000,1001,1002,1003,1004,1005,1006,1007,1008,1009,1010,1011,1012,1013,1014,1015,1016,1017,1018,1019,1020,1021,1022,1023,1024,1025,1026,1027,1028,1029,1030,1031,1032,1033,1034,1035,1036,1037,1038,1039,1040,1041,1042,1043,1044,1045,1046,1047,1048,1049,1050,1051,1052,1053,1054,1055,1056,1057,1058,1059,1060,1061,1062,1063,1064,1065,1066,1067,1068,1069,1070,1071,1072,1073,1074,1075,1076,1077,1078,1079,1080,1081,1082,1083,1084,1085,1086,1087,1088,1089,1090,1091,1092,1093,1094,1095,1096,1097,1098,1099,1100,1101,1102,1103,1104,1105,1106,1107,1108,1109,1110,1111,1112,1113,1114,1115,1116,1117,1118,1119,1120,1121,1122,1123,1124,1125,1126,1127,1128,1129,1130,1131,1132,1133,1134,1135,1136,1137,1138,1139,1140,1141,1142,1143,1144,1145,1146,1147,1148,1149,1150,1151,1152,1153,1154,1155,1156,1157,1158,1159,1160,1161,1162,1163,1164,1165,1166,1167,1168,1169,1170,1171,1172,1173,1174,1175,1176,1177,1178,1179,1180,1181,1182,1183,1184,1185,1186,1187,1188,1189,1190,1191,1192,1193,1194,1195,1196,1197,1198,1199],\"xaxis\":\"x\",\"y\":[158,158,155,154,153,141,154,158,154,160,146,145,157,65,157,158,151,157,161,161,151,159,115,147,135,156,157,158,112,159,138,151,153,153,154,141,158,137,155,157,155,160,139,161,160,154,147,127,158,137,158,157,155,153,161,161,161,135,148,161,156,135,158,145,152,130,157,130,161,155,161,143,160,157,123,151,160,153,157,157,156,138,153,156,156,160,111,137,157,137,160,158,161,157,160,137,127,159,150,120,161,154,138,148,135,159,157,124,154,120,151,155,159,156,127,161,158,154,157,155,160,160,147,161,152,156,155,141,145,160,161,160,155,116,87,157,152,156,156,127,161,161,124,154,156,147,159,157,154,158,155,161,160,159,157,160,155,158,124,154,157,161,157,160,141,156,117,159,160,161,157,157,160,159,156,160,160,159,153,160,158,161,161,161,133,157,161,159,156,156,160,115,140,161,155,160,152,128,157,150,158,158,156,158,152,140,135,132,111,151,149,157,128,141,160,130,161,158,135,150,156,159,157,157,154,146,157,160,157,161,155,157,160,152,123,159,156,126,148,157,159,160,155,145,155,129,155,145,132,157,159,154,156,155,147,158,157,160,141,160,130,157,145,156,148,123,155,156,151,152,147,155,159,138,157,159,133,158,154,145,161,151,160,161,161,131,147,160,155,157,160,152,130,159,154,144,161,156,155,153],\"yaxis\":\"y\",\"type\":\"scattergl\"}],                        {\"template\":{\"data\":{\"bar\":[{\"error_x\":{\"color\":\"#2a3f5f\"},\"error_y\":{\"color\":\"#2a3f5f\"},\"marker\":{\"line\":{\"color\":\"#E5ECF6\",\"width\":0.5},\"pattern\":{\"fillmode\":\"overlay\",\"size\":10,\"solidity\":0.2}},\"type\":\"bar\"}],\"barpolar\":[{\"marker\":{\"line\":{\"color\":\"#E5ECF6\",\"width\":0.5},\"pattern\":{\"fillmode\":\"overlay\",\"size\":10,\"solidity\":0.2}},\"type\":\"barpolar\"}],\"carpet\":[{\"aaxis\":{\"endlinecolor\":\"#2a3f5f\",\"gridcolor\":\"white\",\"linecolor\":\"white\",\"minorgridcolor\":\"white\",\"startlinecolor\":\"#2a3f5f\"},\"baxis\":{\"endlinecolor\":\"#2a3f5f\",\"gridcolor\":\"white\",\"linecolor\":\"white\",\"minorgridcolor\":\"white\",\"startlinecolor\":\"#2a3f5f\"},\"type\":\"carpet\"}],\"choropleth\":[{\"colorbar\":{\"outlinewidth\":0,\"ticks\":\"\"},\"type\":\"choropleth\"}],\"contour\":[{\"colorbar\":{\"outlinewidth\":0,\"ticks\":\"\"},\"colorscale\":[[0.0,\"#0d0887\"],[0.1111111111111111,\"#46039f\"],[0.2222222222222222,\"#7201a8\"],[0.3333333333333333,\"#9c179e\"],[0.4444444444444444,\"#bd3786\"],[0.5555555555555556,\"#d8576b\"],[0.6666666666666666,\"#ed7953\"],[0.7777777777777778,\"#fb9f3a\"],[0.8888888888888888,\"#fdca26\"],[1.0,\"#f0f921\"]],\"type\":\"contour\"}],\"contourcarpet\":[{\"colorbar\":{\"outlinewidth\":0,\"ticks\":\"\"},\"type\":\"contourcarpet\"}],\"heatmap\":[{\"colorbar\":{\"outlinewidth\":0,\"ticks\":\"\"},\"colorscale\":[[0.0,\"#0d0887\"],[0.1111111111111111,\"#46039f\"],[0.2222222222222222,\"#7201a8\"],[0.3333333333333333,\"#9c179e\"],[0.4444444444444444,\"#bd3786\"],[0.5555555555555556,\"#d8576b\"],[0.6666666666666666,\"#ed7953\"],[0.7777777777777778,\"#fb9f3a\"],[0.8888888888888888,\"#fdca26\"],[1.0,\"#f0f921\"]],\"type\":\"heatmap\"}],\"heatmapgl\":[{\"colorbar\":{\"outlinewidth\":0,\"ticks\":\"\"},\"colorscale\":[[0.0,\"#0d0887\"],[0.1111111111111111,\"#46039f\"],[0.2222222222222222,\"#7201a8\"],[0.3333333333333333,\"#9c179e\"],[0.4444444444444444,\"#bd3786\"],[0.5555555555555556,\"#d8576b\"],[0.6666666666666666,\"#ed7953\"],[0.7777777777777778,\"#fb9f3a\"],[0.8888888888888888,\"#fdca26\"],[1.0,\"#f0f921\"]],\"type\":\"heatmapgl\"}],\"histogram\":[{\"marker\":{\"pattern\":{\"fillmode\":\"overlay\",\"size\":10,\"solidity\":0.2}},\"type\":\"histogram\"}],\"histogram2d\":[{\"colorbar\":{\"outlinewidth\":0,\"ticks\":\"\"},\"colorscale\":[[0.0,\"#0d0887\"],[0.1111111111111111,\"#46039f\"],[0.2222222222222222,\"#7201a8\"],[0.3333333333333333,\"#9c179e\"],[0.4444444444444444,\"#bd3786\"],[0.5555555555555556,\"#d8576b\"],[0.6666666666666666,\"#ed7953\"],[0.7777777777777778,\"#fb9f3a\"],[0.8888888888888888,\"#fdca26\"],[1.0,\"#f0f921\"]],\"type\":\"histogram2d\"}],\"histogram2dcontour\":[{\"colorbar\":{\"outlinewidth\":0,\"ticks\":\"\"},\"colorscale\":[[0.0,\"#0d0887\"],[0.1111111111111111,\"#46039f\"],[0.2222222222222222,\"#7201a8\"],[0.3333333333333333,\"#9c179e\"],[0.4444444444444444,\"#bd3786\"],[0.5555555555555556,\"#d8576b\"],[0.6666666666666666,\"#ed7953\"],[0.7777777777777778,\"#fb9f3a\"],[0.8888888888888888,\"#fdca26\"],[1.0,\"#f0f921\"]],\"type\":\"histogram2dcontour\"}],\"mesh3d\":[{\"colorbar\":{\"outlinewidth\":0,\"ticks\":\"\"},\"type\":\"mesh3d\"}],\"parcoords\":[{\"line\":{\"colorbar\":{\"outlinewidth\":0,\"ticks\":\"\"}},\"type\":\"parcoords\"}],\"pie\":[{\"automargin\":true,\"type\":\"pie\"}],\"scatter\":[{\"marker\":{\"colorbar\":{\"outlinewidth\":0,\"ticks\":\"\"}},\"type\":\"scatter\"}],\"scatter3d\":[{\"line\":{\"colorbar\":{\"outlinewidth\":0,\"ticks\":\"\"}},\"marker\":{\"colorbar\":{\"outlinewidth\":0,\"ticks\":\"\"}},\"type\":\"scatter3d\"}],\"scattercarpet\":[{\"marker\":{\"colorbar\":{\"outlinewidth\":0,\"ticks\":\"\"}},\"type\":\"scattercarpet\"}],\"scattergeo\":[{\"marker\":{\"colorbar\":{\"outlinewidth\":0,\"ticks\":\"\"}},\"type\":\"scattergeo\"}],\"scattergl\":[{\"marker\":{\"colorbar\":{\"outlinewidth\":0,\"ticks\":\"\"}},\"type\":\"scattergl\"}],\"scattermapbox\":[{\"marker\":{\"colorbar\":{\"outlinewidth\":0,\"ticks\":\"\"}},\"type\":\"scattermapbox\"}],\"scatterpolar\":[{\"marker\":{\"colorbar\":{\"outlinewidth\":0,\"ticks\":\"\"}},\"type\":\"scatterpolar\"}],\"scatterpolargl\":[{\"marker\":{\"colorbar\":{\"outlinewidth\":0,\"ticks\":\"\"}},\"type\":\"scatterpolargl\"}],\"scatterternary\":[{\"marker\":{\"colorbar\":{\"outlinewidth\":0,\"ticks\":\"\"}},\"type\":\"scatterternary\"}],\"surface\":[{\"colorbar\":{\"outlinewidth\":0,\"ticks\":\"\"},\"colorscale\":[[0.0,\"#0d0887\"],[0.1111111111111111,\"#46039f\"],[0.2222222222222222,\"#7201a8\"],[0.3333333333333333,\"#9c179e\"],[0.4444444444444444,\"#bd3786\"],[0.5555555555555556,\"#d8576b\"],[0.6666666666666666,\"#ed7953\"],[0.7777777777777778,\"#fb9f3a\"],[0.8888888888888888,\"#fdca26\"],[1.0,\"#f0f921\"]],\"type\":\"surface\"}],\"table\":[{\"cells\":{\"fill\":{\"color\":\"#EBF0F8\"},\"line\":{\"color\":\"white\"}},\"header\":{\"fill\":{\"color\":\"#C8D4E3\"},\"line\":{\"color\":\"white\"}},\"type\":\"table\"}]},\"layout\":{\"annotationdefaults\":{\"arrowcolor\":\"#2a3f5f\",\"arrowhead\":0,\"arrowwidth\":1},\"autotypenumbers\":\"strict\",\"coloraxis\":{\"colorbar\":{\"outlinewidth\":0,\"ticks\":\"\"}},\"colorscale\":{\"diverging\":[[0,\"#8e0152\"],[0.1,\"#c51b7d\"],[0.2,\"#de77ae\"],[0.3,\"#f1b6da\"],[0.4,\"#fde0ef\"],[0.5,\"#f7f7f7\"],[0.6,\"#e6f5d0\"],[0.7,\"#b8e186\"],[0.8,\"#7fbc41\"],[0.9,\"#4d9221\"],[1,\"#276419\"]],\"sequential\":[[0.0,\"#0d0887\"],[0.1111111111111111,\"#46039f\"],[0.2222222222222222,\"#7201a8\"],[0.3333333333333333,\"#9c179e\"],[0.4444444444444444,\"#bd3786\"],[0.5555555555555556,\"#d8576b\"],[0.6666666666666666,\"#ed7953\"],[0.7777777777777778,\"#fb9f3a\"],[0.8888888888888888,\"#fdca26\"],[1.0,\"#f0f921\"]],\"sequentialminus\":[[0.0,\"#0d0887\"],[0.1111111111111111,\"#46039f\"],[0.2222222222222222,\"#7201a8\"],[0.3333333333333333,\"#9c179e\"],[0.4444444444444444,\"#bd3786\"],[0.5555555555555556,\"#d8576b\"],[0.6666666666666666,\"#ed7953\"],[0.7777777777777778,\"#fb9f3a\"],[0.8888888888888888,\"#fdca26\"],[1.0,\"#f0f921\"]]},\"colorway\":[\"#636efa\",\"#EF553B\",\"#00cc96\",\"#ab63fa\",\"#FFA15A\",\"#19d3f3\",\"#FF6692\",\"#B6E880\",\"#FF97FF\",\"#FECB52\"],\"font\":{\"color\":\"#2a3f5f\"},\"geo\":{\"bgcolor\":\"white\",\"lakecolor\":\"white\",\"landcolor\":\"#E5ECF6\",\"showlakes\":true,\"showland\":true,\"subunitcolor\":\"white\"},\"hoverlabel\":{\"align\":\"left\"},\"hovermode\":\"closest\",\"mapbox\":{\"style\":\"light\"},\"paper_bgcolor\":\"white\",\"plot_bgcolor\":\"#E5ECF6\",\"polar\":{\"angularaxis\":{\"gridcolor\":\"white\",\"linecolor\":\"white\",\"ticks\":\"\"},\"bgcolor\":\"#E5ECF6\",\"radialaxis\":{\"gridcolor\":\"white\",\"linecolor\":\"white\",\"ticks\":\"\"}},\"scene\":{\"xaxis\":{\"backgroundcolor\":\"#E5ECF6\",\"gridcolor\":\"white\",\"gridwidth\":2,\"linecolor\":\"white\",\"showbackground\":true,\"ticks\":\"\",\"zerolinecolor\":\"white\"},\"yaxis\":{\"backgroundcolor\":\"#E5ECF6\",\"gridcolor\":\"white\",\"gridwidth\":2,\"linecolor\":\"white\",\"showbackground\":true,\"ticks\":\"\",\"zerolinecolor\":\"white\"},\"zaxis\":{\"backgroundcolor\":\"#E5ECF6\",\"gridcolor\":\"white\",\"gridwidth\":2,\"linecolor\":\"white\",\"showbackground\":true,\"ticks\":\"\",\"zerolinecolor\":\"white\"}},\"shapedefaults\":{\"line\":{\"color\":\"#2a3f5f\"}},\"ternary\":{\"aaxis\":{\"gridcolor\":\"white\",\"linecolor\":\"white\",\"ticks\":\"\"},\"baxis\":{\"gridcolor\":\"white\",\"linecolor\":\"white\",\"ticks\":\"\"},\"bgcolor\":\"#E5ECF6\",\"caxis\":{\"gridcolor\":\"white\",\"linecolor\":\"white\",\"ticks\":\"\"}},\"title\":{\"x\":0.05},\"xaxis\":{\"automargin\":true,\"gridcolor\":\"white\",\"linecolor\":\"white\",\"ticks\":\"\",\"title\":{\"standoff\":15},\"zerolinecolor\":\"white\",\"zerolinewidth\":2},\"yaxis\":{\"automargin\":true,\"gridcolor\":\"white\",\"linecolor\":\"white\",\"ticks\":\"\",\"title\":{\"standoff\":15},\"zerolinecolor\":\"white\",\"zerolinewidth\":2}}},\"xaxis\":{\"anchor\":\"y\",\"domain\":[0.0,1.0],\"title\":{\"text\":\"index\"}},\"yaxis\":{\"anchor\":\"x\",\"domain\":[0.0,1.0],\"title\":{\"text\":\"total_characters\"}},\"legend\":{\"title\":{\"text\":\"job_role\"},\"tracegroupgap\":0},\"margin\":{\"t\":60}},                        {\"responsive\": true}                    ).then(function(){\n",
              "                            \n",
              "var gd = document.getElementById('6b29b7e4-707c-48a7-991a-824ac1cff0cf');\n",
              "var x = new MutationObserver(function (mutations, observer) {{\n",
              "        var display = window.getComputedStyle(gd).display;\n",
              "        if (!display || display === 'none') {{\n",
              "            console.log([gd, 'removed!']);\n",
              "            Plotly.purge(gd);\n",
              "            observer.disconnect();\n",
              "        }}\n",
              "}});\n",
              "\n",
              "// Listen for the removal of the full notebook cells\n",
              "var notebookContainer = gd.closest('#notebook-container');\n",
              "if (notebookContainer) {{\n",
              "    x.observe(notebookContainer, {childList: true});\n",
              "}}\n",
              "\n",
              "// Listen for the clearing of the current output cell\n",
              "var outputEl = gd.closest('.output');\n",
              "if (outputEl) {{\n",
              "    x.observe(outputEl, {childList: true});\n",
              "}}\n",
              "\n",
              "                        })                };                            </script>        </div>\n",
              "</body>\n",
              "</html>"
            ]
          },
          "metadata": {},
          "output_type": "display_data"
        }
      ],
      "source": [
        "fig = px.scatter(desc_dist, y=\"total_characters\", x=\"index\",color='job_role')\n",
        "fig.show()"
      ]
    },
    {
      "cell_type": "markdown",
      "id": "f948bb99",
      "metadata": {
        "id": "f948bb99"
      },
      "source": [
        "#### Show the distribution of salaries in remote jobs based on roles"
      ]
    },
    {
      "cell_type": "code",
      "execution_count": null,
      "id": "90b66e6c",
      "metadata": {
        "colab": {
          "base_uri": "https://localhost:8080/"
        },
        "id": "90b66e6c",
        "outputId": "af79f87e-7a83-4268-8576-080006d4855e"
      },
      "outputs": [
        {
          "name": "stderr",
          "output_type": "stream",
          "text": [
            "<ipython-input-26-45b7d9782167>:6: SettingWithCopyWarning:\n",
            "\n",
            "\n",
            "A value is trying to be set on a copy of a slice from a DataFrame\n",
            "\n",
            "See the caveats in the documentation: https://pandas.pydata.org/pandas-docs/stable/user_guide/indexing.html#returning-a-view-versus-a-copy\n",
            "\n",
            "<ipython-input-26-45b7d9782167>:8: SettingWithCopyWarning:\n",
            "\n",
            "\n",
            "A value is trying to be set on a copy of a slice from a DataFrame\n",
            "\n",
            "See the caveats in the documentation: https://pandas.pydata.org/pandas-docs/stable/user_guide/indexing.html#returning-a-view-versus-a-copy\n",
            "\n"
          ]
        }
      ],
      "source": [
        "#Updated Salary (removed NaN and '?' for Remote Jobs)\n",
        "salary_job=df1[df1['job_location']=='Remote'][['job_role','job_salary_lower','job_salary_upper']]\n",
        "update_Salary_job=salary_job[(salary_job['job_salary_lower']!='?') & (salary_job['job_salary_upper']!='?')]\n",
        "for ind in update_Salary_job.index:\n",
        "  if pd.isnull(update_Salary_job['job_salary_lower'][ind]):\n",
        "    update_Salary_job['job_salary_lower'][ind]=update_Salary_job['job_salary_upper'][ind]\n",
        "  if pd.isnull(update_Salary_job['job_salary_upper'][ind]):\n",
        "    update_Salary_job['job_salary_upper'][ind]=update_Salary_job['job_salary_lower'][ind]"
      ]
    },
    {
      "cell_type": "code",
      "execution_count": null,
      "id": "1fbb671d",
      "metadata": {
        "id": "1fbb671d"
      },
      "outputs": [],
      "source": [
        "data_11 = (update_Salary_job['job_salary_lower'][df1['job_role'] == 'Data Engineer']).to_numpy()\n",
        "data_12 = (update_Salary_job['job_salary_lower'][df1['job_role'] == 'Data Analyst']).to_numpy()\n",
        "data_13 = (update_Salary_job['job_salary_lower'][df1['job_role'] == 'Data Scientist']).to_numpy()\n",
        "data_14 = (update_Salary_job['job_salary_lower'][df1['job_role'] == 'Machine Learning Engineer']).to_numpy()\n",
        "data_21 = (update_Salary_job['job_salary_upper'][df1['job_role'] == 'Data Engineer']).to_numpy()\n",
        "data_22 = (update_Salary_job['job_salary_upper'][df1['job_role'] == 'Data Analyst']).to_numpy()\n",
        "data_23 = (update_Salary_job['job_salary_upper'][df1['job_role'] == 'Data Scientist']).to_numpy()\n",
        "data_24 = (update_Salary_job['job_salary_upper'][df1['job_role'] == 'Machine Learning Engineer']).to_numpy()"
      ]
    },
    {
      "cell_type": "code",
      "execution_count": null,
      "id": "6aed3cf3",
      "metadata": {
        "colab": {
          "base_uri": "https://localhost:8080/",
          "height": 542
        },
        "id": "6aed3cf3",
        "outputId": "34d6aebb-9831-4f66-8ef9-51fe71991ea7"
      },
      "outputs": [
        {
          "data": {
            "text/html": [
              "<html>\n",
              "<head><meta charset=\"utf-8\" /></head>\n",
              "<body>\n",
              "    <div>            <script src=\"https://cdnjs.cloudflare.com/ajax/libs/mathjax/2.7.5/MathJax.js?config=TeX-AMS-MML_SVG\"></script><script type=\"text/javascript\">if (window.MathJax) {MathJax.Hub.Config({SVG: {font: \"STIX-Web\"}});}</script>                <script type=\"text/javascript\">window.PlotlyConfig = {MathJaxConfig: 'local'};</script>\n",
              "        <script src=\"https://cdn.plot.ly/plotly-2.8.3.min.js\"></script>                <div id=\"a6b0011a-d5af-4f6c-acaa-75c59b69daec\" class=\"plotly-graph-div\" style=\"height:525px; width:100%;\"></div>            <script type=\"text/javascript\">                                    window.PLOTLYENV=window.PLOTLYENV || {};                                    if (document.getElementById(\"a6b0011a-d5af-4f6c-acaa-75c59b69daec\")) {                    Plotly.newPlot(                        \"a6b0011a-d5af-4f6c-acaa-75c59b69daec\",                        [{\"alignmentgroup\":\"True\",\"bingroup\":\"x\",\"hovertemplate\":\"series=Data Engineer<br>Salary_Band=%{x}<br>count=%{y}<extra></extra>\",\"legendgroup\":\"Data Engineer\",\"marker\":{\"color\":\"#636efa\",\"opacity\":0.5,\"pattern\":{\"shape\":\"\"}},\"name\":\"Data Engineer\",\"nbinsx\":32,\"offsetgroup\":\"Data Engineer\",\"orientation\":\"v\",\"showlegend\":true,\"x\":[1000000,600000,1800000,1490844,220000,220000,1800000,1490844,1000000,372169,300000,1500000,7000000,120000,500000,\"700000\",1300000,\"2000000\",1440000,\"704145\",1500000,\"1400000\",1000000,600000,\"704145\",\"2000000\",2542788,1500000,400000,1440000,250000,500000,600000,1200000,\"1500000\",3000000,2000000,900000,240000,\"1800000\",400000,1200000,2500000,800000,400000,480000,750000,750000,\"1500000\",400000],\"xaxis\":\"x\",\"yaxis\":\"y\",\"type\":\"histogram\"},{\"alignmentgroup\":\"True\",\"bingroup\":\"x\",\"hovertemplate\":\"series=Data Analyst<br>Salary_Band=%{x}<br>count=%{y}<extra></extra>\",\"legendgroup\":\"Data Analyst\",\"marker\":{\"color\":\"#EF553B\",\"opacity\":0.5,\"pattern\":{\"shape\":\"\"}},\"name\":\"Data Analyst\",\"nbinsx\":32,\"offsetgroup\":\"Data Analyst\",\"orientation\":\"v\",\"showlegend\":true,\"x\":[1200000,1080000,240000,300000,1500000,60000,519000,600000,500000,800000,300000,544050,1500000,1200000,1800000,120000,2000000,750000,1020000,2000000,750000,120000,1020000,720000,600000,2000000,220000,600000,250470],\"xaxis\":\"x\",\"yaxis\":\"y\",\"type\":\"histogram\"},{\"alignmentgroup\":\"True\",\"bingroup\":\"x\",\"hovertemplate\":\"series=Data Scientist<br>Salary_Band=%{x}<br>count=%{y}<extra></extra>\",\"legendgroup\":\"Data Scientist\",\"marker\":{\"color\":\"#00cc96\",\"opacity\":0.5,\"pattern\":{\"shape\":\"\"}},\"name\":\"Data Scientist\",\"nbinsx\":32,\"offsetgroup\":\"Data Scientist\",\"orientation\":\"v\",\"showlegend\":true,\"x\":[1000000,\"500000\",54000,840000,1200000,400000,445700,60000,880000,3000000,18000,18000,880000,3000000,3700000,1200000,1200000,500000,120000,1500000,1500000,543872,800000],\"xaxis\":\"x\",\"yaxis\":\"y\",\"type\":\"histogram\"},{\"alignmentgroup\":\"True\",\"bingroup\":\"x\",\"hovertemplate\":\"series=Machine Learning Engineer<br>Salary_Band=%{x}<br>count=%{y}<extra></extra>\",\"legendgroup\":\"Machine Learning Engineer\",\"marker\":{\"color\":\"#ab63fa\",\"opacity\":0.5,\"pattern\":{\"shape\":\"\"}},\"name\":\"Machine Learning Engineer\",\"nbinsx\":32,\"offsetgroup\":\"Machine Learning Engineer\",\"orientation\":\"v\",\"showlegend\":true,\"x\":[400000,1200000,60000,200000,1490844,700000,1440000,1000000,2000000,1000000,900000,2000000,800000,1000000,6500000,1500000,101316],\"xaxis\":\"x\",\"yaxis\":\"y\",\"type\":\"histogram\"}],                        {\"template\":{\"data\":{\"bar\":[{\"error_x\":{\"color\":\"#2a3f5f\"},\"error_y\":{\"color\":\"#2a3f5f\"},\"marker\":{\"line\":{\"color\":\"#E5ECF6\",\"width\":0.5},\"pattern\":{\"fillmode\":\"overlay\",\"size\":10,\"solidity\":0.2}},\"type\":\"bar\"}],\"barpolar\":[{\"marker\":{\"line\":{\"color\":\"#E5ECF6\",\"width\":0.5},\"pattern\":{\"fillmode\":\"overlay\",\"size\":10,\"solidity\":0.2}},\"type\":\"barpolar\"}],\"carpet\":[{\"aaxis\":{\"endlinecolor\":\"#2a3f5f\",\"gridcolor\":\"white\",\"linecolor\":\"white\",\"minorgridcolor\":\"white\",\"startlinecolor\":\"#2a3f5f\"},\"baxis\":{\"endlinecolor\":\"#2a3f5f\",\"gridcolor\":\"white\",\"linecolor\":\"white\",\"minorgridcolor\":\"white\",\"startlinecolor\":\"#2a3f5f\"},\"type\":\"carpet\"}],\"choropleth\":[{\"colorbar\":{\"outlinewidth\":0,\"ticks\":\"\"},\"type\":\"choropleth\"}],\"contour\":[{\"colorbar\":{\"outlinewidth\":0,\"ticks\":\"\"},\"colorscale\":[[0.0,\"#0d0887\"],[0.1111111111111111,\"#46039f\"],[0.2222222222222222,\"#7201a8\"],[0.3333333333333333,\"#9c179e\"],[0.4444444444444444,\"#bd3786\"],[0.5555555555555556,\"#d8576b\"],[0.6666666666666666,\"#ed7953\"],[0.7777777777777778,\"#fb9f3a\"],[0.8888888888888888,\"#fdca26\"],[1.0,\"#f0f921\"]],\"type\":\"contour\"}],\"contourcarpet\":[{\"colorbar\":{\"outlinewidth\":0,\"ticks\":\"\"},\"type\":\"contourcarpet\"}],\"heatmap\":[{\"colorbar\":{\"outlinewidth\":0,\"ticks\":\"\"},\"colorscale\":[[0.0,\"#0d0887\"],[0.1111111111111111,\"#46039f\"],[0.2222222222222222,\"#7201a8\"],[0.3333333333333333,\"#9c179e\"],[0.4444444444444444,\"#bd3786\"],[0.5555555555555556,\"#d8576b\"],[0.6666666666666666,\"#ed7953\"],[0.7777777777777778,\"#fb9f3a\"],[0.8888888888888888,\"#fdca26\"],[1.0,\"#f0f921\"]],\"type\":\"heatmap\"}],\"heatmapgl\":[{\"colorbar\":{\"outlinewidth\":0,\"ticks\":\"\"},\"colorscale\":[[0.0,\"#0d0887\"],[0.1111111111111111,\"#46039f\"],[0.2222222222222222,\"#7201a8\"],[0.3333333333333333,\"#9c179e\"],[0.4444444444444444,\"#bd3786\"],[0.5555555555555556,\"#d8576b\"],[0.6666666666666666,\"#ed7953\"],[0.7777777777777778,\"#fb9f3a\"],[0.8888888888888888,\"#fdca26\"],[1.0,\"#f0f921\"]],\"type\":\"heatmapgl\"}],\"histogram\":[{\"marker\":{\"pattern\":{\"fillmode\":\"overlay\",\"size\":10,\"solidity\":0.2}},\"type\":\"histogram\"}],\"histogram2d\":[{\"colorbar\":{\"outlinewidth\":0,\"ticks\":\"\"},\"colorscale\":[[0.0,\"#0d0887\"],[0.1111111111111111,\"#46039f\"],[0.2222222222222222,\"#7201a8\"],[0.3333333333333333,\"#9c179e\"],[0.4444444444444444,\"#bd3786\"],[0.5555555555555556,\"#d8576b\"],[0.6666666666666666,\"#ed7953\"],[0.7777777777777778,\"#fb9f3a\"],[0.8888888888888888,\"#fdca26\"],[1.0,\"#f0f921\"]],\"type\":\"histogram2d\"}],\"histogram2dcontour\":[{\"colorbar\":{\"outlinewidth\":0,\"ticks\":\"\"},\"colorscale\":[[0.0,\"#0d0887\"],[0.1111111111111111,\"#46039f\"],[0.2222222222222222,\"#7201a8\"],[0.3333333333333333,\"#9c179e\"],[0.4444444444444444,\"#bd3786\"],[0.5555555555555556,\"#d8576b\"],[0.6666666666666666,\"#ed7953\"],[0.7777777777777778,\"#fb9f3a\"],[0.8888888888888888,\"#fdca26\"],[1.0,\"#f0f921\"]],\"type\":\"histogram2dcontour\"}],\"mesh3d\":[{\"colorbar\":{\"outlinewidth\":0,\"ticks\":\"\"},\"type\":\"mesh3d\"}],\"parcoords\":[{\"line\":{\"colorbar\":{\"outlinewidth\":0,\"ticks\":\"\"}},\"type\":\"parcoords\"}],\"pie\":[{\"automargin\":true,\"type\":\"pie\"}],\"scatter\":[{\"marker\":{\"colorbar\":{\"outlinewidth\":0,\"ticks\":\"\"}},\"type\":\"scatter\"}],\"scatter3d\":[{\"line\":{\"colorbar\":{\"outlinewidth\":0,\"ticks\":\"\"}},\"marker\":{\"colorbar\":{\"outlinewidth\":0,\"ticks\":\"\"}},\"type\":\"scatter3d\"}],\"scattercarpet\":[{\"marker\":{\"colorbar\":{\"outlinewidth\":0,\"ticks\":\"\"}},\"type\":\"scattercarpet\"}],\"scattergeo\":[{\"marker\":{\"colorbar\":{\"outlinewidth\":0,\"ticks\":\"\"}},\"type\":\"scattergeo\"}],\"scattergl\":[{\"marker\":{\"colorbar\":{\"outlinewidth\":0,\"ticks\":\"\"}},\"type\":\"scattergl\"}],\"scattermapbox\":[{\"marker\":{\"colorbar\":{\"outlinewidth\":0,\"ticks\":\"\"}},\"type\":\"scattermapbox\"}],\"scatterpolar\":[{\"marker\":{\"colorbar\":{\"outlinewidth\":0,\"ticks\":\"\"}},\"type\":\"scatterpolar\"}],\"scatterpolargl\":[{\"marker\":{\"colorbar\":{\"outlinewidth\":0,\"ticks\":\"\"}},\"type\":\"scatterpolargl\"}],\"scatterternary\":[{\"marker\":{\"colorbar\":{\"outlinewidth\":0,\"ticks\":\"\"}},\"type\":\"scatterternary\"}],\"surface\":[{\"colorbar\":{\"outlinewidth\":0,\"ticks\":\"\"},\"colorscale\":[[0.0,\"#0d0887\"],[0.1111111111111111,\"#46039f\"],[0.2222222222222222,\"#7201a8\"],[0.3333333333333333,\"#9c179e\"],[0.4444444444444444,\"#bd3786\"],[0.5555555555555556,\"#d8576b\"],[0.6666666666666666,\"#ed7953\"],[0.7777777777777778,\"#fb9f3a\"],[0.8888888888888888,\"#fdca26\"],[1.0,\"#f0f921\"]],\"type\":\"surface\"}],\"table\":[{\"cells\":{\"fill\":{\"color\":\"#EBF0F8\"},\"line\":{\"color\":\"white\"}},\"header\":{\"fill\":{\"color\":\"#C8D4E3\"},\"line\":{\"color\":\"white\"}},\"type\":\"table\"}]},\"layout\":{\"annotationdefaults\":{\"arrowcolor\":\"#2a3f5f\",\"arrowhead\":0,\"arrowwidth\":1},\"autotypenumbers\":\"strict\",\"coloraxis\":{\"colorbar\":{\"outlinewidth\":0,\"ticks\":\"\"}},\"colorscale\":{\"diverging\":[[0,\"#8e0152\"],[0.1,\"#c51b7d\"],[0.2,\"#de77ae\"],[0.3,\"#f1b6da\"],[0.4,\"#fde0ef\"],[0.5,\"#f7f7f7\"],[0.6,\"#e6f5d0\"],[0.7,\"#b8e186\"],[0.8,\"#7fbc41\"],[0.9,\"#4d9221\"],[1,\"#276419\"]],\"sequential\":[[0.0,\"#0d0887\"],[0.1111111111111111,\"#46039f\"],[0.2222222222222222,\"#7201a8\"],[0.3333333333333333,\"#9c179e\"],[0.4444444444444444,\"#bd3786\"],[0.5555555555555556,\"#d8576b\"],[0.6666666666666666,\"#ed7953\"],[0.7777777777777778,\"#fb9f3a\"],[0.8888888888888888,\"#fdca26\"],[1.0,\"#f0f921\"]],\"sequentialminus\":[[0.0,\"#0d0887\"],[0.1111111111111111,\"#46039f\"],[0.2222222222222222,\"#7201a8\"],[0.3333333333333333,\"#9c179e\"],[0.4444444444444444,\"#bd3786\"],[0.5555555555555556,\"#d8576b\"],[0.6666666666666666,\"#ed7953\"],[0.7777777777777778,\"#fb9f3a\"],[0.8888888888888888,\"#fdca26\"],[1.0,\"#f0f921\"]]},\"colorway\":[\"#636efa\",\"#EF553B\",\"#00cc96\",\"#ab63fa\",\"#FFA15A\",\"#19d3f3\",\"#FF6692\",\"#B6E880\",\"#FF97FF\",\"#FECB52\"],\"font\":{\"color\":\"#2a3f5f\"},\"geo\":{\"bgcolor\":\"white\",\"lakecolor\":\"white\",\"landcolor\":\"#E5ECF6\",\"showlakes\":true,\"showland\":true,\"subunitcolor\":\"white\"},\"hoverlabel\":{\"align\":\"left\"},\"hovermode\":\"closest\",\"mapbox\":{\"style\":\"light\"},\"paper_bgcolor\":\"white\",\"plot_bgcolor\":\"#E5ECF6\",\"polar\":{\"angularaxis\":{\"gridcolor\":\"white\",\"linecolor\":\"white\",\"ticks\":\"\"},\"bgcolor\":\"#E5ECF6\",\"radialaxis\":{\"gridcolor\":\"white\",\"linecolor\":\"white\",\"ticks\":\"\"}},\"scene\":{\"xaxis\":{\"backgroundcolor\":\"#E5ECF6\",\"gridcolor\":\"white\",\"gridwidth\":2,\"linecolor\":\"white\",\"showbackground\":true,\"ticks\":\"\",\"zerolinecolor\":\"white\"},\"yaxis\":{\"backgroundcolor\":\"#E5ECF6\",\"gridcolor\":\"white\",\"gridwidth\":2,\"linecolor\":\"white\",\"showbackground\":true,\"ticks\":\"\",\"zerolinecolor\":\"white\"},\"zaxis\":{\"backgroundcolor\":\"#E5ECF6\",\"gridcolor\":\"white\",\"gridwidth\":2,\"linecolor\":\"white\",\"showbackground\":true,\"ticks\":\"\",\"zerolinecolor\":\"white\"}},\"shapedefaults\":{\"line\":{\"color\":\"#2a3f5f\"}},\"ternary\":{\"aaxis\":{\"gridcolor\":\"white\",\"linecolor\":\"white\",\"ticks\":\"\"},\"baxis\":{\"gridcolor\":\"white\",\"linecolor\":\"white\",\"ticks\":\"\"},\"bgcolor\":\"#E5ECF6\",\"caxis\":{\"gridcolor\":\"white\",\"linecolor\":\"white\",\"ticks\":\"\"}},\"title\":{\"x\":0.05},\"xaxis\":{\"automargin\":true,\"gridcolor\":\"white\",\"linecolor\":\"white\",\"ticks\":\"\",\"title\":{\"standoff\":15},\"zerolinecolor\":\"white\",\"zerolinewidth\":2},\"yaxis\":{\"automargin\":true,\"gridcolor\":\"white\",\"linecolor\":\"white\",\"ticks\":\"\",\"title\":{\"standoff\":15},\"zerolinecolor\":\"white\",\"zerolinewidth\":2}}},\"xaxis\":{\"anchor\":\"y\",\"domain\":[0.0,1.0],\"title\":{\"text\":\"Salary_Band\"}},\"yaxis\":{\"anchor\":\"x\",\"domain\":[0.0,1.0],\"title\":{\"text\":\"count\"}},\"legend\":{\"title\":{\"text\":\"series\"},\"tracegroupgap\":0},\"title\":{\"text\":\"Lower Salary\"},\"barmode\":\"overlay\"},                        {\"responsive\": true}                    ).then(function(){\n",
              "                            \n",
              "var gd = document.getElementById('a6b0011a-d5af-4f6c-acaa-75c59b69daec');\n",
              "var x = new MutationObserver(function (mutations, observer) {{\n",
              "        var display = window.getComputedStyle(gd).display;\n",
              "        if (!display || display === 'none') {{\n",
              "            console.log([gd, 'removed!']);\n",
              "            Plotly.purge(gd);\n",
              "            observer.disconnect();\n",
              "        }}\n",
              "}});\n",
              "\n",
              "// Listen for the removal of the full notebook cells\n",
              "var notebookContainer = gd.closest('#notebook-container');\n",
              "if (notebookContainer) {{\n",
              "    x.observe(notebookContainer, {childList: true});\n",
              "}}\n",
              "\n",
              "// Listen for the clearing of the current output cell\n",
              "var outputEl = gd.closest('.output');\n",
              "if (outputEl) {{\n",
              "    x.observe(outputEl, {childList: true});\n",
              "}}\n",
              "\n",
              "                        })                };                            </script>        </div>\n",
              "</body>\n",
              "</html>"
            ]
          },
          "metadata": {},
          "output_type": "display_data"
        }
      ],
      "source": [
        "df_low_sal =pd.DataFrame(dict(\n",
        "    series=np.concatenate(([\"Data Engineer\"]*len(data_11), [\"Data Analyst\"]*len(data_12), [\"Data Scientist\"]*len(data_13), [\"Machine Learning Engineer\"]*len(data_14))),\n",
        "    Salary_Band  =np.concatenate((data_11,data_12, data_13, data_14))))\n",
        "px.histogram(df_low_sal, x=\"Salary_Band\", color=\"series\", barmode=\"overlay\",  nbins=32, title = 'Lower Salary')"
      ]
    },
    {
      "cell_type": "code",
      "execution_count": null,
      "id": "5ea21437",
      "metadata": {
        "colab": {
          "base_uri": "https://localhost:8080/",
          "height": 542
        },
        "id": "5ea21437",
        "outputId": "49f1ca1e-7f55-4df3-b14b-0f0529965006"
      },
      "outputs": [
        {
          "data": {
            "text/html": [
              "<html>\n",
              "<head><meta charset=\"utf-8\" /></head>\n",
              "<body>\n",
              "    <div>            <script src=\"https://cdnjs.cloudflare.com/ajax/libs/mathjax/2.7.5/MathJax.js?config=TeX-AMS-MML_SVG\"></script><script type=\"text/javascript\">if (window.MathJax) {MathJax.Hub.Config({SVG: {font: \"STIX-Web\"}});}</script>                <script type=\"text/javascript\">window.PlotlyConfig = {MathJaxConfig: 'local'};</script>\n",
              "        <script src=\"https://cdn.plot.ly/plotly-2.8.3.min.js\"></script>                <div id=\"c6650a8b-c6f3-451d-81e1-ea1b307143b8\" class=\"plotly-graph-div\" style=\"height:525px; width:100%;\"></div>            <script type=\"text/javascript\">                                    window.PLOTLYENV=window.PLOTLYENV || {};                                    if (document.getElementById(\"c6650a8b-c6f3-451d-81e1-ea1b307143b8\")) {                    Plotly.newPlot(                        \"c6650a8b-c6f3-451d-81e1-ea1b307143b8\",                        [{\"alignmentgroup\":\"True\",\"bingroup\":\"x\",\"hovertemplate\":\"series=Data Engineer<br>Salary_Band=%{x}<br>count=%{y}<extra></extra>\",\"legendgroup\":\"Data Engineer\",\"marker\":{\"color\":\"#636efa\",\"opacity\":0.5,\"pattern\":{\"shape\":\"\"}},\"name\":\"Data Engineer\",\"nbinsx\":32,\"offsetgroup\":\"Data Engineer\",\"orientation\":\"v\",\"showlegend\":true,\"x\":[3000000,1200000,1800000,1490844,660000,660000,1800000,1490844,2000000,1631390,1500000,2200000,8000000,350000,800000,\"700000\",1300000,\"2000000\",1440000,\"704145\",3000000,\"1400000\",2000000,1400000,\"704145\",\"2000000\",2542788,3000000,700000,1440000,500000,800000,1400000,3000000,\"1500000\",3000000,2500000,1200000,240000,\"1800000\",800000,1200000,3000000,1200000,800000,480000,850000,850000,\"1500000\",800000],\"xaxis\":\"x\",\"yaxis\":\"y\",\"type\":\"histogram\"},{\"alignmentgroup\":\"True\",\"bingroup\":\"x\",\"hovertemplate\":\"series=Data Analyst<br>Salary_Band=%{x}<br>count=%{y}<extra></extra>\",\"legendgroup\":\"Data Analyst\",\"marker\":{\"color\":\"#EF553B\",\"opacity\":0.5,\"pattern\":{\"shape\":\"\"}},\"name\":\"Data Analyst\",\"nbinsx\":32,\"offsetgroup\":\"Data Analyst\",\"orientation\":\"v\",\"showlegend\":true,\"x\":[1200000,1080000,240000,300000,3000000,180000,2049000,900000,1000000,1200000,500000,2474278,2000000,2500000,1800000,350000,3000000,850000,1020000,3000000,850000,350000,1020000,720000,600000,2000000,220000,600000,1236207],\"xaxis\":\"x\",\"yaxis\":\"y\",\"type\":\"histogram\"},{\"alignmentgroup\":\"True\",\"bingroup\":\"x\",\"hovertemplate\":\"series=Data Scientist<br>Salary_Band=%{x}<br>count=%{y}<extra></extra>\",\"legendgroup\":\"Data Scientist\",\"marker\":{\"color\":\"#00cc96\",\"opacity\":0.5,\"pattern\":{\"shape\":\"\"}},\"name\":\"Data Scientist\",\"nbinsx\":32,\"offsetgroup\":\"Data Scientist\",\"orientation\":\"v\",\"showlegend\":true,\"x\":[1000000,\"500000\",54000,840000,1800000,700000,600000,180000,880000,4000000,18000,18000,880000,4000000,3700000,3000000,2000000,800000,120000,2800000,2800000,664792,1200000],\"xaxis\":\"x\",\"yaxis\":\"y\",\"type\":\"histogram\"},{\"alignmentgroup\":\"True\",\"bingroup\":\"x\",\"hovertemplate\":\"series=Machine Learning Engineer<br>Salary_Band=%{x}<br>count=%{y}<extra></extra>\",\"legendgroup\":\"Machine Learning Engineer\",\"marker\":{\"color\":\"#ab63fa\",\"opacity\":0.5,\"pattern\":{\"shape\":\"\"}},\"name\":\"Machine Learning Engineer\",\"nbinsx\":32,\"offsetgroup\":\"Machine Learning Engineer\",\"orientation\":\"v\",\"showlegend\":true,\"x\":[700000,3000000,180000,200000,1490844,800000,1440000,2000000,2800000,2000000,1200000,3000000,1500000,2000000,6500000,2000000,101316],\"xaxis\":\"x\",\"yaxis\":\"y\",\"type\":\"histogram\"}],                        {\"template\":{\"data\":{\"bar\":[{\"error_x\":{\"color\":\"#2a3f5f\"},\"error_y\":{\"color\":\"#2a3f5f\"},\"marker\":{\"line\":{\"color\":\"#E5ECF6\",\"width\":0.5},\"pattern\":{\"fillmode\":\"overlay\",\"size\":10,\"solidity\":0.2}},\"type\":\"bar\"}],\"barpolar\":[{\"marker\":{\"line\":{\"color\":\"#E5ECF6\",\"width\":0.5},\"pattern\":{\"fillmode\":\"overlay\",\"size\":10,\"solidity\":0.2}},\"type\":\"barpolar\"}],\"carpet\":[{\"aaxis\":{\"endlinecolor\":\"#2a3f5f\",\"gridcolor\":\"white\",\"linecolor\":\"white\",\"minorgridcolor\":\"white\",\"startlinecolor\":\"#2a3f5f\"},\"baxis\":{\"endlinecolor\":\"#2a3f5f\",\"gridcolor\":\"white\",\"linecolor\":\"white\",\"minorgridcolor\":\"white\",\"startlinecolor\":\"#2a3f5f\"},\"type\":\"carpet\"}],\"choropleth\":[{\"colorbar\":{\"outlinewidth\":0,\"ticks\":\"\"},\"type\":\"choropleth\"}],\"contour\":[{\"colorbar\":{\"outlinewidth\":0,\"ticks\":\"\"},\"colorscale\":[[0.0,\"#0d0887\"],[0.1111111111111111,\"#46039f\"],[0.2222222222222222,\"#7201a8\"],[0.3333333333333333,\"#9c179e\"],[0.4444444444444444,\"#bd3786\"],[0.5555555555555556,\"#d8576b\"],[0.6666666666666666,\"#ed7953\"],[0.7777777777777778,\"#fb9f3a\"],[0.8888888888888888,\"#fdca26\"],[1.0,\"#f0f921\"]],\"type\":\"contour\"}],\"contourcarpet\":[{\"colorbar\":{\"outlinewidth\":0,\"ticks\":\"\"},\"type\":\"contourcarpet\"}],\"heatmap\":[{\"colorbar\":{\"outlinewidth\":0,\"ticks\":\"\"},\"colorscale\":[[0.0,\"#0d0887\"],[0.1111111111111111,\"#46039f\"],[0.2222222222222222,\"#7201a8\"],[0.3333333333333333,\"#9c179e\"],[0.4444444444444444,\"#bd3786\"],[0.5555555555555556,\"#d8576b\"],[0.6666666666666666,\"#ed7953\"],[0.7777777777777778,\"#fb9f3a\"],[0.8888888888888888,\"#fdca26\"],[1.0,\"#f0f921\"]],\"type\":\"heatmap\"}],\"heatmapgl\":[{\"colorbar\":{\"outlinewidth\":0,\"ticks\":\"\"},\"colorscale\":[[0.0,\"#0d0887\"],[0.1111111111111111,\"#46039f\"],[0.2222222222222222,\"#7201a8\"],[0.3333333333333333,\"#9c179e\"],[0.4444444444444444,\"#bd3786\"],[0.5555555555555556,\"#d8576b\"],[0.6666666666666666,\"#ed7953\"],[0.7777777777777778,\"#fb9f3a\"],[0.8888888888888888,\"#fdca26\"],[1.0,\"#f0f921\"]],\"type\":\"heatmapgl\"}],\"histogram\":[{\"marker\":{\"pattern\":{\"fillmode\":\"overlay\",\"size\":10,\"solidity\":0.2}},\"type\":\"histogram\"}],\"histogram2d\":[{\"colorbar\":{\"outlinewidth\":0,\"ticks\":\"\"},\"colorscale\":[[0.0,\"#0d0887\"],[0.1111111111111111,\"#46039f\"],[0.2222222222222222,\"#7201a8\"],[0.3333333333333333,\"#9c179e\"],[0.4444444444444444,\"#bd3786\"],[0.5555555555555556,\"#d8576b\"],[0.6666666666666666,\"#ed7953\"],[0.7777777777777778,\"#fb9f3a\"],[0.8888888888888888,\"#fdca26\"],[1.0,\"#f0f921\"]],\"type\":\"histogram2d\"}],\"histogram2dcontour\":[{\"colorbar\":{\"outlinewidth\":0,\"ticks\":\"\"},\"colorscale\":[[0.0,\"#0d0887\"],[0.1111111111111111,\"#46039f\"],[0.2222222222222222,\"#7201a8\"],[0.3333333333333333,\"#9c179e\"],[0.4444444444444444,\"#bd3786\"],[0.5555555555555556,\"#d8576b\"],[0.6666666666666666,\"#ed7953\"],[0.7777777777777778,\"#fb9f3a\"],[0.8888888888888888,\"#fdca26\"],[1.0,\"#f0f921\"]],\"type\":\"histogram2dcontour\"}],\"mesh3d\":[{\"colorbar\":{\"outlinewidth\":0,\"ticks\":\"\"},\"type\":\"mesh3d\"}],\"parcoords\":[{\"line\":{\"colorbar\":{\"outlinewidth\":0,\"ticks\":\"\"}},\"type\":\"parcoords\"}],\"pie\":[{\"automargin\":true,\"type\":\"pie\"}],\"scatter\":[{\"marker\":{\"colorbar\":{\"outlinewidth\":0,\"ticks\":\"\"}},\"type\":\"scatter\"}],\"scatter3d\":[{\"line\":{\"colorbar\":{\"outlinewidth\":0,\"ticks\":\"\"}},\"marker\":{\"colorbar\":{\"outlinewidth\":0,\"ticks\":\"\"}},\"type\":\"scatter3d\"}],\"scattercarpet\":[{\"marker\":{\"colorbar\":{\"outlinewidth\":0,\"ticks\":\"\"}},\"type\":\"scattercarpet\"}],\"scattergeo\":[{\"marker\":{\"colorbar\":{\"outlinewidth\":0,\"ticks\":\"\"}},\"type\":\"scattergeo\"}],\"scattergl\":[{\"marker\":{\"colorbar\":{\"outlinewidth\":0,\"ticks\":\"\"}},\"type\":\"scattergl\"}],\"scattermapbox\":[{\"marker\":{\"colorbar\":{\"outlinewidth\":0,\"ticks\":\"\"}},\"type\":\"scattermapbox\"}],\"scatterpolar\":[{\"marker\":{\"colorbar\":{\"outlinewidth\":0,\"ticks\":\"\"}},\"type\":\"scatterpolar\"}],\"scatterpolargl\":[{\"marker\":{\"colorbar\":{\"outlinewidth\":0,\"ticks\":\"\"}},\"type\":\"scatterpolargl\"}],\"scatterternary\":[{\"marker\":{\"colorbar\":{\"outlinewidth\":0,\"ticks\":\"\"}},\"type\":\"scatterternary\"}],\"surface\":[{\"colorbar\":{\"outlinewidth\":0,\"ticks\":\"\"},\"colorscale\":[[0.0,\"#0d0887\"],[0.1111111111111111,\"#46039f\"],[0.2222222222222222,\"#7201a8\"],[0.3333333333333333,\"#9c179e\"],[0.4444444444444444,\"#bd3786\"],[0.5555555555555556,\"#d8576b\"],[0.6666666666666666,\"#ed7953\"],[0.7777777777777778,\"#fb9f3a\"],[0.8888888888888888,\"#fdca26\"],[1.0,\"#f0f921\"]],\"type\":\"surface\"}],\"table\":[{\"cells\":{\"fill\":{\"color\":\"#EBF0F8\"},\"line\":{\"color\":\"white\"}},\"header\":{\"fill\":{\"color\":\"#C8D4E3\"},\"line\":{\"color\":\"white\"}},\"type\":\"table\"}]},\"layout\":{\"annotationdefaults\":{\"arrowcolor\":\"#2a3f5f\",\"arrowhead\":0,\"arrowwidth\":1},\"autotypenumbers\":\"strict\",\"coloraxis\":{\"colorbar\":{\"outlinewidth\":0,\"ticks\":\"\"}},\"colorscale\":{\"diverging\":[[0,\"#8e0152\"],[0.1,\"#c51b7d\"],[0.2,\"#de77ae\"],[0.3,\"#f1b6da\"],[0.4,\"#fde0ef\"],[0.5,\"#f7f7f7\"],[0.6,\"#e6f5d0\"],[0.7,\"#b8e186\"],[0.8,\"#7fbc41\"],[0.9,\"#4d9221\"],[1,\"#276419\"]],\"sequential\":[[0.0,\"#0d0887\"],[0.1111111111111111,\"#46039f\"],[0.2222222222222222,\"#7201a8\"],[0.3333333333333333,\"#9c179e\"],[0.4444444444444444,\"#bd3786\"],[0.5555555555555556,\"#d8576b\"],[0.6666666666666666,\"#ed7953\"],[0.7777777777777778,\"#fb9f3a\"],[0.8888888888888888,\"#fdca26\"],[1.0,\"#f0f921\"]],\"sequentialminus\":[[0.0,\"#0d0887\"],[0.1111111111111111,\"#46039f\"],[0.2222222222222222,\"#7201a8\"],[0.3333333333333333,\"#9c179e\"],[0.4444444444444444,\"#bd3786\"],[0.5555555555555556,\"#d8576b\"],[0.6666666666666666,\"#ed7953\"],[0.7777777777777778,\"#fb9f3a\"],[0.8888888888888888,\"#fdca26\"],[1.0,\"#f0f921\"]]},\"colorway\":[\"#636efa\",\"#EF553B\",\"#00cc96\",\"#ab63fa\",\"#FFA15A\",\"#19d3f3\",\"#FF6692\",\"#B6E880\",\"#FF97FF\",\"#FECB52\"],\"font\":{\"color\":\"#2a3f5f\"},\"geo\":{\"bgcolor\":\"white\",\"lakecolor\":\"white\",\"landcolor\":\"#E5ECF6\",\"showlakes\":true,\"showland\":true,\"subunitcolor\":\"white\"},\"hoverlabel\":{\"align\":\"left\"},\"hovermode\":\"closest\",\"mapbox\":{\"style\":\"light\"},\"paper_bgcolor\":\"white\",\"plot_bgcolor\":\"#E5ECF6\",\"polar\":{\"angularaxis\":{\"gridcolor\":\"white\",\"linecolor\":\"white\",\"ticks\":\"\"},\"bgcolor\":\"#E5ECF6\",\"radialaxis\":{\"gridcolor\":\"white\",\"linecolor\":\"white\",\"ticks\":\"\"}},\"scene\":{\"xaxis\":{\"backgroundcolor\":\"#E5ECF6\",\"gridcolor\":\"white\",\"gridwidth\":2,\"linecolor\":\"white\",\"showbackground\":true,\"ticks\":\"\",\"zerolinecolor\":\"white\"},\"yaxis\":{\"backgroundcolor\":\"#E5ECF6\",\"gridcolor\":\"white\",\"gridwidth\":2,\"linecolor\":\"white\",\"showbackground\":true,\"ticks\":\"\",\"zerolinecolor\":\"white\"},\"zaxis\":{\"backgroundcolor\":\"#E5ECF6\",\"gridcolor\":\"white\",\"gridwidth\":2,\"linecolor\":\"white\",\"showbackground\":true,\"ticks\":\"\",\"zerolinecolor\":\"white\"}},\"shapedefaults\":{\"line\":{\"color\":\"#2a3f5f\"}},\"ternary\":{\"aaxis\":{\"gridcolor\":\"white\",\"linecolor\":\"white\",\"ticks\":\"\"},\"baxis\":{\"gridcolor\":\"white\",\"linecolor\":\"white\",\"ticks\":\"\"},\"bgcolor\":\"#E5ECF6\",\"caxis\":{\"gridcolor\":\"white\",\"linecolor\":\"white\",\"ticks\":\"\"}},\"title\":{\"x\":0.05},\"xaxis\":{\"automargin\":true,\"gridcolor\":\"white\",\"linecolor\":\"white\",\"ticks\":\"\",\"title\":{\"standoff\":15},\"zerolinecolor\":\"white\",\"zerolinewidth\":2},\"yaxis\":{\"automargin\":true,\"gridcolor\":\"white\",\"linecolor\":\"white\",\"ticks\":\"\",\"title\":{\"standoff\":15},\"zerolinecolor\":\"white\",\"zerolinewidth\":2}}},\"xaxis\":{\"anchor\":\"y\",\"domain\":[0.0,1.0],\"title\":{\"text\":\"Salary_Band\"}},\"yaxis\":{\"anchor\":\"x\",\"domain\":[0.0,1.0],\"title\":{\"text\":\"count\"}},\"legend\":{\"title\":{\"text\":\"series\"},\"tracegroupgap\":0},\"title\":{\"text\":\"Upper Salary\"},\"barmode\":\"overlay\"},                        {\"responsive\": true}                    ).then(function(){\n",
              "                            \n",
              "var gd = document.getElementById('c6650a8b-c6f3-451d-81e1-ea1b307143b8');\n",
              "var x = new MutationObserver(function (mutations, observer) {{\n",
              "        var display = window.getComputedStyle(gd).display;\n",
              "        if (!display || display === 'none') {{\n",
              "            console.log([gd, 'removed!']);\n",
              "            Plotly.purge(gd);\n",
              "            observer.disconnect();\n",
              "        }}\n",
              "}});\n",
              "\n",
              "// Listen for the removal of the full notebook cells\n",
              "var notebookContainer = gd.closest('#notebook-container');\n",
              "if (notebookContainer) {{\n",
              "    x.observe(notebookContainer, {childList: true});\n",
              "}}\n",
              "\n",
              "// Listen for the clearing of the current output cell\n",
              "var outputEl = gd.closest('.output');\n",
              "if (outputEl) {{\n",
              "    x.observe(outputEl, {childList: true});\n",
              "}}\n",
              "\n",
              "                        })                };                            </script>        </div>\n",
              "</body>\n",
              "</html>"
            ]
          },
          "metadata": {},
          "output_type": "display_data"
        }
      ],
      "source": [
        "df_up_sal =pd.DataFrame(dict(\n",
        "    series=np.concatenate(([\"Data Engineer\"]*len(data_21), [\"Data Analyst\"]*len(data_22), [\"Data Scientist\"]*len(data_23), [\"Machine Learning Engineer\"]*len(data_24))),\n",
        "    Salary_Band  =np.concatenate((data_21,data_22, data_23, data_24))))\n",
        "px.histogram(df_up_sal, x=\"Salary_Band\", color=\"series\", barmode=\"overlay\",  nbins=32, title = 'Upper Salary')"
      ]
    },
    {
      "cell_type": "markdown",
      "id": "1dc549b3",
      "metadata": {
        "id": "1dc549b3"
      },
      "source": [
        "#### Show the distribution of salaries in 'Banglore'"
      ]
    },
    {
      "cell_type": "code",
      "execution_count": null,
      "id": "f4dc9cfd",
      "metadata": {
        "colab": {
          "base_uri": "https://localhost:8080/"
        },
        "id": "f4dc9cfd",
        "outputId": "51ea54e9-db40-43c2-d124-25c1c300e0bc"
      },
      "outputs": [
        {
          "name": "stderr",
          "output_type": "stream",
          "text": [
            "<ipython-input-30-e1d731f457c2>:8: SettingWithCopyWarning:\n",
            "\n",
            "\n",
            "A value is trying to be set on a copy of a slice from a DataFrame\n",
            "\n",
            "See the caveats in the documentation: https://pandas.pydata.org/pandas-docs/stable/user_guide/indexing.html#returning-a-view-versus-a-copy\n",
            "\n",
            "<ipython-input-30-e1d731f457c2>:6: SettingWithCopyWarning:\n",
            "\n",
            "\n",
            "A value is trying to be set on a copy of a slice from a DataFrame\n",
            "\n",
            "See the caveats in the documentation: https://pandas.pydata.org/pandas-docs/stable/user_guide/indexing.html#returning-a-view-versus-a-copy\n",
            "\n",
            "<ipython-input-30-e1d731f457c2>:9: SettingWithCopyWarning:\n",
            "\n",
            "\n",
            "A value is trying to be set on a copy of a slice from a DataFrame.\n",
            "Try using .loc[row_indexer,col_indexer] = value instead\n",
            "\n",
            "See the caveats in the documentation: https://pandas.pydata.org/pandas-docs/stable/user_guide/indexing.html#returning-a-view-versus-a-copy\n",
            "\n",
            "<ipython-input-30-e1d731f457c2>:10: SettingWithCopyWarning:\n",
            "\n",
            "\n",
            "A value is trying to be set on a copy of a slice from a DataFrame.\n",
            "Try using .loc[row_indexer,col_indexer] = value instead\n",
            "\n",
            "See the caveats in the documentation: https://pandas.pydata.org/pandas-docs/stable/user_guide/indexing.html#returning-a-view-versus-a-copy\n",
            "\n"
          ]
        }
      ],
      "source": [
        "#Updated Salary (removed NaN and '?' for 'Bengaluru')\n",
        "salary_bang=df1[df1['job_location']=='Bengaluru'][['job_role','job_salary_lower','job_salary_upper']]\n",
        "update_Salary_Bang=salary_bang[(salary_bang['job_salary_lower']!='?') & (salary_bang['job_salary_upper']!='?')]\n",
        "for ind in update_Salary_Bang.index:\n",
        "  if pd.isnull(update_Salary_Bang['job_salary_lower'][ind]):\n",
        "    update_Salary_Bang['job_salary_lower'][ind]=update_Salary_Bang['job_salary_upper'][ind]\n",
        "  if pd.isnull(update_Salary_Bang['job_salary_upper'][ind]):\n",
        "    update_Salary_Bang['job_salary_upper'][ind]=update_Salary_Bang['job_salary_lower'][ind]\n",
        "update_Salary_Bang['job_salary_lower'] = pd.to_numeric(update_Salary_Bang['job_salary_lower'])\n",
        "update_Salary_Bang['job_salary_upper'] = pd.to_numeric(update_Salary_Bang['job_salary_upper'])"
      ]
    },
    {
      "cell_type": "code",
      "execution_count": null,
      "id": "c313b637",
      "metadata": {
        "colab": {
          "base_uri": "https://localhost:8080/",
          "height": 542
        },
        "id": "c313b637",
        "outputId": "c773b246-2cd6-4353-c36a-a05f8f3bb670"
      },
      "outputs": [
        {
          "data": {
            "text/html": [
              "<html>\n",
              "<head><meta charset=\"utf-8\" /></head>\n",
              "<body>\n",
              "    <div>            <script src=\"https://cdnjs.cloudflare.com/ajax/libs/mathjax/2.7.5/MathJax.js?config=TeX-AMS-MML_SVG\"></script><script type=\"text/javascript\">if (window.MathJax) {MathJax.Hub.Config({SVG: {font: \"STIX-Web\"}});}</script>                <script type=\"text/javascript\">window.PlotlyConfig = {MathJaxConfig: 'local'};</script>\n",
              "        <script src=\"https://cdn.plot.ly/plotly-2.8.3.min.js\"></script>                <div id=\"6fe0fbee-85d1-465b-9064-cfb1a7b5a461\" class=\"plotly-graph-div\" style=\"height:525px; width:100%;\"></div>            <script type=\"text/javascript\">                                    window.PLOTLYENV=window.PLOTLYENV || {};                                    if (document.getElementById(\"6fe0fbee-85d1-465b-9064-cfb1a7b5a461\")) {                    Plotly.newPlot(                        \"6fe0fbee-85d1-465b-9064-cfb1a7b5a461\",                        [{\"alignmentgroup\":\"True\",\"bingroup\":\"x\",\"hovertemplate\":\"x=%{x}<br>count=%{y}<extra></extra>\",\"legendgroup\":\"\",\"marker\":{\"color\":\"#636efa\",\"pattern\":{\"shape\":\"\"}},\"name\":\"\",\"nbinsx\":50,\"offsetgroup\":\"\",\"orientation\":\"v\",\"showlegend\":false,\"x\":[1200000,6000000,2741836,12000000,2160000,1000000,2200000,2500000,2160000,2741836,360000,3000000,3813424,1320000,3813424,700000,3000000,5200000,6000000,6000000,6000000,5600000,3000000,1700000,5600000,1500000,2400000,5000000,1800000,5000000,1000000,1200000,1920000,1200517,360000,7000000,360000,2100000,1100000,3400000,480000,1500000,354624,2111143,300000,8000000,2160000,4300000,720000,2000000,8400000,6500000,2000000,6500000,5000000,3872000,912000,2000000,2500000,8000000,1700000,12000000,800000,2000000,2000000,720000,1600000,4500000,2600000,5200000,5200000,4500000],\"xaxis\":\"x\",\"yaxis\":\"y\",\"type\":\"histogram\"}],                        {\"template\":{\"data\":{\"bar\":[{\"error_x\":{\"color\":\"#2a3f5f\"},\"error_y\":{\"color\":\"#2a3f5f\"},\"marker\":{\"line\":{\"color\":\"#E5ECF6\",\"width\":0.5},\"pattern\":{\"fillmode\":\"overlay\",\"size\":10,\"solidity\":0.2}},\"type\":\"bar\"}],\"barpolar\":[{\"marker\":{\"line\":{\"color\":\"#E5ECF6\",\"width\":0.5},\"pattern\":{\"fillmode\":\"overlay\",\"size\":10,\"solidity\":0.2}},\"type\":\"barpolar\"}],\"carpet\":[{\"aaxis\":{\"endlinecolor\":\"#2a3f5f\",\"gridcolor\":\"white\",\"linecolor\":\"white\",\"minorgridcolor\":\"white\",\"startlinecolor\":\"#2a3f5f\"},\"baxis\":{\"endlinecolor\":\"#2a3f5f\",\"gridcolor\":\"white\",\"linecolor\":\"white\",\"minorgridcolor\":\"white\",\"startlinecolor\":\"#2a3f5f\"},\"type\":\"carpet\"}],\"choropleth\":[{\"colorbar\":{\"outlinewidth\":0,\"ticks\":\"\"},\"type\":\"choropleth\"}],\"contour\":[{\"colorbar\":{\"outlinewidth\":0,\"ticks\":\"\"},\"colorscale\":[[0.0,\"#0d0887\"],[0.1111111111111111,\"#46039f\"],[0.2222222222222222,\"#7201a8\"],[0.3333333333333333,\"#9c179e\"],[0.4444444444444444,\"#bd3786\"],[0.5555555555555556,\"#d8576b\"],[0.6666666666666666,\"#ed7953\"],[0.7777777777777778,\"#fb9f3a\"],[0.8888888888888888,\"#fdca26\"],[1.0,\"#f0f921\"]],\"type\":\"contour\"}],\"contourcarpet\":[{\"colorbar\":{\"outlinewidth\":0,\"ticks\":\"\"},\"type\":\"contourcarpet\"}],\"heatmap\":[{\"colorbar\":{\"outlinewidth\":0,\"ticks\":\"\"},\"colorscale\":[[0.0,\"#0d0887\"],[0.1111111111111111,\"#46039f\"],[0.2222222222222222,\"#7201a8\"],[0.3333333333333333,\"#9c179e\"],[0.4444444444444444,\"#bd3786\"],[0.5555555555555556,\"#d8576b\"],[0.6666666666666666,\"#ed7953\"],[0.7777777777777778,\"#fb9f3a\"],[0.8888888888888888,\"#fdca26\"],[1.0,\"#f0f921\"]],\"type\":\"heatmap\"}],\"heatmapgl\":[{\"colorbar\":{\"outlinewidth\":0,\"ticks\":\"\"},\"colorscale\":[[0.0,\"#0d0887\"],[0.1111111111111111,\"#46039f\"],[0.2222222222222222,\"#7201a8\"],[0.3333333333333333,\"#9c179e\"],[0.4444444444444444,\"#bd3786\"],[0.5555555555555556,\"#d8576b\"],[0.6666666666666666,\"#ed7953\"],[0.7777777777777778,\"#fb9f3a\"],[0.8888888888888888,\"#fdca26\"],[1.0,\"#f0f921\"]],\"type\":\"heatmapgl\"}],\"histogram\":[{\"marker\":{\"pattern\":{\"fillmode\":\"overlay\",\"size\":10,\"solidity\":0.2}},\"type\":\"histogram\"}],\"histogram2d\":[{\"colorbar\":{\"outlinewidth\":0,\"ticks\":\"\"},\"colorscale\":[[0.0,\"#0d0887\"],[0.1111111111111111,\"#46039f\"],[0.2222222222222222,\"#7201a8\"],[0.3333333333333333,\"#9c179e\"],[0.4444444444444444,\"#bd3786\"],[0.5555555555555556,\"#d8576b\"],[0.6666666666666666,\"#ed7953\"],[0.7777777777777778,\"#fb9f3a\"],[0.8888888888888888,\"#fdca26\"],[1.0,\"#f0f921\"]],\"type\":\"histogram2d\"}],\"histogram2dcontour\":[{\"colorbar\":{\"outlinewidth\":0,\"ticks\":\"\"},\"colorscale\":[[0.0,\"#0d0887\"],[0.1111111111111111,\"#46039f\"],[0.2222222222222222,\"#7201a8\"],[0.3333333333333333,\"#9c179e\"],[0.4444444444444444,\"#bd3786\"],[0.5555555555555556,\"#d8576b\"],[0.6666666666666666,\"#ed7953\"],[0.7777777777777778,\"#fb9f3a\"],[0.8888888888888888,\"#fdca26\"],[1.0,\"#f0f921\"]],\"type\":\"histogram2dcontour\"}],\"mesh3d\":[{\"colorbar\":{\"outlinewidth\":0,\"ticks\":\"\"},\"type\":\"mesh3d\"}],\"parcoords\":[{\"line\":{\"colorbar\":{\"outlinewidth\":0,\"ticks\":\"\"}},\"type\":\"parcoords\"}],\"pie\":[{\"automargin\":true,\"type\":\"pie\"}],\"scatter\":[{\"marker\":{\"colorbar\":{\"outlinewidth\":0,\"ticks\":\"\"}},\"type\":\"scatter\"}],\"scatter3d\":[{\"line\":{\"colorbar\":{\"outlinewidth\":0,\"ticks\":\"\"}},\"marker\":{\"colorbar\":{\"outlinewidth\":0,\"ticks\":\"\"}},\"type\":\"scatter3d\"}],\"scattercarpet\":[{\"marker\":{\"colorbar\":{\"outlinewidth\":0,\"ticks\":\"\"}},\"type\":\"scattercarpet\"}],\"scattergeo\":[{\"marker\":{\"colorbar\":{\"outlinewidth\":0,\"ticks\":\"\"}},\"type\":\"scattergeo\"}],\"scattergl\":[{\"marker\":{\"colorbar\":{\"outlinewidth\":0,\"ticks\":\"\"}},\"type\":\"scattergl\"}],\"scattermapbox\":[{\"marker\":{\"colorbar\":{\"outlinewidth\":0,\"ticks\":\"\"}},\"type\":\"scattermapbox\"}],\"scatterpolar\":[{\"marker\":{\"colorbar\":{\"outlinewidth\":0,\"ticks\":\"\"}},\"type\":\"scatterpolar\"}],\"scatterpolargl\":[{\"marker\":{\"colorbar\":{\"outlinewidth\":0,\"ticks\":\"\"}},\"type\":\"scatterpolargl\"}],\"scatterternary\":[{\"marker\":{\"colorbar\":{\"outlinewidth\":0,\"ticks\":\"\"}},\"type\":\"scatterternary\"}],\"surface\":[{\"colorbar\":{\"outlinewidth\":0,\"ticks\":\"\"},\"colorscale\":[[0.0,\"#0d0887\"],[0.1111111111111111,\"#46039f\"],[0.2222222222222222,\"#7201a8\"],[0.3333333333333333,\"#9c179e\"],[0.4444444444444444,\"#bd3786\"],[0.5555555555555556,\"#d8576b\"],[0.6666666666666666,\"#ed7953\"],[0.7777777777777778,\"#fb9f3a\"],[0.8888888888888888,\"#fdca26\"],[1.0,\"#f0f921\"]],\"type\":\"surface\"}],\"table\":[{\"cells\":{\"fill\":{\"color\":\"#EBF0F8\"},\"line\":{\"color\":\"white\"}},\"header\":{\"fill\":{\"color\":\"#C8D4E3\"},\"line\":{\"color\":\"white\"}},\"type\":\"table\"}]},\"layout\":{\"annotationdefaults\":{\"arrowcolor\":\"#2a3f5f\",\"arrowhead\":0,\"arrowwidth\":1},\"autotypenumbers\":\"strict\",\"coloraxis\":{\"colorbar\":{\"outlinewidth\":0,\"ticks\":\"\"}},\"colorscale\":{\"diverging\":[[0,\"#8e0152\"],[0.1,\"#c51b7d\"],[0.2,\"#de77ae\"],[0.3,\"#f1b6da\"],[0.4,\"#fde0ef\"],[0.5,\"#f7f7f7\"],[0.6,\"#e6f5d0\"],[0.7,\"#b8e186\"],[0.8,\"#7fbc41\"],[0.9,\"#4d9221\"],[1,\"#276419\"]],\"sequential\":[[0.0,\"#0d0887\"],[0.1111111111111111,\"#46039f\"],[0.2222222222222222,\"#7201a8\"],[0.3333333333333333,\"#9c179e\"],[0.4444444444444444,\"#bd3786\"],[0.5555555555555556,\"#d8576b\"],[0.6666666666666666,\"#ed7953\"],[0.7777777777777778,\"#fb9f3a\"],[0.8888888888888888,\"#fdca26\"],[1.0,\"#f0f921\"]],\"sequentialminus\":[[0.0,\"#0d0887\"],[0.1111111111111111,\"#46039f\"],[0.2222222222222222,\"#7201a8\"],[0.3333333333333333,\"#9c179e\"],[0.4444444444444444,\"#bd3786\"],[0.5555555555555556,\"#d8576b\"],[0.6666666666666666,\"#ed7953\"],[0.7777777777777778,\"#fb9f3a\"],[0.8888888888888888,\"#fdca26\"],[1.0,\"#f0f921\"]]},\"colorway\":[\"#636efa\",\"#EF553B\",\"#00cc96\",\"#ab63fa\",\"#FFA15A\",\"#19d3f3\",\"#FF6692\",\"#B6E880\",\"#FF97FF\",\"#FECB52\"],\"font\":{\"color\":\"#2a3f5f\"},\"geo\":{\"bgcolor\":\"white\",\"lakecolor\":\"white\",\"landcolor\":\"#E5ECF6\",\"showlakes\":true,\"showland\":true,\"subunitcolor\":\"white\"},\"hoverlabel\":{\"align\":\"left\"},\"hovermode\":\"closest\",\"mapbox\":{\"style\":\"light\"},\"paper_bgcolor\":\"white\",\"plot_bgcolor\":\"#E5ECF6\",\"polar\":{\"angularaxis\":{\"gridcolor\":\"white\",\"linecolor\":\"white\",\"ticks\":\"\"},\"bgcolor\":\"#E5ECF6\",\"radialaxis\":{\"gridcolor\":\"white\",\"linecolor\":\"white\",\"ticks\":\"\"}},\"scene\":{\"xaxis\":{\"backgroundcolor\":\"#E5ECF6\",\"gridcolor\":\"white\",\"gridwidth\":2,\"linecolor\":\"white\",\"showbackground\":true,\"ticks\":\"\",\"zerolinecolor\":\"white\"},\"yaxis\":{\"backgroundcolor\":\"#E5ECF6\",\"gridcolor\":\"white\",\"gridwidth\":2,\"linecolor\":\"white\",\"showbackground\":true,\"ticks\":\"\",\"zerolinecolor\":\"white\"},\"zaxis\":{\"backgroundcolor\":\"#E5ECF6\",\"gridcolor\":\"white\",\"gridwidth\":2,\"linecolor\":\"white\",\"showbackground\":true,\"ticks\":\"\",\"zerolinecolor\":\"white\"}},\"shapedefaults\":{\"line\":{\"color\":\"#2a3f5f\"}},\"ternary\":{\"aaxis\":{\"gridcolor\":\"white\",\"linecolor\":\"white\",\"ticks\":\"\"},\"baxis\":{\"gridcolor\":\"white\",\"linecolor\":\"white\",\"ticks\":\"\"},\"bgcolor\":\"#E5ECF6\",\"caxis\":{\"gridcolor\":\"white\",\"linecolor\":\"white\",\"ticks\":\"\"}},\"title\":{\"x\":0.05},\"xaxis\":{\"automargin\":true,\"gridcolor\":\"white\",\"linecolor\":\"white\",\"ticks\":\"\",\"title\":{\"standoff\":15},\"zerolinecolor\":\"white\",\"zerolinewidth\":2},\"yaxis\":{\"automargin\":true,\"gridcolor\":\"white\",\"linecolor\":\"white\",\"ticks\":\"\",\"title\":{\"standoff\":15},\"zerolinecolor\":\"white\",\"zerolinewidth\":2}}},\"xaxis\":{\"anchor\":\"y\",\"domain\":[0.0,1.0],\"title\":{\"text\":\"x\"}},\"yaxis\":{\"anchor\":\"x\",\"domain\":[0.0,1.0],\"title\":{\"text\":\"count\"}},\"legend\":{\"tracegroupgap\":0},\"title\":{\"text\":\"Salary Distribution in Banglore\"},\"barmode\":\"relative\"},                        {\"responsive\": true}                    ).then(function(){\n",
              "                            \n",
              "var gd = document.getElementById('6fe0fbee-85d1-465b-9064-cfb1a7b5a461');\n",
              "var x = new MutationObserver(function (mutations, observer) {{\n",
              "        var display = window.getComputedStyle(gd).display;\n",
              "        if (!display || display === 'none') {{\n",
              "            console.log([gd, 'removed!']);\n",
              "            Plotly.purge(gd);\n",
              "            observer.disconnect();\n",
              "        }}\n",
              "}});\n",
              "\n",
              "// Listen for the removal of the full notebook cells\n",
              "var notebookContainer = gd.closest('#notebook-container');\n",
              "if (notebookContainer) {{\n",
              "    x.observe(notebookContainer, {childList: true});\n",
              "}}\n",
              "\n",
              "// Listen for the clearing of the current output cell\n",
              "var outputEl = gd.closest('.output');\n",
              "if (outputEl) {{\n",
              "    x.observe(outputEl, {childList: true});\n",
              "}}\n",
              "\n",
              "                        })                };                            </script>        </div>\n",
              "</body>\n",
              "</html>"
            ]
          },
          "metadata": {},
          "output_type": "display_data"
        }
      ],
      "source": [
        "mean_sal_Banglore = []\n",
        "for i in range(len(update_Salary_Bang['job_salary_lower'])):\n",
        "    mean_sal_Banglore.append(list(update_Salary_Bang['job_salary_lower'])[i] + list(update_Salary_Bang['job_salary_upper'])[i])\n",
        "px.histogram(x = mean_sal_Banglore, nbins = 50, title = 'Salary Distribution in Banglore')"
      ]
    },
    {
      "cell_type": "markdown",
      "id": "2867cfb6-e21b-474d-8472-cd81c311e3be",
      "metadata": {
        "id": "2867cfb6-e21b-474d-8472-cd81c311e3be"
      },
      "source": [
        "## Clustering\n",
        "\n",
        "Perform the following type of clustering of salaries for 4 roles(Data Engineer,Data Analyst,Data\n",
        "Scientist,Machine Learning Engineer) separately for different regions in India.\n",
        "1. K-Means/K-Medians\n",
        "2. Agglomerative Clustering\n",
        "\n",
        "Visualize the clusters and answer some questions:\n",
        "1. Is the salary of Data Scientist in Bangalore higher than Hyderabad?\n",
        "2. Which location should I favour for ML Engineer Role?\n"
      ]
    },
    {
      "cell_type": "code",
      "execution_count": null,
      "id": "bBCk8CWeOuE8",
      "metadata": {
        "id": "bBCk8CWeOuE8"
      },
      "outputs": [],
      "source": [
        "columns=df1.columns\n",
        "dfsal=df1[columns]"
      ]
    },
    {
      "cell_type": "code",
      "execution_count": null,
      "id": "C6UlQizWHs6a",
      "metadata": {
        "colab": {
          "base_uri": "https://localhost:8080/"
        },
        "id": "C6UlQizWHs6a",
        "outputId": "43482d03-af78-404b-f74f-b9d604573957"
      },
      "outputs": [
        {
          "data": {
            "text/plain": [
              "Bengaluru          363\n",
              "Remote             244\n",
              "India               77\n",
              "Pune                70\n",
              "Hyderabad           68\n",
              "                  ... \n",
              "Panaji               1\n",
              "Medchal              1\n",
              "Wakad                1\n",
              "Powai                1\n",
              "Electronic City      1\n",
              "Name: job_location, Length: 83, dtype: int64"
            ]
          },
          "execution_count": 78,
          "metadata": {},
          "output_type": "execute_result"
        }
      ],
      "source": [
        "df1['job_location'].value_counts()"
      ]
    },
    {
      "cell_type": "code",
      "execution_count": null,
      "id": "bvMgcTTcKjDo",
      "metadata": {
        "colab": {
          "base_uri": "https://localhost:8080/",
          "height": 582
        },
        "id": "bvMgcTTcKjDo",
        "outputId": "43315fd4-8836-4605-b369-3a8746380414"
      },
      "outputs": [
        {
          "data": {
            "text/html": [
              "\n",
              "  <div id=\"df-da9a2479-d1b6-4759-a036-4d893326526d\">\n",
              "    <div class=\"colab-df-container\">\n",
              "      <div>\n",
              "<style scoped>\n",
              "    .dataframe tbody tr th:only-of-type {\n",
              "        vertical-align: middle;\n",
              "    }\n",
              "\n",
              "    .dataframe tbody tr th {\n",
              "        vertical-align: top;\n",
              "    }\n",
              "\n",
              "    .dataframe thead th {\n",
              "        text-align: right;\n",
              "    }\n",
              "</style>\n",
              "<table border=\"1\" class=\"dataframe\">\n",
              "  <thead>\n",
              "    <tr style=\"text-align: right;\">\n",
              "      <th></th>\n",
              "      <th>title</th>\n",
              "      <th>job_role</th>\n",
              "      <th>companyName</th>\n",
              "      <th>job_location</th>\n",
              "      <th>Job_Summary</th>\n",
              "      <th>post_date</th>\n",
              "      <th>salary</th>\n",
              "      <th>today_date</th>\n",
              "      <th>Job_url</th>\n",
              "      <th>date of posting</th>\n",
              "      <th>job_salary_lower</th>\n",
              "      <th>job_salary_upper</th>\n",
              "      <th>is_remote</th>\n",
              "    </tr>\n",
              "  </thead>\n",
              "  <tbody>\n",
              "    <tr>\n",
              "      <th>0</th>\n",
              "      <td>Software Engineer 2- BIOS Automation</td>\n",
              "      <td>Data Engineer</td>\n",
              "      <td>Dell Technologies</td>\n",
              "      <td>Bengaluru</td>\n",
              "      <td>As a Software Engineer 2, responsible for the ...</td>\n",
              "      <td>PostedPosted 30+ days ago</td>\n",
              "      <td>?</td>\n",
              "      <td>2023-03-15</td>\n",
              "      <td>/pagead/clk?mo=r&amp;ad=-6NYlbfkN0BdeCH3wzlYpD364B...</td>\n",
              "      <td>2023-02-13</td>\n",
              "      <td>?</td>\n",
              "      <td>?</td>\n",
              "      <td>False</td>\n",
              "    </tr>\n",
              "    <tr>\n",
              "      <th>1</th>\n",
              "      <td>Broadcast Engineer</td>\n",
              "      <td>Data Engineer</td>\n",
              "      <td>Conference Technologies, Inc.</td>\n",
              "      <td>Pune</td>\n",
              "      <td>Key participant in business development includ...</td>\n",
              "      <td>PostedPosted 30+ days ago</td>\n",
              "      <td>?</td>\n",
              "      <td>2023-03-15</td>\n",
              "      <td>/pagead/clk?mo=r&amp;ad=-6NYlbfkN0AiNMvsi1d0NtjZYR...</td>\n",
              "      <td>2023-02-13</td>\n",
              "      <td>?</td>\n",
              "      <td>?</td>\n",
              "      <td>False</td>\n",
              "    </tr>\n",
              "    <tr>\n",
              "      <th>2</th>\n",
              "      <td>Software Engineer</td>\n",
              "      <td>Data Engineer</td>\n",
              "      <td>Clarivate</td>\n",
              "      <td>Bengaluru</td>\n",
              "      <td>The team consists of 10-12 engineers and is re...</td>\n",
              "      <td>PostedPosted 30+ days ago</td>\n",
              "      <td>?</td>\n",
              "      <td>2023-03-15</td>\n",
              "      <td>/pagead/clk?mo=r&amp;ad=-6NYlbfkN0BUkGQXKvz_vqTVnr...</td>\n",
              "      <td>2023-02-13</td>\n",
              "      <td>?</td>\n",
              "      <td>?</td>\n",
              "      <td>False</td>\n",
              "    </tr>\n",
              "    <tr>\n",
              "      <th>3</th>\n",
              "      <td>SR Mulesoft Engineer</td>\n",
              "      <td>Data Engineer</td>\n",
              "      <td>Giant Eagle</td>\n",
              "      <td>Yelahanka Satellite Town</td>\n",
              "      <td>Work on problems of moderate scope where analy...</td>\n",
              "      <td>PostedPosted 13 days ago</td>\n",
              "      <td>?</td>\n",
              "      <td>2023-03-15</td>\n",
              "      <td>/pagead/clk?mo=r&amp;ad=-6NYlbfkN0B9Z5kUrYpJSl1jY-...</td>\n",
              "      <td>2023-03-02</td>\n",
              "      <td>?</td>\n",
              "      <td>?</td>\n",
              "      <td>False</td>\n",
              "    </tr>\n",
              "    <tr>\n",
              "      <th>4</th>\n",
              "      <td>R216181 Manager 2 Software Engineering - Embed...</td>\n",
              "      <td>Data Engineer</td>\n",
              "      <td>Dell Technologies</td>\n",
              "      <td>Bengaluru</td>\n",
              "      <td>As a Software Engineering Manager 2, leading a...</td>\n",
              "      <td>PostedPosted 30+ days ago</td>\n",
              "      <td>?</td>\n",
              "      <td>2023-03-15</td>\n",
              "      <td>/pagead/clk?mo=r&amp;ad=-6NYlbfkN0BdeCH3wzlYpD364B...</td>\n",
              "      <td>2023-02-13</td>\n",
              "      <td>?</td>\n",
              "      <td>?</td>\n",
              "      <td>False</td>\n",
              "    </tr>\n",
              "  </tbody>\n",
              "</table>\n",
              "</div>\n",
              "      <button class=\"colab-df-convert\" onclick=\"convertToInteractive('df-da9a2479-d1b6-4759-a036-4d893326526d')\"\n",
              "              title=\"Convert this dataframe to an interactive table.\"\n",
              "              style=\"display:none;\">\n",
              "        \n",
              "  <svg xmlns=\"http://www.w3.org/2000/svg\" height=\"24px\"viewBox=\"0 0 24 24\"\n",
              "       width=\"24px\">\n",
              "    <path d=\"M0 0h24v24H0V0z\" fill=\"none\"/>\n",
              "    <path d=\"M18.56 5.44l.94 2.06.94-2.06 2.06-.94-2.06-.94-.94-2.06-.94 2.06-2.06.94zm-11 1L8.5 8.5l.94-2.06 2.06-.94-2.06-.94L8.5 2.5l-.94 2.06-2.06.94zm10 10l.94 2.06.94-2.06 2.06-.94-2.06-.94-.94-2.06-.94 2.06-2.06.94z\"/><path d=\"M17.41 7.96l-1.37-1.37c-.4-.4-.92-.59-1.43-.59-.52 0-1.04.2-1.43.59L10.3 9.45l-7.72 7.72c-.78.78-.78 2.05 0 2.83L4 21.41c.39.39.9.59 1.41.59.51 0 1.02-.2 1.41-.59l7.78-7.78 2.81-2.81c.8-.78.8-2.07 0-2.86zM5.41 20L4 18.59l7.72-7.72 1.47 1.35L5.41 20z\"/>\n",
              "  </svg>\n",
              "      </button>\n",
              "      \n",
              "  <style>\n",
              "    .colab-df-container {\n",
              "      display:flex;\n",
              "      flex-wrap:wrap;\n",
              "      gap: 12px;\n",
              "    }\n",
              "\n",
              "    .colab-df-convert {\n",
              "      background-color: #E8F0FE;\n",
              "      border: none;\n",
              "      border-radius: 50%;\n",
              "      cursor: pointer;\n",
              "      display: none;\n",
              "      fill: #1967D2;\n",
              "      height: 32px;\n",
              "      padding: 0 0 0 0;\n",
              "      width: 32px;\n",
              "    }\n",
              "\n",
              "    .colab-df-convert:hover {\n",
              "      background-color: #E2EBFA;\n",
              "      box-shadow: 0px 1px 2px rgba(60, 64, 67, 0.3), 0px 1px 3px 1px rgba(60, 64, 67, 0.15);\n",
              "      fill: #174EA6;\n",
              "    }\n",
              "\n",
              "    [theme=dark] .colab-df-convert {\n",
              "      background-color: #3B4455;\n",
              "      fill: #D2E3FC;\n",
              "    }\n",
              "\n",
              "    [theme=dark] .colab-df-convert:hover {\n",
              "      background-color: #434B5C;\n",
              "      box-shadow: 0px 1px 3px 1px rgba(0, 0, 0, 0.15);\n",
              "      filter: drop-shadow(0px 1px 2px rgba(0, 0, 0, 0.3));\n",
              "      fill: #FFFFFF;\n",
              "    }\n",
              "  </style>\n",
              "\n",
              "      <script>\n",
              "        const buttonEl =\n",
              "          document.querySelector('#df-da9a2479-d1b6-4759-a036-4d893326526d button.colab-df-convert');\n",
              "        buttonEl.style.display =\n",
              "          google.colab.kernel.accessAllowed ? 'block' : 'none';\n",
              "\n",
              "        async function convertToInteractive(key) {\n",
              "          const element = document.querySelector('#df-da9a2479-d1b6-4759-a036-4d893326526d');\n",
              "          const dataTable =\n",
              "            await google.colab.kernel.invokeFunction('convertToInteractive',\n",
              "                                                     [key], {});\n",
              "          if (!dataTable) return;\n",
              "\n",
              "          const docLinkHtml = 'Like what you see? Visit the ' +\n",
              "            '<a target=\"_blank\" href=https://colab.research.google.com/notebooks/data_table.ipynb>data table notebook</a>'\n",
              "            + ' to learn more about interactive tables.';\n",
              "          element.innerHTML = '';\n",
              "          dataTable['output_type'] = 'display_data';\n",
              "          await google.colab.output.renderOutput(dataTable, element);\n",
              "          const docLink = document.createElement('div');\n",
              "          docLink.innerHTML = docLinkHtml;\n",
              "          element.appendChild(docLink);\n",
              "        }\n",
              "      </script>\n",
              "    </div>\n",
              "  </div>\n",
              "  "
            ],
            "text/plain": [
              "                                               title       job_role  \\\n",
              "0               Software Engineer 2- BIOS Automation  Data Engineer   \n",
              "1                                 Broadcast Engineer  Data Engineer   \n",
              "2                                  Software Engineer  Data Engineer   \n",
              "3                               SR Mulesoft Engineer  Data Engineer   \n",
              "4  R216181 Manager 2 Software Engineering - Embed...  Data Engineer   \n",
              "\n",
              "                     companyName              job_location  \\\n",
              "0              Dell Technologies                 Bengaluru   \n",
              "1  Conference Technologies, Inc.                      Pune   \n",
              "2                      Clarivate                 Bengaluru   \n",
              "3                    Giant Eagle  Yelahanka Satellite Town   \n",
              "4              Dell Technologies                 Bengaluru   \n",
              "\n",
              "                                         Job_Summary  \\\n",
              "0  As a Software Engineer 2, responsible for the ...   \n",
              "1  Key participant in business development includ...   \n",
              "2  The team consists of 10-12 engineers and is re...   \n",
              "3  Work on problems of moderate scope where analy...   \n",
              "4  As a Software Engineering Manager 2, leading a...   \n",
              "\n",
              "                   post_date salary  today_date  \\\n",
              "0  PostedPosted 30+ days ago      ?  2023-03-15   \n",
              "1  PostedPosted 30+ days ago      ?  2023-03-15   \n",
              "2  PostedPosted 30+ days ago      ?  2023-03-15   \n",
              "3   PostedPosted 13 days ago      ?  2023-03-15   \n",
              "4  PostedPosted 30+ days ago      ?  2023-03-15   \n",
              "\n",
              "                                             Job_url date of posting  \\\n",
              "0  /pagead/clk?mo=r&ad=-6NYlbfkN0BdeCH3wzlYpD364B...      2023-02-13   \n",
              "1  /pagead/clk?mo=r&ad=-6NYlbfkN0AiNMvsi1d0NtjZYR...      2023-02-13   \n",
              "2  /pagead/clk?mo=r&ad=-6NYlbfkN0BUkGQXKvz_vqTVnr...      2023-02-13   \n",
              "3  /pagead/clk?mo=r&ad=-6NYlbfkN0B9Z5kUrYpJSl1jY-...      2023-03-02   \n",
              "4  /pagead/clk?mo=r&ad=-6NYlbfkN0BdeCH3wzlYpD364B...      2023-02-13   \n",
              "\n",
              "  job_salary_lower job_salary_upper  is_remote  \n",
              "0                ?                ?      False  \n",
              "1                ?                ?      False  \n",
              "2                ?                ?      False  \n",
              "3                ?                ?      False  \n",
              "4                ?                ?      False  "
            ]
          },
          "execution_count": 79,
          "metadata": {},
          "output_type": "execute_result"
        }
      ],
      "source": [
        "df1.head()"
      ]
    },
    {
      "cell_type": "code",
      "execution_count": null,
      "id": "WwnD6picK-qr",
      "metadata": {
        "id": "WwnD6picK-qr"
      },
      "outputs": [],
      "source": [
        "columns=df1.columns\n",
        "new_df=df1[columns]\n"
      ]
    },
    {
      "cell_type": "code",
      "execution_count": null,
      "id": "SlgMGjuFMj7A",
      "metadata": {
        "id": "SlgMGjuFMj7A"
      },
      "outputs": [],
      "source": [
        "new_df"
      ]
    },
    {
      "cell_type": "code",
      "execution_count": null,
      "id": "Q8wy0ibwRqHk",
      "metadata": {
        "colab": {
          "base_uri": "https://localhost:8080/",
          "height": 582
        },
        "id": "Q8wy0ibwRqHk",
        "outputId": "5368447f-2543-4b89-bde2-4adaeb4e7af2"
      },
      "outputs": [
        {
          "data": {
            "text/html": [
              "\n",
              "  <div id=\"df-f4daff08-a307-47cf-acbf-7933d359dfdd\">\n",
              "    <div class=\"colab-df-container\">\n",
              "      <div>\n",
              "<style scoped>\n",
              "    .dataframe tbody tr th:only-of-type {\n",
              "        vertical-align: middle;\n",
              "    }\n",
              "\n",
              "    .dataframe tbody tr th {\n",
              "        vertical-align: top;\n",
              "    }\n",
              "\n",
              "    .dataframe thead th {\n",
              "        text-align: right;\n",
              "    }\n",
              "</style>\n",
              "<table border=\"1\" class=\"dataframe\">\n",
              "  <thead>\n",
              "    <tr style=\"text-align: right;\">\n",
              "      <th></th>\n",
              "      <th>title</th>\n",
              "      <th>job_role</th>\n",
              "      <th>companyName</th>\n",
              "      <th>job_location</th>\n",
              "      <th>Job_Summary</th>\n",
              "      <th>post_date</th>\n",
              "      <th>salary</th>\n",
              "      <th>today_date</th>\n",
              "      <th>Job_url</th>\n",
              "      <th>date of posting</th>\n",
              "      <th>job_salary_lower</th>\n",
              "      <th>job_salary_upper</th>\n",
              "      <th>is_remote</th>\n",
              "    </tr>\n",
              "  </thead>\n",
              "  <tbody>\n",
              "    <tr>\n",
              "      <th>0</th>\n",
              "      <td>Software Engineer 2- BIOS Automation</td>\n",
              "      <td>Data Engineer</td>\n",
              "      <td>Dell Technologies</td>\n",
              "      <td>Bengaluru</td>\n",
              "      <td>As a Software Engineer 2, responsible for the ...</td>\n",
              "      <td>PostedPosted 30+ days ago</td>\n",
              "      <td>?</td>\n",
              "      <td>2023-03-15</td>\n",
              "      <td>/pagead/clk?mo=r&amp;ad=-6NYlbfkN0BdeCH3wzlYpD364B...</td>\n",
              "      <td>2023-02-13</td>\n",
              "      <td>?</td>\n",
              "      <td>?</td>\n",
              "      <td>False</td>\n",
              "    </tr>\n",
              "    <tr>\n",
              "      <th>1</th>\n",
              "      <td>Broadcast Engineer</td>\n",
              "      <td>Data Engineer</td>\n",
              "      <td>Conference Technologies, Inc.</td>\n",
              "      <td>Pune</td>\n",
              "      <td>Key participant in business development includ...</td>\n",
              "      <td>PostedPosted 30+ days ago</td>\n",
              "      <td>?</td>\n",
              "      <td>2023-03-15</td>\n",
              "      <td>/pagead/clk?mo=r&amp;ad=-6NYlbfkN0AiNMvsi1d0NtjZYR...</td>\n",
              "      <td>2023-02-13</td>\n",
              "      <td>?</td>\n",
              "      <td>?</td>\n",
              "      <td>False</td>\n",
              "    </tr>\n",
              "    <tr>\n",
              "      <th>2</th>\n",
              "      <td>Software Engineer</td>\n",
              "      <td>Data Engineer</td>\n",
              "      <td>Clarivate</td>\n",
              "      <td>Bengaluru</td>\n",
              "      <td>The team consists of 10-12 engineers and is re...</td>\n",
              "      <td>PostedPosted 30+ days ago</td>\n",
              "      <td>?</td>\n",
              "      <td>2023-03-15</td>\n",
              "      <td>/pagead/clk?mo=r&amp;ad=-6NYlbfkN0BUkGQXKvz_vqTVnr...</td>\n",
              "      <td>2023-02-13</td>\n",
              "      <td>?</td>\n",
              "      <td>?</td>\n",
              "      <td>False</td>\n",
              "    </tr>\n",
              "    <tr>\n",
              "      <th>3</th>\n",
              "      <td>SR Mulesoft Engineer</td>\n",
              "      <td>Data Engineer</td>\n",
              "      <td>Giant Eagle</td>\n",
              "      <td>Yelahanka Satellite Town</td>\n",
              "      <td>Work on problems of moderate scope where analy...</td>\n",
              "      <td>PostedPosted 13 days ago</td>\n",
              "      <td>?</td>\n",
              "      <td>2023-03-15</td>\n",
              "      <td>/pagead/clk?mo=r&amp;ad=-6NYlbfkN0B9Z5kUrYpJSl1jY-...</td>\n",
              "      <td>2023-03-02</td>\n",
              "      <td>?</td>\n",
              "      <td>?</td>\n",
              "      <td>False</td>\n",
              "    </tr>\n",
              "    <tr>\n",
              "      <th>4</th>\n",
              "      <td>R216181 Manager 2 Software Engineering - Embed...</td>\n",
              "      <td>Data Engineer</td>\n",
              "      <td>Dell Technologies</td>\n",
              "      <td>Bengaluru</td>\n",
              "      <td>As a Software Engineering Manager 2, leading a...</td>\n",
              "      <td>PostedPosted 30+ days ago</td>\n",
              "      <td>?</td>\n",
              "      <td>2023-03-15</td>\n",
              "      <td>/pagead/clk?mo=r&amp;ad=-6NYlbfkN0BdeCH3wzlYpD364B...</td>\n",
              "      <td>2023-02-13</td>\n",
              "      <td>?</td>\n",
              "      <td>?</td>\n",
              "      <td>False</td>\n",
              "    </tr>\n",
              "  </tbody>\n",
              "</table>\n",
              "</div>\n",
              "      <button class=\"colab-df-convert\" onclick=\"convertToInteractive('df-f4daff08-a307-47cf-acbf-7933d359dfdd')\"\n",
              "              title=\"Convert this dataframe to an interactive table.\"\n",
              "              style=\"display:none;\">\n",
              "        \n",
              "  <svg xmlns=\"http://www.w3.org/2000/svg\" height=\"24px\"viewBox=\"0 0 24 24\"\n",
              "       width=\"24px\">\n",
              "    <path d=\"M0 0h24v24H0V0z\" fill=\"none\"/>\n",
              "    <path d=\"M18.56 5.44l.94 2.06.94-2.06 2.06-.94-2.06-.94-.94-2.06-.94 2.06-2.06.94zm-11 1L8.5 8.5l.94-2.06 2.06-.94-2.06-.94L8.5 2.5l-.94 2.06-2.06.94zm10 10l.94 2.06.94-2.06 2.06-.94-2.06-.94-.94-2.06-.94 2.06-2.06.94z\"/><path d=\"M17.41 7.96l-1.37-1.37c-.4-.4-.92-.59-1.43-.59-.52 0-1.04.2-1.43.59L10.3 9.45l-7.72 7.72c-.78.78-.78 2.05 0 2.83L4 21.41c.39.39.9.59 1.41.59.51 0 1.02-.2 1.41-.59l7.78-7.78 2.81-2.81c.8-.78.8-2.07 0-2.86zM5.41 20L4 18.59l7.72-7.72 1.47 1.35L5.41 20z\"/>\n",
              "  </svg>\n",
              "      </button>\n",
              "      \n",
              "  <style>\n",
              "    .colab-df-container {\n",
              "      display:flex;\n",
              "      flex-wrap:wrap;\n",
              "      gap: 12px;\n",
              "    }\n",
              "\n",
              "    .colab-df-convert {\n",
              "      background-color: #E8F0FE;\n",
              "      border: none;\n",
              "      border-radius: 50%;\n",
              "      cursor: pointer;\n",
              "      display: none;\n",
              "      fill: #1967D2;\n",
              "      height: 32px;\n",
              "      padding: 0 0 0 0;\n",
              "      width: 32px;\n",
              "    }\n",
              "\n",
              "    .colab-df-convert:hover {\n",
              "      background-color: #E2EBFA;\n",
              "      box-shadow: 0px 1px 2px rgba(60, 64, 67, 0.3), 0px 1px 3px 1px rgba(60, 64, 67, 0.15);\n",
              "      fill: #174EA6;\n",
              "    }\n",
              "\n",
              "    [theme=dark] .colab-df-convert {\n",
              "      background-color: #3B4455;\n",
              "      fill: #D2E3FC;\n",
              "    }\n",
              "\n",
              "    [theme=dark] .colab-df-convert:hover {\n",
              "      background-color: #434B5C;\n",
              "      box-shadow: 0px 1px 3px 1px rgba(0, 0, 0, 0.15);\n",
              "      filter: drop-shadow(0px 1px 2px rgba(0, 0, 0, 0.3));\n",
              "      fill: #FFFFFF;\n",
              "    }\n",
              "  </style>\n",
              "\n",
              "      <script>\n",
              "        const buttonEl =\n",
              "          document.querySelector('#df-f4daff08-a307-47cf-acbf-7933d359dfdd button.colab-df-convert');\n",
              "        buttonEl.style.display =\n",
              "          google.colab.kernel.accessAllowed ? 'block' : 'none';\n",
              "\n",
              "        async function convertToInteractive(key) {\n",
              "          const element = document.querySelector('#df-f4daff08-a307-47cf-acbf-7933d359dfdd');\n",
              "          const dataTable =\n",
              "            await google.colab.kernel.invokeFunction('convertToInteractive',\n",
              "                                                     [key], {});\n",
              "          if (!dataTable) return;\n",
              "\n",
              "          const docLinkHtml = 'Like what you see? Visit the ' +\n",
              "            '<a target=\"_blank\" href=https://colab.research.google.com/notebooks/data_table.ipynb>data table notebook</a>'\n",
              "            + ' to learn more about interactive tables.';\n",
              "          element.innerHTML = '';\n",
              "          dataTable['output_type'] = 'display_data';\n",
              "          await google.colab.output.renderOutput(dataTable, element);\n",
              "          const docLink = document.createElement('div');\n",
              "          docLink.innerHTML = docLinkHtml;\n",
              "          element.appendChild(docLink);\n",
              "        }\n",
              "      </script>\n",
              "    </div>\n",
              "  </div>\n",
              "  "
            ],
            "text/plain": [
              "                                               title       job_role  \\\n",
              "0               Software Engineer 2- BIOS Automation  Data Engineer   \n",
              "1                                 Broadcast Engineer  Data Engineer   \n",
              "2                                  Software Engineer  Data Engineer   \n",
              "3                               SR Mulesoft Engineer  Data Engineer   \n",
              "4  R216181 Manager 2 Software Engineering - Embed...  Data Engineer   \n",
              "\n",
              "                     companyName              job_location  \\\n",
              "0              Dell Technologies                 Bengaluru   \n",
              "1  Conference Technologies, Inc.                      Pune   \n",
              "2                      Clarivate                 Bengaluru   \n",
              "3                    Giant Eagle  Yelahanka Satellite Town   \n",
              "4              Dell Technologies                 Bengaluru   \n",
              "\n",
              "                                         Job_Summary  \\\n",
              "0  As a Software Engineer 2, responsible for the ...   \n",
              "1  Key participant in business development includ...   \n",
              "2  The team consists of 10-12 engineers and is re...   \n",
              "3  Work on problems of moderate scope where analy...   \n",
              "4  As a Software Engineering Manager 2, leading a...   \n",
              "\n",
              "                   post_date salary  today_date  \\\n",
              "0  PostedPosted 30+ days ago      ?  2023-03-15   \n",
              "1  PostedPosted 30+ days ago      ?  2023-03-15   \n",
              "2  PostedPosted 30+ days ago      ?  2023-03-15   \n",
              "3   PostedPosted 13 days ago      ?  2023-03-15   \n",
              "4  PostedPosted 30+ days ago      ?  2023-03-15   \n",
              "\n",
              "                                             Job_url date of posting  \\\n",
              "0  /pagead/clk?mo=r&ad=-6NYlbfkN0BdeCH3wzlYpD364B...      2023-02-13   \n",
              "1  /pagead/clk?mo=r&ad=-6NYlbfkN0AiNMvsi1d0NtjZYR...      2023-02-13   \n",
              "2  /pagead/clk?mo=r&ad=-6NYlbfkN0BUkGQXKvz_vqTVnr...      2023-02-13   \n",
              "3  /pagead/clk?mo=r&ad=-6NYlbfkN0B9Z5kUrYpJSl1jY-...      2023-03-02   \n",
              "4  /pagead/clk?mo=r&ad=-6NYlbfkN0BdeCH3wzlYpD364B...      2023-02-13   \n",
              "\n",
              "  job_salary_lower job_salary_upper  is_remote  \n",
              "0                ?                ?      False  \n",
              "1                ?                ?      False  \n",
              "2                ?                ?      False  \n",
              "3                ?                ?      False  \n",
              "4                ?                ?      False  "
            ]
          },
          "execution_count": 86,
          "metadata": {},
          "output_type": "execute_result"
        }
      ],
      "source": [
        "new_df.head()"
      ]
    },
    {
      "cell_type": "code",
      "execution_count": null,
      "id": "6UT9AVpva1xN",
      "metadata": {
        "id": "6UT9AVpva1xN"
      },
      "outputs": [],
      "source": []
    }
  ],
  "metadata": {
    "colab": {
      "collapsed_sections": [
        "ef0dd773-f22d-472f-9613-201517176181"
      ],
      "provenance": []
    },
    "kernelspec": {
      "display_name": "Python 3 (ipykernel)",
      "language": "python",
      "name": "python3"
    },
    "language_info": {
      "codemirror_mode": {
        "name": "ipython",
        "version": 3
      },
      "file_extension": ".py",
      "mimetype": "text/x-python",
      "name": "python",
      "nbconvert_exporter": "python",
      "pygments_lexer": "ipython3",
      "version": "3.10.12"
    }
  },
  "nbformat": 4,
  "nbformat_minor": 5
}
